{
 "cells": [
  {
   "cell_type": "code",
   "execution_count": 2,
   "metadata": {
    "collapsed": true
   },
   "outputs": [],
   "source": [
    "import numpy as np\n",
    "import matplotlib.pyplot as plt\n",
    "\n",
    "%matplotlib inline"
   ]
  },
  {
   "cell_type": "markdown",
   "metadata": {},
   "source": [
    "## 1. Find Closest Centroids"
   ]
  },
  {
   "cell_type": "code",
   "execution_count": 8,
   "metadata": {
    "collapsed": true
   },
   "outputs": [],
   "source": [
    "X = np.loadtxt(\"datasets/ex6data.txt\", delimiter=\",\")"
   ]
  },
  {
   "cell_type": "code",
   "execution_count": 9,
   "metadata": {
    "collapsed": false
   },
   "outputs": [
    {
     "data": {
      "text/plain": [
       "(300, 2)"
      ]
     },
     "execution_count": 9,
     "metadata": {},
     "output_type": "execute_result"
    }
   ],
   "source": [
    "X.shape"
   ]
  },
  {
   "cell_type": "code",
   "execution_count": 10,
   "metadata": {
    "collapsed": false
   },
   "outputs": [
    {
     "data": {
      "text/plain": [
       "array([[ 1.8421 ,  4.6076 ],\n",
       "       [ 5.6586 ,  4.8    ],\n",
       "       [ 6.3526 ,  3.2909 ],\n",
       "       [ 2.904  ,  4.6122 ],\n",
       "       [ 3.232  ,  4.9399 ],\n",
       "       [ 1.2479 ,  4.9327 ],\n",
       "       [ 1.9762 ,  4.4349 ],\n",
       "       [ 2.2345 ,  5.0555 ],\n",
       "       [ 2.9834 ,  4.8405 ],\n",
       "       [ 2.9797 ,  4.8067 ],\n",
       "       [ 2.115  ,  5.3737 ],\n",
       "       [ 2.1217 ,  5.2085 ],\n",
       "       [ 1.5144 ,  4.77   ],\n",
       "       [ 2.1698 ,  5.2744 ],\n",
       "       [ 0.41852,  4.8831 ],\n",
       "       [ 2.4705 ,  4.8042 ],\n",
       "       [ 4.0607 ,  4.995  ],\n",
       "       [ 3.0071 ,  4.679  ],\n",
       "       [ 0.66632,  4.8719 ],\n",
       "       [ 3.1622 ,  4.8366 ],\n",
       "       [ 0.51155,  4.9105 ],\n",
       "       [ 3.1343 ,  4.9618 ],\n",
       "       [ 2.0497 ,  5.6241 ],\n",
       "       [ 0.66583,  5.244  ],\n",
       "       [ 1.0173 ,  4.8447 ],\n",
       "       [ 2.1789 ,  5.2976 ],\n",
       "       [ 2.8596 ,  5.2604 ],\n",
       "       [ 1.3088 ,  5.3016 ],\n",
       "       [ 0.99253,  5.0157 ],\n",
       "       [ 1.4037 ,  4.5753 ],\n",
       "       [ 2.6605 ,  5.1962 ],\n",
       "       [ 2.8    ,  5.1153 ],\n",
       "       [ 2.07   ,  4.6847 ],\n",
       "       [ 3.2977 ,  5.5921 ],\n",
       "       [ 1.893  ,  4.8904 ],\n",
       "       [ 2.5598 ,  5.264  ],\n",
       "       [ 1.1535 ,  4.6787 ],\n",
       "       [ 2.2515 ,  5.445  ],\n",
       "       [ 2.2096 ,  4.9147 ],\n",
       "       [ 1.5914 ,  4.8321 ],\n",
       "       [ 1.6784 ,  5.269  ],\n",
       "       [ 2.5915 ,  4.9259 ],\n",
       "       [ 2.81   ,  5.5385 ],\n",
       "       [ 0.95312,  5.5804 ],\n",
       "       [ 1.5178 ,  5.0384 ],\n",
       "       [ 3.2311 ,  5.7843 ],\n",
       "       [ 2.5418 ,  4.811  ],\n",
       "       [ 3.8142 ,  4.7353 ],\n",
       "       [ 1.685  ,  4.5964 ],\n",
       "       [ 2.1778 ,  4.8615 ],\n",
       "       [ 1.8173 ,  5.1333 ],\n",
       "       [ 1.8578 ,  4.8696 ],\n",
       "       [ 3.0308 ,  5.2406 ],\n",
       "       [ 2.9266 ,  5.0967 ],\n",
       "       [ 3.4349 ,  5.3408 ],\n",
       "       [ 3.2037 ,  4.8592 ],\n",
       "       [ 0.10512,  4.7292 ],\n",
       "       [ 1.406  ,  5.0664 ],\n",
       "       [ 2.2419 ,  4.9245 ],\n",
       "       [ 1.3668 ,  5.2616 ],\n",
       "       [ 1.7073 ,  4.0423 ],\n",
       "       [ 1.9191 ,  5.5785 ],\n",
       "       [ 1.6016 ,  4.6445 ],\n",
       "       [ 0.37963,  5.2619 ],\n",
       "       [ 2.0213 ,  4.4127 ],\n",
       "       [ 1.1204 ,  5.2088 ],\n",
       "       [ 2.269  ,  4.6182 ],\n",
       "       [-0.24513,  5.7402 ],\n",
       "       [ 2.1286 ,  5.0115 ],\n",
       "       [ 1.8442 ,  5.0315 ],\n",
       "       [ 2.3256 ,  4.7487 ],\n",
       "       [ 1.5233 ,  4.8792 ],\n",
       "       [ 1.0229 ,  5.0105 ],\n",
       "       [ 1.8538 ,  5.0075 ],\n",
       "       [ 2.2032 ,  4.9452 ],\n",
       "       [ 1.201  ,  4.5783 ],\n",
       "       [ 1.0206 ,  4.6299 ],\n",
       "       [ 1.6049 ,  5.1366 ],\n",
       "       [ 0.47647,  5.1354 ],\n",
       "       [ 0.36392,  4.7333 ],\n",
       "       [ 0.3132 ,  5.5469 ],\n",
       "       [ 2.2866 ,  5.0077 ],\n",
       "       [ 2.1546 ,  5.4628 ],\n",
       "       [ 2.0529 ,  4.7796 ],\n",
       "       [ 4.888  ,  5.5067 ],\n",
       "       [ 2.403  ,  5.0815 ],\n",
       "       [ 2.5687 ,  5.2069 ],\n",
       "       [ 1.8298 ,  4.5966 ],\n",
       "       [ 0.54845,  5.0267 ],\n",
       "       [ 3.1711 ,  5.5946 ],\n",
       "       [ 3.042  ,  5.0076 ],\n",
       "       [ 2.4043 ,  5.0259 ],\n",
       "       [ 0.17783,  5.2977 ],\n",
       "       [ 2.6143 ,  5.2229 ],\n",
       "       [ 2.301  ,  4.9724 ],\n",
       "       [ 3.9078 ,  5.0946 ],\n",
       "       [ 2.0567 ,  5.2339 ],\n",
       "       [ 1.3813 ,  5.0019 ],\n",
       "       [ 1.1607 ,  4.6773 ],\n",
       "       [ 1.7282 ,  5.3603 ],\n",
       "       [ 3.2036 ,  0.72221],\n",
       "       [ 3.0619 ,  1.5719 ],\n",
       "       [ 4.0171 ,  1.1607 ],\n",
       "       [ 1.4026 ,  1.0873 ],\n",
       "       [ 4.0816 ,  0.872  ],\n",
       "       [ 3.1527 ,  0.98156],\n",
       "       [ 3.4519 ,  0.42784],\n",
       "       [ 3.8538 ,  0.79205],\n",
       "       [ 1.5745 ,  1.3481 ],\n",
       "       [ 4.7237 ,  0.62044],\n",
       "       [ 2.8796 ,  0.75414],\n",
       "       [ 0.96791,  1.1617 ],\n",
       "       [ 1.5318 ,  1.1005 ],\n",
       "       [ 4.1384 ,  1.2478 ],\n",
       "       [ 3.1611 ,  1.2942 ],\n",
       "       [ 2.9518 ,  0.89583],\n",
       "       [ 3.2784 ,  1.7504 ],\n",
       "       [ 2.127  ,  0.95672],\n",
       "       [ 3.3265 ,  1.2802 ],\n",
       "       [ 2.5437 ,  0.95733],\n",
       "       [ 3.2339 ,  1.082  ],\n",
       "       [ 4.4315 ,  0.54041],\n",
       "       [ 3.5648 ,  1.1176 ],\n",
       "       [ 4.2559 ,  0.90644],\n",
       "       [ 4.0539 ,  0.53292],\n",
       "       [ 3.0897 ,  1.0881 ],\n",
       "       [ 2.8473 ,  0.26759],\n",
       "       [ 3.6359 ,  1.1216 ],\n",
       "       [ 1.9554 ,  1.3216 ],\n",
       "       [ 2.8838 ,  0.80455],\n",
       "       [ 3.4844 ,  1.1355 ],\n",
       "       [ 3.498  ,  1.1005 ],\n",
       "       [ 2.4558 ,  0.78905],\n",
       "       [ 3.2038 ,  1.0273 ],\n",
       "       [ 3.0068 ,  0.62519],\n",
       "       [ 1.9655 ,  1.2173 ],\n",
       "       [ 2.1799 ,  1.3088 ],\n",
       "       [ 2.6121 ,  0.99077],\n",
       "       [ 3.9555 ,  0.83269],\n",
       "       [ 3.6485 ,  1.6285 ],\n",
       "       [ 4.1845 ,  0.45356],\n",
       "       [ 3.7876 ,  1.4544 ],\n",
       "       [ 3.3006 ,  1.2811 ],\n",
       "       [ 3.0284 ,  1.3564 ],\n",
       "       [ 3.1841 ,  1.4141 ],\n",
       "       [ 4.1691 ,  0.20581],\n",
       "       [ 3.2402 ,  1.1488 ],\n",
       "       [ 3.916  ,  1.0123 ],\n",
       "       [ 2.9698 ,  1.0121 ],\n",
       "       [ 1.1299 ,  0.77085],\n",
       "       [ 2.7173 ,  0.48698],\n",
       "       [ 3.1189 ,  0.69438],\n",
       "       [ 2.4052 ,  1.1178 ],\n",
       "       [ 2.9582 ,  1.0189 ],\n",
       "       [ 1.6546 ,  1.1863 ],\n",
       "       [ 2.3978 ,  1.2472 ],\n",
       "       [ 2.2841 ,  0.64865],\n",
       "       [ 2.7959 ,  0.99527],\n",
       "       [ 3.4116 ,  1.1596 ],\n",
       "       [ 3.5066 ,  0.73878],\n",
       "       [ 3.9362 ,  1.462  ],\n",
       "       [ 3.9021 ,  1.2778 ],\n",
       "       [ 2.6104 ,  0.88028],\n",
       "       [ 4.3727 ,  1.0291 ],\n",
       "       [ 3.0835 ,  1.1963 ],\n",
       "       [ 2.116  ,  0.79304],\n",
       "       [ 2.1565 ,  0.40359],\n",
       "       [ 2.1449 ,  1.1358 ],\n",
       "       [ 1.8494 ,  1.0223 ],\n",
       "       [ 4.1591 ,  0.61721],\n",
       "       [ 2.7649 ,  1.4315 ],\n",
       "       [ 3.9056 ,  1.1658 ],\n",
       "       [ 2.5407 ,  0.98393],\n",
       "       [ 4.2778 ,  1.1801 ],\n",
       "       [ 3.3106 ,  1.0312 ],\n",
       "       [ 2.1552 ,  0.80697],\n",
       "       [ 3.7136 ,  0.45813],\n",
       "       [ 3.5401 ,  0.86446],\n",
       "       [ 1.6052 ,  1.1098 ],\n",
       "       [ 1.7516 ,  0.68854],\n",
       "       [ 3.1241 ,  0.67822],\n",
       "       [ 2.372  ,  1.4279 ],\n",
       "       [ 2.5345 ,  1.2156 ],\n",
       "       [ 3.6834 ,  1.2283 ],\n",
       "       [ 3.267  ,  0.32057],\n",
       "       [ 3.9416 ,  0.82577],\n",
       "       [ 3.2646 ,  1.3837 ],\n",
       "       [ 4.3047 ,  1.1073 ],\n",
       "       [ 2.685  ,  0.35345],\n",
       "       [ 3.1264 ,  1.2807 ],\n",
       "       [ 2.9429 ,  1.0283 ],\n",
       "       [ 3.1188 ,  1.3329 ],\n",
       "       [ 2.0236 ,  0.44772],\n",
       "       [ 3.622  ,  1.2864 ],\n",
       "       [ 2.4287 ,  0.86499],\n",
       "       [ 2.0952 ,  1.1401 ],\n",
       "       [ 5.2924 ,  0.36873],\n",
       "       [ 2.0729 ,  1.1676 ],\n",
       "       [ 0.94623,  0.24522],\n",
       "       [ 2.7391 ,  1.1007 ],\n",
       "       [ 6.0051 ,  2.7278 ],\n",
       "       [ 6.057  ,  2.9497 ],\n",
       "       [ 6.7701 ,  3.2141 ],\n",
       "       [ 5.6403 ,  2.6939 ],\n",
       "       [ 5.6333 ,  2.99   ],\n",
       "       [ 6.1744 ,  3.2903 ],\n",
       "       [ 7.2469 ,  2.9688 ],\n",
       "       [ 5.5816 ,  3.3351 ],\n",
       "       [ 5.3627 ,  3.1468 ],\n",
       "       [ 4.7078 ,  2.7871 ],\n",
       "       [ 7.4289 ,  3.4668 ],\n",
       "       [ 6.6411 ,  3.06   ],\n",
       "       [ 6.3747 ,  2.5625 ],\n",
       "       [ 7.2878 ,  2.7518 ],\n",
       "       [ 6.203  ,  2.6786 ],\n",
       "       [ 5.3874 ,  2.2674 ],\n",
       "       [ 5.6673 ,  2.9648 ],\n",
       "       [ 6.597  ,  3.0708 ],\n",
       "       [ 7.7566 ,  3.156  ],\n",
       "       [ 6.6326 ,  3.148  ],\n",
       "       [ 5.7663 ,  3.1427 ],\n",
       "       [ 5.9942 ,  2.7571 ],\n",
       "       [ 6.3787 ,  2.6502 ],\n",
       "       [ 5.7404 ,  3.1039 ],\n",
       "       [ 4.6165 ,  2.7932 ],\n",
       "       [ 5.3353 ,  3.0393 ],\n",
       "       [ 5.3729 ,  2.8168 ],\n",
       "       [ 5.0361 ,  2.9249 ],\n",
       "       [ 5.5291 ,  3.3368 ],\n",
       "       [ 6.0509 ,  2.807  ],\n",
       "       [ 5.132  ,  2.1981 ],\n",
       "       [ 5.7328 ,  2.8774 ],\n",
       "       [ 6.7811 ,  3.0568 ],\n",
       "       [ 6.4483 ,  3.353  ],\n",
       "       [ 6.3994 ,  2.8976 ],\n",
       "       [ 5.8607 ,  2.9958 ],\n",
       "       [ 6.4477 ,  3.1656 ],\n",
       "       [ 5.3671 ,  3.195  ],\n",
       "       [ 5.8874 ,  3.3462 ],\n",
       "       [ 3.9616 ,  2.7203 ],\n",
       "       [ 6.2844 ,  3.1736 ],\n",
       "       [ 4.2058 ,  2.8165 ],\n",
       "       [ 5.3262 ,  3.0331 ],\n",
       "       [ 7.1714 ,  3.4123 ],\n",
       "       [ 7.4949 ,  2.8402 ],\n",
       "       [ 7.3981 ,  3.4849 ],\n",
       "       [ 5.0243 ,  2.9868 ],\n",
       "       [ 5.3171 ,  2.8174 ],\n",
       "       [ 5.8766 ,  3.2166 ],\n",
       "       [ 6.0376 ,  2.683  ],\n",
       "       [ 5.9128 ,  2.8563 ],\n",
       "       [ 6.6945 ,  2.8906 ],\n",
       "       [ 6.0102 ,  2.724  ],\n",
       "       [ 6.9272 ,  3.1996 ],\n",
       "       [ 6.3356 ,  3.3086 ],\n",
       "       [ 6.2426 ,  2.7918 ],\n",
       "       [ 5.5781 ,  3.2477 ],\n",
       "       [ 6.4077 ,  2.6755 ],\n",
       "       [ 6.8003 ,  3.1758 ],\n",
       "       [ 7.2168 ,  2.729  ],\n",
       "       [ 6.511  ,  2.7273 ],\n",
       "       [ 4.6063 ,  3.3295 ],\n",
       "       [ 7.655  ,  2.871  ],\n",
       "       [ 5.503  ,  2.6292 ],\n",
       "       [ 6.6306 ,  3.015  ],\n",
       "       [ 3.4593 ,  2.6848 ],\n",
       "       [ 8.2034 ,  2.4169 ],\n",
       "       [ 4.9568 ,  2.8978 ],\n",
       "       [ 5.3705 ,  2.4495 ],\n",
       "       [ 5.698  ,  2.9498 ],\n",
       "       [ 6.2738 ,  2.2426 ],\n",
       "       [ 5.0527 ,  2.7569 ],\n",
       "       [ 6.8858 ,  2.8885 ],\n",
       "       [ 4.1877 ,  2.8928 ],\n",
       "       [ 5.9751 ,  3.0259 ],\n",
       "       [ 6.0946 ,  2.6187 ],\n",
       "       [ 5.724  ,  3.0445 ],\n",
       "       [ 4.3725 ,  3.0549 ],\n",
       "       [ 6.2921 ,  2.7757 ],\n",
       "       [ 5.1453 ,  4.1323 ],\n",
       "       [ 6.5871 ,  3.3751 ],\n",
       "       [ 5.7877 ,  3.2926 ],\n",
       "       [ 6.728  ,  3.0044 ],\n",
       "       [ 6.6408 ,  2.4107 ],\n",
       "       [ 6.2323 ,  2.7285 ],\n",
       "       [ 6.2177 ,  2.8099 ],\n",
       "       [ 5.7812 ,  3.0799 ],\n",
       "       [ 6.6245 ,  2.7445 ],\n",
       "       [ 5.1959 ,  3.0697 ],\n",
       "       [ 5.8718 ,  3.2552 ],\n",
       "       [ 5.8956 ,  2.8984 ],\n",
       "       [ 5.6175 ,  2.5975 ],\n",
       "       [ 5.6318 ,  3.0476 ],\n",
       "       [ 5.5026 ,  3.1187 ],\n",
       "       [ 6.4821 ,  2.5509 ],\n",
       "       [ 7.3028 ,  3.3802 ],\n",
       "       [ 6.992  ,  2.9871 ],\n",
       "       [ 4.8255 ,  2.7796 ],\n",
       "       [ 6.1177 ,  2.8548 ],\n",
       "       [ 0.94049,  5.7156 ]])"
      ]
     },
     "execution_count": 10,
     "metadata": {},
     "output_type": "execute_result"
    }
   ],
   "source": [
    "X"
   ]
  },
  {
   "cell_type": "code",
   "execution_count": 17,
   "metadata": {
    "collapsed": false
   },
   "outputs": [
    {
     "data": {
      "text/plain": [
       "array([[3, 3],\n",
       "       [6, 2],\n",
       "       [8, 5]])"
      ]
     },
     "execution_count": 17,
     "metadata": {},
     "output_type": "execute_result"
    }
   ],
   "source": [
    "K = 3\n",
    "initial_centroids = np.array([[3, 3], [6, 2], [8, 5]])"
   ]
  },
  {
   "cell_type": "code",
   "execution_count": 22,
   "metadata": {
    "collapsed": false,
    "scrolled": false
   },
   "outputs": [
    {
     "data": {
      "text/plain": [
       "<matplotlib.collections.PathCollection at 0x1134647f0>"
      ]
     },
     "execution_count": 22,
     "metadata": {},
     "output_type": "execute_result"
    },
    {
     "data": {
      "image/png": "[encoded data removed]",
      "text/plain": [
       "<matplotlib.figure.Figure at 0x112e27748>"
      ]
     },
     "metadata": {},
     "output_type": "display_data"
    }
   ],
   "source": [
    "fig, axes = plt.subplots(figsize=(12, 8))\n",
    "axes.scatter(X[:, 0], X[:, 1])\n",
    "axes.scatter(initial_centroids[:, 0], initial_centroids[:, 1], color=\"red\", marker=\"o\")"
   ]
  },
  {
   "cell_type": "code",
   "execution_count": 179,
   "metadata": {
    "collapsed": false
   },
   "outputs": [],
   "source": [
    "# TODO: Make it work for any dimensional points.\n",
    "def calculate_distance(a, b):\n",
    "    return np.sqrt((a[0] - b[0])**2 + (a[1] - b[1])**2)"
   ]
  },
  {
   "cell_type": "code",
   "execution_count": 65,
   "metadata": {
    "collapsed": false
   },
   "outputs": [
    {
     "data": {
      "text/plain": [
       "7.810249675906654"
      ]
     },
     "execution_count": 65,
     "metadata": {},
     "output_type": "execute_result"
    }
   ],
   "source": [
    "calculate_distance(np.array([3, 2]), np.array([9, 7]))"
   ]
  },
  {
   "cell_type": "code",
   "execution_count": 66,
   "metadata": {
    "collapsed": false
   },
   "outputs": [
    {
     "data": {
      "text/plain": [
       "11.661903789690601"
      ]
     },
     "execution_count": 66,
     "metadata": {},
     "output_type": "execute_result"
    }
   ],
   "source": [
    "calculate_distance(np.array([-3, 5]), np.array([7, -1]))"
   ]
  },
  {
   "cell_type": "code",
   "execution_count": 67,
   "metadata": {
    "collapsed": true
   },
   "outputs": [],
   "source": [
    "def get_closest_centroid_idx(point, centroids):\n",
    "    return np.argmin([calculate_distance(point, centroid) for centroid in centroids])"
   ]
  },
  {
   "cell_type": "code",
   "execution_count": 58,
   "metadata": {
    "collapsed": false
   },
   "outputs": [
    {
     "data": {
      "text/plain": [
       "0"
      ]
     },
     "execution_count": 58,
     "metadata": {},
     "output_type": "execute_result"
    }
   ],
   "source": [
    "get_closest_centroid_idx(np.array([1.8421, 4.6076]), initial_centroids)"
   ]
  },
  {
   "cell_type": "code",
   "execution_count": 75,
   "metadata": {
    "collapsed": false
   },
   "outputs": [],
   "source": [
    "def find_closest_centroids_idxs(X, centroids):\n",
    "    return np.array([get_closest_centroid_idx(point, centroids) for point in X])"
   ]
  },
  {
   "cell_type": "code",
   "execution_count": 156,
   "metadata": {
    "collapsed": false
   },
   "outputs": [],
   "source": [
    "idxs = find_closest_centroids_idxs(X, initial_centroids)"
   ]
  },
  {
   "cell_type": "code",
   "execution_count": 157,
   "metadata": {
    "collapsed": false
   },
   "outputs": [
    {
     "data": {
      "text/plain": [
       "array([0, 2, 1, 0, 0, 0, 0, 0, 0, 0, 0, 0, 0, 0, 0, 0, 0, 0, 0, 0, 0, 0, 0,\n",
       "       0, 0, 0, 0, 0, 0, 0, 0, 0, 0, 0, 0, 0, 0, 0, 0, 0, 0, 0, 0, 0, 0, 0,\n",
       "       0, 0, 0, 0, 0, 0, 0, 0, 0, 0, 0, 0, 0, 0, 0, 0, 0, 0, 0, 0, 0, 0, 0,\n",
       "       0, 0, 0, 0, 0, 0, 0, 0, 0, 0, 0, 0, 0, 0, 0, 0, 0, 0, 0, 0, 0, 0, 0,\n",
       "       0, 0, 0, 0, 0, 0, 0, 0, 0, 0, 0, 0, 1, 0, 0, 0, 0, 1, 0, 0, 0, 1, 0,\n",
       "       0, 0, 0, 0, 0, 0, 1, 0, 1, 1, 0, 0, 0, 0, 0, 0, 0, 0, 0, 0, 0, 0, 0,\n",
       "       1, 0, 1, 0, 0, 0, 0, 1, 0, 0, 0, 0, 0, 0, 0, 0, 0, 0, 0, 0, 0, 0, 0,\n",
       "       0, 0, 1, 0, 0, 0, 0, 0, 1, 0, 0, 0, 1, 0, 0, 0, 0, 0, 0, 0, 0, 0, 0,\n",
       "       0, 0, 0, 1, 0, 0, 0, 0, 0, 0, 0, 0, 1, 0, 0, 0, 1, 1, 1, 1, 1, 1, 1,\n",
       "       1, 1, 1, 2, 1, 1, 1, 1, 1, 1, 1, 2, 1, 1, 1, 1, 1, 1, 1, 1, 1, 1, 1,\n",
       "       1, 1, 1, 1, 1, 1, 1, 1, 1, 0, 1, 0, 1, 2, 1, 2, 1, 1, 1, 1, 1, 1, 1,\n",
       "       1, 1, 1, 1, 1, 1, 1, 1, 0, 1, 1, 1, 0, 1, 1, 1, 1, 1, 1, 1, 0, 1, 1,\n",
       "       1, 0, 1, 1, 1, 1, 1, 1, 1, 1, 1, 1, 1, 1, 1, 1, 1, 1, 1, 2, 1, 1, 1,\n",
       "       0])"
      ]
     },
     "execution_count": 157,
     "metadata": {},
     "output_type": "execute_result"
    }
   ],
   "source": [
    "idxs"
   ]
  },
  {
   "cell_type": "code",
   "execution_count": 158,
   "metadata": {
    "collapsed": true
   },
   "outputs": [],
   "source": [
    "assert idxs[0] == 0, \"Error\""
   ]
  },
  {
   "cell_type": "code",
   "execution_count": 159,
   "metadata": {
    "collapsed": true
   },
   "outputs": [],
   "source": [
    "assert idxs[1] == 2, \"Error\""
   ]
  },
  {
   "cell_type": "code",
   "execution_count": 160,
   "metadata": {
    "collapsed": true
   },
   "outputs": [],
   "source": [
    "assert idxs[2] == 1, \"Error\""
   ]
  },
  {
   "cell_type": "markdown",
   "metadata": {},
   "source": [
    "## 2. Compute Means"
   ]
  },
  {
   "cell_type": "code",
   "execution_count": 107,
   "metadata": {
    "collapsed": true
   },
   "outputs": [],
   "source": [
    "def compute_centroids(X, idx, K):    \n",
    "    return np.array([X[idx == k].mean(axis=0) for k in range(K)])"
   ]
  },
  {
   "cell_type": "code",
   "execution_count": 161,
   "metadata": {
    "collapsed": false
   },
   "outputs": [],
   "source": [
    "centroids = compute_centroids(X, idxs, K)"
   ]
  },
  {
   "cell_type": "code",
   "execution_count": 162,
   "metadata": {
    "collapsed": false
   },
   "outputs": [
    {
     "data": {
      "text/plain": [
       "array([[ 2.42830152,  3.15792471],\n",
       "       [ 5.81350291,  2.63365641],\n",
       "       [ 7.1194    ,  3.6167    ]])"
      ]
     },
     "execution_count": 162,
     "metadata": {},
     "output_type": "execute_result"
    }
   ],
   "source": [
    "centroids"
   ]
  },
  {
   "cell_type": "code",
   "execution_count": 163,
   "metadata": {
    "collapsed": false
   },
   "outputs": [],
   "source": [
    "assert round(centroids[0, 0], 5) == 2.42830, \"Error\"\n",
    "assert round(centroids[0, 1], 5) == 3.15792, \"Error\"\n",
    "assert round(centroids[1, 0], 5) == 5.81350, \"Error\"\n",
    "assert round(centroids[1, 1], 6) == 2.633656, \"Error\"\n",
    "assert round(centroids[2, 0], 5) == 7.1194, \"Error\"\n",
    "assert round(centroids[2, 1], 5) == 3.6167, \"Error\""
   ]
  },
  {
   "cell_type": "markdown",
   "metadata": {},
   "source": [
    "## 3. K-Means Clustering"
   ]
  },
  {
   "cell_type": "code",
   "execution_count": 164,
   "metadata": {
    "collapsed": true
   },
   "outputs": [],
   "source": [
    "X = np.loadtxt(\"datasets/ex6data.txt\", delimiter=\",\")"
   ]
  },
  {
   "cell_type": "code",
   "execution_count": 165,
   "metadata": {
    "collapsed": true
   },
   "outputs": [],
   "source": [
    "K = 3\n",
    "max_iters = 10\n",
    "initial_centroids = np.array([[3, 3], [6, 2], [8, 5]])"
   ]
  },
  {
   "cell_type": "code",
   "execution_count": 166,
   "metadata": {
    "collapsed": false
   },
   "outputs": [
    {
     "data": {
      "text/plain": [
       "<matplotlib.collections.PathCollection at 0x113a359e8>"
      ]
     },
     "execution_count": 166,
     "metadata": {},
     "output_type": "execute_result"
    },
    {
     "data": {
      "image/png": "[encoded data removed]",
      "text/plain": [
       "<matplotlib.figure.Figure at 0x1138a3080>"
      ]
     },
     "metadata": {},
     "output_type": "display_data"
    }
   ],
   "source": [
    "fig, axes = plt.subplots(figsize=(12, 8))\n",
    "axes.scatter(X[:, 0], X[:, 1])\n",
    "axes.scatter(initial_centroids[:, 0], initial_centroids[:, 1], color=\"red\", marker=\"o\")"
   ]
  },
  {
   "cell_type": "code",
   "execution_count": 172,
   "metadata": {
    "collapsed": false
   },
   "outputs": [],
   "source": [
    "def run_k_means(X, initial_centroids, max_iters):\n",
    "    idxs = np.array([])\n",
    "    centroids = initial_centroids.copy()\n",
    "    for i in range(max_iters):\n",
    "        idxs = find_closest_centroids_idxs(X, centroids)\n",
    "        centroids = compute_centroids(X, idxs, K)\n",
    "    return idxs, centroids"
   ]
  },
  {
   "cell_type": "code",
   "execution_count": 173,
   "metadata": {
    "collapsed": false
   },
   "outputs": [],
   "source": [
    "idxs, centroids = run_k_means(X, initial_centroids, max_iters)"
   ]
  },
  {
   "cell_type": "code",
   "execution_count": 174,
   "metadata": {
    "collapsed": false
   },
   "outputs": [
    {
     "data": {
      "text/plain": [
       "array([0, 2, 2, 0, 0, 0, 0, 0, 0, 0, 0, 0, 0, 0, 0, 0, 0, 0, 0, 0, 0, 0, 0,\n",
       "       0, 0, 0, 0, 0, 0, 0, 0, 0, 0, 0, 0, 0, 0, 0, 0, 0, 0, 0, 0, 0, 0, 0,\n",
       "       0, 0, 0, 0, 0, 0, 0, 0, 0, 0, 0, 0, 0, 0, 0, 0, 0, 0, 0, 0, 0, 0, 0,\n",
       "       0, 0, 0, 0, 0, 0, 0, 0, 0, 0, 0, 0, 0, 0, 0, 2, 0, 0, 0, 0, 0, 0, 0,\n",
       "       0, 0, 0, 0, 0, 0, 0, 0, 1, 1, 1, 1, 1, 1, 1, 1, 1, 1, 1, 1, 1, 1, 1,\n",
       "       1, 1, 1, 1, 1, 1, 1, 1, 1, 1, 1, 1, 1, 1, 1, 1, 1, 1, 1, 1, 1, 1, 1,\n",
       "       1, 1, 1, 1, 1, 1, 1, 1, 1, 1, 1, 1, 1, 1, 1, 1, 1, 1, 1, 1, 1, 1, 1,\n",
       "       1, 1, 1, 1, 1, 1, 1, 1, 1, 1, 1, 1, 1, 1, 1, 1, 1, 1, 1, 1, 1, 1, 1,\n",
       "       1, 1, 1, 1, 1, 1, 1, 1, 1, 1, 1, 1, 1, 1, 1, 1, 2, 2, 2, 2, 2, 2, 2,\n",
       "       2, 2, 2, 2, 2, 2, 2, 2, 2, 2, 2, 2, 2, 2, 2, 2, 2, 2, 2, 2, 2, 2, 2,\n",
       "       2, 2, 2, 2, 2, 2, 2, 2, 2, 1, 2, 2, 2, 2, 2, 2, 2, 2, 2, 2, 2, 2, 2,\n",
       "       2, 2, 2, 2, 2, 2, 2, 2, 2, 2, 2, 2, 1, 2, 2, 2, 2, 2, 2, 2, 2, 2, 2,\n",
       "       2, 2, 2, 2, 2, 2, 2, 2, 2, 2, 2, 2, 2, 2, 2, 2, 2, 2, 2, 2, 2, 2, 2,\n",
       "       0])"
      ]
     },
     "execution_count": 174,
     "metadata": {},
     "output_type": "execute_result"
    }
   ],
   "source": [
    "idxs"
   ]
  },
  {
   "cell_type": "code",
   "execution_count": 175,
   "metadata": {
    "collapsed": false
   },
   "outputs": [
    {
     "data": {
      "text/plain": [
       "array([[ 1.95399541,  5.02557143],\n",
       "       [ 3.04367196,  1.01540912],\n",
       "       [ 6.033667  ,  3.000527  ]])"
      ]
     },
     "execution_count": 175,
     "metadata": {},
     "output_type": "execute_result"
    }
   ],
   "source": [
    "centroids"
   ]
  },
  {
   "cell_type": "code",
   "execution_count": 177,
   "metadata": {
    "collapsed": true
   },
   "outputs": [],
   "source": [
    "# TODO: Implement k-means centroid movement visualization."
   ]
  },
  {
   "cell_type": "code",
   "execution_count": null,
   "metadata": {
    "collapsed": true
   },
   "outputs": [],
   "source": []
  }
 ],
 "metadata": {
  "kernelspec": {
   "display_name": "Python 3",
   "language": "python",
   "name": "python3"
  },
  "language_info": {
   "codemirror_mode": {
    "name": "ipython",
    "version": 3
   },
   "file_extension": ".py",
   "mimetype": "text/x-python",
   "name": "python",
   "nbconvert_exporter": "python",
   "pygments_lexer": "ipython3",
   "version": "3.6.3"
  }
 },
 "nbformat": 4,
 "nbformat_minor": 2
}
