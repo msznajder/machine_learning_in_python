{
 "cells": [
  {
   "cell_type": "code",
   "execution_count": null,
   "metadata": {
    "collapsed": true
   },
   "outputs": [],
   "source": [
    "import numpy as np\n",
    "import matplotlib.pyplot as plt\n",
    "\n",
    "%matplotlib inline"
   ]
  },
  {
   "cell_type": "markdown",
   "metadata": {},
   "source": [
    "## 1. Single variable linear regression"
   ]
  },
  {
   "cell_type": "code",
   "execution_count": 379,
   "metadata": {
    "collapsed": true
   },
   "outputs": [],
   "source": [
    "data = np.loadtxt(\"datasets/ex1data1.txt\", delimiter=\",\")"
   ]
  },
  {
   "cell_type": "code",
   "execution_count": 380,
   "metadata": {
    "collapsed": false
   },
   "outputs": [
    {
     "data": {
      "text/plain": [
       "(97, 2)"
      ]
     },
     "execution_count": 380,
     "metadata": {},
     "output_type": "execute_result"
    }
   ],
   "source": [
    "data.shape"
   ]
  },
  {
   "cell_type": "code",
   "execution_count": 381,
   "metadata": {
    "collapsed": false
   },
   "outputs": [
    {
     "data": {
      "text/plain": [
       "array([[  6.1101 ,  17.592  ],\n",
       "       [  5.5277 ,   9.1302 ],\n",
       "       [  8.5186 ,  13.662  ],\n",
       "       [  7.0032 ,  11.854  ],\n",
       "       [  5.8598 ,   6.8233 ],\n",
       "       [  8.3829 ,  11.886  ],\n",
       "       [  7.4764 ,   4.3483 ],\n",
       "       [  8.5781 ,  12.     ],\n",
       "       [  6.4862 ,   6.5987 ],\n",
       "       [  5.0546 ,   3.8166 ],\n",
       "       [  5.7107 ,   3.2522 ],\n",
       "       [ 14.164  ,  15.505  ],\n",
       "       [  5.734  ,   3.1551 ],\n",
       "       [  8.4084 ,   7.2258 ],\n",
       "       [  5.6407 ,   0.71618],\n",
       "       [  5.3794 ,   3.5129 ],\n",
       "       [  6.3654 ,   5.3048 ],\n",
       "       [  5.1301 ,   0.56077],\n",
       "       [  6.4296 ,   3.6518 ],\n",
       "       [  7.0708 ,   5.3893 ],\n",
       "       [  6.1891 ,   3.1386 ],\n",
       "       [ 20.27   ,  21.767  ],\n",
       "       [  5.4901 ,   4.263  ],\n",
       "       [  6.3261 ,   5.1875 ],\n",
       "       [  5.5649 ,   3.0825 ],\n",
       "       [ 18.945  ,  22.638  ],\n",
       "       [ 12.828  ,  13.501  ],\n",
       "       [ 10.957  ,   7.0467 ],\n",
       "       [ 13.176  ,  14.692  ],\n",
       "       [ 22.203  ,  24.147  ],\n",
       "       [  5.2524 ,  -1.22   ],\n",
       "       [  6.5894 ,   5.9966 ],\n",
       "       [  9.2482 ,  12.134  ],\n",
       "       [  5.8918 ,   1.8495 ],\n",
       "       [  8.2111 ,   6.5426 ],\n",
       "       [  7.9334 ,   4.5623 ],\n",
       "       [  8.0959 ,   4.1164 ],\n",
       "       [  5.6063 ,   3.3928 ],\n",
       "       [ 12.836  ,  10.117  ],\n",
       "       [  6.3534 ,   5.4974 ],\n",
       "       [  5.4069 ,   0.55657],\n",
       "       [  6.8825 ,   3.9115 ],\n",
       "       [ 11.708  ,   5.3854 ],\n",
       "       [  5.7737 ,   2.4406 ],\n",
       "       [  7.8247 ,   6.7318 ],\n",
       "       [  7.0931 ,   1.0463 ],\n",
       "       [  5.0702 ,   5.1337 ],\n",
       "       [  5.8014 ,   1.844  ],\n",
       "       [ 11.7    ,   8.0043 ],\n",
       "       [  5.5416 ,   1.0179 ],\n",
       "       [  7.5402 ,   6.7504 ],\n",
       "       [  5.3077 ,   1.8396 ],\n",
       "       [  7.4239 ,   4.2885 ],\n",
       "       [  7.6031 ,   4.9981 ],\n",
       "       [  6.3328 ,   1.4233 ],\n",
       "       [  6.3589 ,  -1.4211 ],\n",
       "       [  6.2742 ,   2.4756 ],\n",
       "       [  5.6397 ,   4.6042 ],\n",
       "       [  9.3102 ,   3.9624 ],\n",
       "       [  9.4536 ,   5.4141 ],\n",
       "       [  8.8254 ,   5.1694 ],\n",
       "       [  5.1793 ,  -0.74279],\n",
       "       [ 21.279  ,  17.929  ],\n",
       "       [ 14.908  ,  12.054  ],\n",
       "       [ 18.959  ,  17.054  ],\n",
       "       [  7.2182 ,   4.8852 ],\n",
       "       [  8.2951 ,   5.7442 ],\n",
       "       [ 10.236  ,   7.7754 ],\n",
       "       [  5.4994 ,   1.0173 ],\n",
       "       [ 20.341  ,  20.992  ],\n",
       "       [ 10.136  ,   6.6799 ],\n",
       "       [  7.3345 ,   4.0259 ],\n",
       "       [  6.0062 ,   1.2784 ],\n",
       "       [  7.2259 ,   3.3411 ],\n",
       "       [  5.0269 ,  -2.6807 ],\n",
       "       [  6.5479 ,   0.29678],\n",
       "       [  7.5386 ,   3.8845 ],\n",
       "       [  5.0365 ,   5.7014 ],\n",
       "       [ 10.274  ,   6.7526 ],\n",
       "       [  5.1077 ,   2.0576 ],\n",
       "       [  5.7292 ,   0.47953],\n",
       "       [  5.1884 ,   0.20421],\n",
       "       [  6.3557 ,   0.67861],\n",
       "       [  9.7687 ,   7.5435 ],\n",
       "       [  6.5159 ,   5.3436 ],\n",
       "       [  8.5172 ,   4.2415 ],\n",
       "       [  9.1802 ,   6.7981 ],\n",
       "       [  6.002  ,   0.92695],\n",
       "       [  5.5204 ,   0.152  ],\n",
       "       [  5.0594 ,   2.8214 ],\n",
       "       [  5.7077 ,   1.8451 ],\n",
       "       [  7.6366 ,   4.2959 ],\n",
       "       [  5.8707 ,   7.2029 ],\n",
       "       [  5.3054 ,   1.9869 ],\n",
       "       [  8.2934 ,   0.14454],\n",
       "       [ 13.394  ,   9.0551 ],\n",
       "       [  5.4369 ,   0.61705]])"
      ]
     },
     "execution_count": 381,
     "metadata": {},
     "output_type": "execute_result"
    }
   ],
   "source": [
    "data"
   ]
  },
  {
   "cell_type": "code",
   "execution_count": 382,
   "metadata": {
    "collapsed": true
   },
   "outputs": [],
   "source": [
    "X = data[:, 0]\n",
    "y = data[:, 1:2]"
   ]
  },
  {
   "cell_type": "code",
   "execution_count": 383,
   "metadata": {
    "collapsed": false
   },
   "outputs": [
    {
     "data": {
      "text/plain": [
       "(97,)"
      ]
     },
     "execution_count": 383,
     "metadata": {},
     "output_type": "execute_result"
    }
   ],
   "source": [
    "X.shape"
   ]
  },
  {
   "cell_type": "code",
   "execution_count": 384,
   "metadata": {
    "collapsed": false
   },
   "outputs": [
    {
     "data": {
      "text/plain": [
       "array([  6.1101,   5.5277,   8.5186,   7.0032,   5.8598,   8.3829,\n",
       "         7.4764,   8.5781,   6.4862,   5.0546,   5.7107,  14.164 ,\n",
       "         5.734 ,   8.4084,   5.6407,   5.3794,   6.3654,   5.1301,\n",
       "         6.4296,   7.0708,   6.1891,  20.27  ,   5.4901,   6.3261,\n",
       "         5.5649,  18.945 ,  12.828 ,  10.957 ,  13.176 ,  22.203 ,\n",
       "         5.2524,   6.5894,   9.2482,   5.8918,   8.2111,   7.9334,\n",
       "         8.0959,   5.6063,  12.836 ,   6.3534,   5.4069,   6.8825,\n",
       "        11.708 ,   5.7737,   7.8247,   7.0931,   5.0702,   5.8014,\n",
       "        11.7   ,   5.5416,   7.5402,   5.3077,   7.4239,   7.6031,\n",
       "         6.3328,   6.3589,   6.2742,   5.6397,   9.3102,   9.4536,\n",
       "         8.8254,   5.1793,  21.279 ,  14.908 ,  18.959 ,   7.2182,\n",
       "         8.2951,  10.236 ,   5.4994,  20.341 ,  10.136 ,   7.3345,\n",
       "         6.0062,   7.2259,   5.0269,   6.5479,   7.5386,   5.0365,\n",
       "        10.274 ,   5.1077,   5.7292,   5.1884,   6.3557,   9.7687,\n",
       "         6.5159,   8.5172,   9.1802,   6.002 ,   5.5204,   5.0594,\n",
       "         5.7077,   7.6366,   5.8707,   5.3054,   8.2934,  13.394 ,   5.4369])"
      ]
     },
     "execution_count": 384,
     "metadata": {},
     "output_type": "execute_result"
    }
   ],
   "source": [
    "X"
   ]
  },
  {
   "cell_type": "code",
   "execution_count": 385,
   "metadata": {
    "collapsed": false
   },
   "outputs": [
    {
     "data": {
      "text/plain": [
       "(97, 1)"
      ]
     },
     "execution_count": 385,
     "metadata": {},
     "output_type": "execute_result"
    }
   ],
   "source": [
    "y.shape"
   ]
  },
  {
   "cell_type": "code",
   "execution_count": 386,
   "metadata": {
    "collapsed": false
   },
   "outputs": [
    {
     "data": {
      "text/plain": [
       "array([[ 17.592  ],\n",
       "       [  9.1302 ],\n",
       "       [ 13.662  ],\n",
       "       [ 11.854  ],\n",
       "       [  6.8233 ],\n",
       "       [ 11.886  ],\n",
       "       [  4.3483 ],\n",
       "       [ 12.     ],\n",
       "       [  6.5987 ],\n",
       "       [  3.8166 ],\n",
       "       [  3.2522 ],\n",
       "       [ 15.505  ],\n",
       "       [  3.1551 ],\n",
       "       [  7.2258 ],\n",
       "       [  0.71618],\n",
       "       [  3.5129 ],\n",
       "       [  5.3048 ],\n",
       "       [  0.56077],\n",
       "       [  3.6518 ],\n",
       "       [  5.3893 ],\n",
       "       [  3.1386 ],\n",
       "       [ 21.767  ],\n",
       "       [  4.263  ],\n",
       "       [  5.1875 ],\n",
       "       [  3.0825 ],\n",
       "       [ 22.638  ],\n",
       "       [ 13.501  ],\n",
       "       [  7.0467 ],\n",
       "       [ 14.692  ],\n",
       "       [ 24.147  ],\n",
       "       [ -1.22   ],\n",
       "       [  5.9966 ],\n",
       "       [ 12.134  ],\n",
       "       [  1.8495 ],\n",
       "       [  6.5426 ],\n",
       "       [  4.5623 ],\n",
       "       [  4.1164 ],\n",
       "       [  3.3928 ],\n",
       "       [ 10.117  ],\n",
       "       [  5.4974 ],\n",
       "       [  0.55657],\n",
       "       [  3.9115 ],\n",
       "       [  5.3854 ],\n",
       "       [  2.4406 ],\n",
       "       [  6.7318 ],\n",
       "       [  1.0463 ],\n",
       "       [  5.1337 ],\n",
       "       [  1.844  ],\n",
       "       [  8.0043 ],\n",
       "       [  1.0179 ],\n",
       "       [  6.7504 ],\n",
       "       [  1.8396 ],\n",
       "       [  4.2885 ],\n",
       "       [  4.9981 ],\n",
       "       [  1.4233 ],\n",
       "       [ -1.4211 ],\n",
       "       [  2.4756 ],\n",
       "       [  4.6042 ],\n",
       "       [  3.9624 ],\n",
       "       [  5.4141 ],\n",
       "       [  5.1694 ],\n",
       "       [ -0.74279],\n",
       "       [ 17.929  ],\n",
       "       [ 12.054  ],\n",
       "       [ 17.054  ],\n",
       "       [  4.8852 ],\n",
       "       [  5.7442 ],\n",
       "       [  7.7754 ],\n",
       "       [  1.0173 ],\n",
       "       [ 20.992  ],\n",
       "       [  6.6799 ],\n",
       "       [  4.0259 ],\n",
       "       [  1.2784 ],\n",
       "       [  3.3411 ],\n",
       "       [ -2.6807 ],\n",
       "       [  0.29678],\n",
       "       [  3.8845 ],\n",
       "       [  5.7014 ],\n",
       "       [  6.7526 ],\n",
       "       [  2.0576 ],\n",
       "       [  0.47953],\n",
       "       [  0.20421],\n",
       "       [  0.67861],\n",
       "       [  7.5435 ],\n",
       "       [  5.3436 ],\n",
       "       [  4.2415 ],\n",
       "       [  6.7981 ],\n",
       "       [  0.92695],\n",
       "       [  0.152  ],\n",
       "       [  2.8214 ],\n",
       "       [  1.8451 ],\n",
       "       [  4.2959 ],\n",
       "       [  7.2029 ],\n",
       "       [  1.9869 ],\n",
       "       [  0.14454],\n",
       "       [  9.0551 ],\n",
       "       [  0.61705]])"
      ]
     },
     "execution_count": 386,
     "metadata": {},
     "output_type": "execute_result"
    }
   ],
   "source": [
    "y"
   ]
  },
  {
   "cell_type": "code",
   "execution_count": 387,
   "metadata": {
    "collapsed": false
   },
   "outputs": [
    {
     "data": {
      "text/plain": [
       "97"
      ]
     },
     "execution_count": 387,
     "metadata": {},
     "output_type": "execute_result"
    }
   ],
   "source": [
    "m = len(y)\n",
    "m"
   ]
  },
  {
   "cell_type": "markdown",
   "metadata": {},
   "source": [
    "## 1.1. Plotting the data"
   ]
  },
  {
   "cell_type": "code",
   "execution_count": 388,
   "metadata": {
    "collapsed": false
   },
   "outputs": [
    {
     "data": {
      "text/plain": [
       "<matplotlib.collections.PathCollection at 0x10f0e2a58>"
      ]
     },
     "execution_count": 388,
     "metadata": {},
     "output_type": "execute_result"
    },
    {
     "data": {
      "image/png": "[encoded data removed]",
      "text/plain": [
       "<matplotlib.figure.Figure at 0x10f89be80>"
      ]
     },
     "metadata": {},
     "output_type": "display_data"
    }
   ],
   "source": [
    "fig, axes = plt.subplots(figsize=(12, 8))\n",
    "axes.scatter(X, y, marker=\"x\")"
   ]
  },
  {
   "cell_type": "markdown",
   "metadata": {},
   "source": [
    "## 1.2. Cost and gradient descent"
   ]
  },
  {
   "cell_type": "code",
   "execution_count": 389,
   "metadata": {
    "collapsed": false
   },
   "outputs": [
    {
     "data": {
      "text/plain": [
       "array([[  1.    ,   6.1101],\n",
       "       [  1.    ,   5.5277],\n",
       "       [  1.    ,   8.5186],\n",
       "       [  1.    ,   7.0032],\n",
       "       [  1.    ,   5.8598],\n",
       "       [  1.    ,   8.3829],\n",
       "       [  1.    ,   7.4764],\n",
       "       [  1.    ,   8.5781],\n",
       "       [  1.    ,   6.4862],\n",
       "       [  1.    ,   5.0546],\n",
       "       [  1.    ,   5.7107],\n",
       "       [  1.    ,  14.164 ],\n",
       "       [  1.    ,   5.734 ],\n",
       "       [  1.    ,   8.4084],\n",
       "       [  1.    ,   5.6407],\n",
       "       [  1.    ,   5.3794],\n",
       "       [  1.    ,   6.3654],\n",
       "       [  1.    ,   5.1301],\n",
       "       [  1.    ,   6.4296],\n",
       "       [  1.    ,   7.0708],\n",
       "       [  1.    ,   6.1891],\n",
       "       [  1.    ,  20.27  ],\n",
       "       [  1.    ,   5.4901],\n",
       "       [  1.    ,   6.3261],\n",
       "       [  1.    ,   5.5649],\n",
       "       [  1.    ,  18.945 ],\n",
       "       [  1.    ,  12.828 ],\n",
       "       [  1.    ,  10.957 ],\n",
       "       [  1.    ,  13.176 ],\n",
       "       [  1.    ,  22.203 ],\n",
       "       [  1.    ,   5.2524],\n",
       "       [  1.    ,   6.5894],\n",
       "       [  1.    ,   9.2482],\n",
       "       [  1.    ,   5.8918],\n",
       "       [  1.    ,   8.2111],\n",
       "       [  1.    ,   7.9334],\n",
       "       [  1.    ,   8.0959],\n",
       "       [  1.    ,   5.6063],\n",
       "       [  1.    ,  12.836 ],\n",
       "       [  1.    ,   6.3534],\n",
       "       [  1.    ,   5.4069],\n",
       "       [  1.    ,   6.8825],\n",
       "       [  1.    ,  11.708 ],\n",
       "       [  1.    ,   5.7737],\n",
       "       [  1.    ,   7.8247],\n",
       "       [  1.    ,   7.0931],\n",
       "       [  1.    ,   5.0702],\n",
       "       [  1.    ,   5.8014],\n",
       "       [  1.    ,  11.7   ],\n",
       "       [  1.    ,   5.5416],\n",
       "       [  1.    ,   7.5402],\n",
       "       [  1.    ,   5.3077],\n",
       "       [  1.    ,   7.4239],\n",
       "       [  1.    ,   7.6031],\n",
       "       [  1.    ,   6.3328],\n",
       "       [  1.    ,   6.3589],\n",
       "       [  1.    ,   6.2742],\n",
       "       [  1.    ,   5.6397],\n",
       "       [  1.    ,   9.3102],\n",
       "       [  1.    ,   9.4536],\n",
       "       [  1.    ,   8.8254],\n",
       "       [  1.    ,   5.1793],\n",
       "       [  1.    ,  21.279 ],\n",
       "       [  1.    ,  14.908 ],\n",
       "       [  1.    ,  18.959 ],\n",
       "       [  1.    ,   7.2182],\n",
       "       [  1.    ,   8.2951],\n",
       "       [  1.    ,  10.236 ],\n",
       "       [  1.    ,   5.4994],\n",
       "       [  1.    ,  20.341 ],\n",
       "       [  1.    ,  10.136 ],\n",
       "       [  1.    ,   7.3345],\n",
       "       [  1.    ,   6.0062],\n",
       "       [  1.    ,   7.2259],\n",
       "       [  1.    ,   5.0269],\n",
       "       [  1.    ,   6.5479],\n",
       "       [  1.    ,   7.5386],\n",
       "       [  1.    ,   5.0365],\n",
       "       [  1.    ,  10.274 ],\n",
       "       [  1.    ,   5.1077],\n",
       "       [  1.    ,   5.7292],\n",
       "       [  1.    ,   5.1884],\n",
       "       [  1.    ,   6.3557],\n",
       "       [  1.    ,   9.7687],\n",
       "       [  1.    ,   6.5159],\n",
       "       [  1.    ,   8.5172],\n",
       "       [  1.    ,   9.1802],\n",
       "       [  1.    ,   6.002 ],\n",
       "       [  1.    ,   5.5204],\n",
       "       [  1.    ,   5.0594],\n",
       "       [  1.    ,   5.7077],\n",
       "       [  1.    ,   7.6366],\n",
       "       [  1.    ,   5.8707],\n",
       "       [  1.    ,   5.3054],\n",
       "       [  1.    ,   8.2934],\n",
       "       [  1.    ,  13.394 ],\n",
       "       [  1.    ,   5.4369]])"
      ]
     },
     "execution_count": 389,
     "metadata": {},
     "output_type": "execute_result"
    }
   ],
   "source": [
    "X = np.c_[np.ones((m, 1)), X]\n",
    "X"
   ]
  },
  {
   "cell_type": "code",
   "execution_count": 390,
   "metadata": {
    "collapsed": false
   },
   "outputs": [
    {
     "data": {
      "text/plain": [
       "array([[ 0.],\n",
       "       [ 0.]])"
      ]
     },
     "execution_count": 390,
     "metadata": {},
     "output_type": "execute_result"
    }
   ],
   "source": [
    "theta_init = np.zeros(((2, 1)))\n",
    "theta_init"
   ]
  },
  {
   "cell_type": "code",
   "execution_count": 391,
   "metadata": {
    "collapsed": true
   },
   "outputs": [],
   "source": [
    "iterations = 1500\n",
    "alpha = 0.01"
   ]
  },
  {
   "cell_type": "code",
   "execution_count": 392,
   "metadata": {
    "collapsed": false
   },
   "outputs": [],
   "source": [
    "def cost_function(X, y, theta):\n",
    "    h = X @ theta\n",
    "    cost = (1 / (2 * m)) * np.sum((h - y) ** 2)\n",
    "    return cost"
   ]
  },
  {
   "cell_type": "code",
   "execution_count": 393,
   "metadata": {
    "collapsed": false
   },
   "outputs": [],
   "source": [
    "cost = cost_function(X, y, theta_init)"
   ]
  },
  {
   "cell_type": "code",
   "execution_count": 394,
   "metadata": {
    "collapsed": false
   },
   "outputs": [],
   "source": [
    "assert np.round(cost, 2) == 32.07, \"Error\""
   ]
  },
  {
   "cell_type": "code",
   "execution_count": 395,
   "metadata": {
    "collapsed": false
   },
   "outputs": [
    {
     "data": {
      "text/plain": [
       "array([[-1],\n",
       "       [ 2]])"
      ]
     },
     "execution_count": 395,
     "metadata": {},
     "output_type": "execute_result"
    }
   ],
   "source": [
    "theta_test = np.array([[-1], [2]])\n",
    "theta_test"
   ]
  },
  {
   "cell_type": "code",
   "execution_count": 396,
   "metadata": {
    "collapsed": true
   },
   "outputs": [],
   "source": [
    "cost = cost_function(X, y, theta_test)"
   ]
  },
  {
   "cell_type": "code",
   "execution_count": 397,
   "metadata": {
    "collapsed": false
   },
   "outputs": [],
   "source": [
    "assert np.round(cost, 2) == 54.24, \"Error\""
   ]
  },
  {
   "cell_type": "code",
   "execution_count": 398,
   "metadata": {
    "collapsed": true
   },
   "outputs": [],
   "source": [
    "def gradient_descent(X, y, theta, alpha, iterations):\n",
    "    for _ in range(iterations):\n",
    "        h = X @ theta\n",
    "        theta = theta - alpha * (1 / m) * X.T @ (h - y)\n",
    "    return theta"
   ]
  },
  {
   "cell_type": "code",
   "execution_count": 399,
   "metadata": {
    "collapsed": false
   },
   "outputs": [
    {
     "data": {
      "text/plain": [
       "array([[-3.63029144],\n",
       "       [ 1.16636235]])"
      ]
     },
     "execution_count": 399,
     "metadata": {},
     "output_type": "execute_result"
    }
   ],
   "source": [
    "theta = gradient_descent(X, y, theta_init, alpha, iterations)\n",
    "theta"
   ]
  },
  {
   "cell_type": "code",
   "execution_count": 400,
   "metadata": {
    "collapsed": true
   },
   "outputs": [],
   "source": [
    "assert np.round(theta[0], 4) == -3.6303, \"Error\""
   ]
  },
  {
   "cell_type": "code",
   "execution_count": 401,
   "metadata": {
    "collapsed": false
   },
   "outputs": [],
   "source": [
    "assert np.round(theta[1], 4) == 1.1664, \"Error\""
   ]
  },
  {
   "cell_type": "code",
   "execution_count": 402,
   "metadata": {
    "collapsed": true
   },
   "outputs": [],
   "source": [
    "# TODO: Plot fitted regression line."
   ]
  },
  {
   "cell_type": "markdown",
   "metadata": {},
   "source": [
    "## 1.3. Prediction"
   ]
  },
  {
   "cell_type": "code",
   "execution_count": 403,
   "metadata": {
    "collapsed": false
   },
   "outputs": [],
   "source": [
    "# Predict values for population sizes of 35,000 and 70,000\n",
    "x_pred1 = np.array([[1], [3.5]])\n",
    "x_pred2 = np.array([[1], [7.0]])"
   ]
  },
  {
   "cell_type": "code",
   "execution_count": 404,
   "metadata": {
    "collapsed": false
   },
   "outputs": [
    {
     "data": {
      "text/plain": [
       "array([[-3.63029144,  1.16636235]])"
      ]
     },
     "execution_count": 404,
     "metadata": {},
     "output_type": "execute_result"
    }
   ],
   "source": [
    "theta.T"
   ]
  },
  {
   "cell_type": "code",
   "execution_count": 405,
   "metadata": {
    "collapsed": false
   },
   "outputs": [
    {
     "data": {
      "text/plain": [
       "array([[ 1.],\n",
       "       [ 7.]])"
      ]
     },
     "execution_count": 405,
     "metadata": {},
     "output_type": "execute_result"
    }
   ],
   "source": [
    "x_pred2"
   ]
  },
  {
   "cell_type": "code",
   "execution_count": 411,
   "metadata": {
    "collapsed": false
   },
   "outputs": [],
   "source": [
    "pred1 = theta.T @ x_pred1\n",
    "pred2 = theta.T @ x_pred2"
   ]
  },
  {
   "cell_type": "code",
   "execution_count": 412,
   "metadata": {
    "collapsed": false
   },
   "outputs": [
    {
     "data": {
      "text/plain": [
       "array([[ 0.45197679]])"
      ]
     },
     "execution_count": 412,
     "metadata": {},
     "output_type": "execute_result"
    }
   ],
   "source": [
    "pred1"
   ]
  },
  {
   "cell_type": "code",
   "execution_count": 413,
   "metadata": {
    "collapsed": false
   },
   "outputs": [
    {
     "data": {
      "text/plain": [
       "array([[ 4.53424501]])"
      ]
     },
     "execution_count": 413,
     "metadata": {},
     "output_type": "execute_result"
    }
   ],
   "source": [
    "pred2"
   ]
  },
  {
   "cell_type": "code",
   "execution_count": 414,
   "metadata": {
    "collapsed": false
   },
   "outputs": [],
   "source": [
    "assert np.round(pred1[0][0], 3) == 0.452, \"Error\"\n",
    "assert np.round(pred2[0][0], 3) == 4.534, \"Error\""
   ]
  },
  {
   "cell_type": "code",
   "execution_count": 415,
   "metadata": {
    "collapsed": true
   },
   "outputs": [],
   "source": [
    "# TODO: Visualize gradient descent."
   ]
  },
  {
   "cell_type": "markdown",
   "metadata": {},
   "source": [
    "## 2. Multiple variables linear regression"
   ]
  },
  {
   "cell_type": "code",
   "execution_count": 416,
   "metadata": {
    "collapsed": true
   },
   "outputs": [],
   "source": [
    "data = np.loadtxt(\"datasets/ex1data2.txt\", delimiter=\",\")"
   ]
  },
  {
   "cell_type": "code",
   "execution_count": 417,
   "metadata": {
    "collapsed": false
   },
   "outputs": [
    {
     "data": {
      "text/plain": [
       "(47, 3)"
      ]
     },
     "execution_count": 417,
     "metadata": {},
     "output_type": "execute_result"
    }
   ],
   "source": [
    "data.shape"
   ]
  },
  {
   "cell_type": "code",
   "execution_count": 418,
   "metadata": {
    "collapsed": false
   },
   "outputs": [
    {
     "data": {
      "text/plain": [
       "array([[  2.10400000e+03,   3.00000000e+00,   3.99900000e+05],\n",
       "       [  1.60000000e+03,   3.00000000e+00,   3.29900000e+05],\n",
       "       [  2.40000000e+03,   3.00000000e+00,   3.69000000e+05],\n",
       "       [  1.41600000e+03,   2.00000000e+00,   2.32000000e+05],\n",
       "       [  3.00000000e+03,   4.00000000e+00,   5.39900000e+05],\n",
       "       [  1.98500000e+03,   4.00000000e+00,   2.99900000e+05],\n",
       "       [  1.53400000e+03,   3.00000000e+00,   3.14900000e+05],\n",
       "       [  1.42700000e+03,   3.00000000e+00,   1.98999000e+05],\n",
       "       [  1.38000000e+03,   3.00000000e+00,   2.12000000e+05],\n",
       "       [  1.49400000e+03,   3.00000000e+00,   2.42500000e+05],\n",
       "       [  1.94000000e+03,   4.00000000e+00,   2.39999000e+05],\n",
       "       [  2.00000000e+03,   3.00000000e+00,   3.47000000e+05],\n",
       "       [  1.89000000e+03,   3.00000000e+00,   3.29999000e+05],\n",
       "       [  4.47800000e+03,   5.00000000e+00,   6.99900000e+05],\n",
       "       [  1.26800000e+03,   3.00000000e+00,   2.59900000e+05],\n",
       "       [  2.30000000e+03,   4.00000000e+00,   4.49900000e+05],\n",
       "       [  1.32000000e+03,   2.00000000e+00,   2.99900000e+05],\n",
       "       [  1.23600000e+03,   3.00000000e+00,   1.99900000e+05],\n",
       "       [  2.60900000e+03,   4.00000000e+00,   4.99998000e+05],\n",
       "       [  3.03100000e+03,   4.00000000e+00,   5.99000000e+05],\n",
       "       [  1.76700000e+03,   3.00000000e+00,   2.52900000e+05],\n",
       "       [  1.88800000e+03,   2.00000000e+00,   2.55000000e+05],\n",
       "       [  1.60400000e+03,   3.00000000e+00,   2.42900000e+05],\n",
       "       [  1.96200000e+03,   4.00000000e+00,   2.59900000e+05],\n",
       "       [  3.89000000e+03,   3.00000000e+00,   5.73900000e+05],\n",
       "       [  1.10000000e+03,   3.00000000e+00,   2.49900000e+05],\n",
       "       [  1.45800000e+03,   3.00000000e+00,   4.64500000e+05],\n",
       "       [  2.52600000e+03,   3.00000000e+00,   4.69000000e+05],\n",
       "       [  2.20000000e+03,   3.00000000e+00,   4.75000000e+05],\n",
       "       [  2.63700000e+03,   3.00000000e+00,   2.99900000e+05],\n",
       "       [  1.83900000e+03,   2.00000000e+00,   3.49900000e+05],\n",
       "       [  1.00000000e+03,   1.00000000e+00,   1.69900000e+05],\n",
       "       [  2.04000000e+03,   4.00000000e+00,   3.14900000e+05],\n",
       "       [  3.13700000e+03,   3.00000000e+00,   5.79900000e+05],\n",
       "       [  1.81100000e+03,   4.00000000e+00,   2.85900000e+05],\n",
       "       [  1.43700000e+03,   3.00000000e+00,   2.49900000e+05],\n",
       "       [  1.23900000e+03,   3.00000000e+00,   2.29900000e+05],\n",
       "       [  2.13200000e+03,   4.00000000e+00,   3.45000000e+05],\n",
       "       [  4.21500000e+03,   4.00000000e+00,   5.49000000e+05],\n",
       "       [  2.16200000e+03,   4.00000000e+00,   2.87000000e+05],\n",
       "       [  1.66400000e+03,   2.00000000e+00,   3.68500000e+05],\n",
       "       [  2.23800000e+03,   3.00000000e+00,   3.29900000e+05],\n",
       "       [  2.56700000e+03,   4.00000000e+00,   3.14000000e+05],\n",
       "       [  1.20000000e+03,   3.00000000e+00,   2.99000000e+05],\n",
       "       [  8.52000000e+02,   2.00000000e+00,   1.79900000e+05],\n",
       "       [  1.85200000e+03,   4.00000000e+00,   2.99900000e+05],\n",
       "       [  1.20300000e+03,   3.00000000e+00,   2.39500000e+05]])"
      ]
     },
     "execution_count": 418,
     "metadata": {},
     "output_type": "execute_result"
    }
   ],
   "source": [
    "data"
   ]
  },
  {
   "cell_type": "code",
   "execution_count": 419,
   "metadata": {
    "collapsed": true
   },
   "outputs": [],
   "source": [
    "X = data[:, 0:2]\n",
    "y = data[:, 2:]"
   ]
  },
  {
   "cell_type": "code",
   "execution_count": 420,
   "metadata": {
    "collapsed": false
   },
   "outputs": [
    {
     "data": {
      "text/plain": [
       "(47, 2)"
      ]
     },
     "execution_count": 420,
     "metadata": {},
     "output_type": "execute_result"
    }
   ],
   "source": [
    "X.shape"
   ]
  },
  {
   "cell_type": "code",
   "execution_count": 421,
   "metadata": {
    "collapsed": false
   },
   "outputs": [
    {
     "data": {
      "text/plain": [
       "array([[  2.10400000e+03,   3.00000000e+00],\n",
       "       [  1.60000000e+03,   3.00000000e+00],\n",
       "       [  2.40000000e+03,   3.00000000e+00],\n",
       "       [  1.41600000e+03,   2.00000000e+00],\n",
       "       [  3.00000000e+03,   4.00000000e+00],\n",
       "       [  1.98500000e+03,   4.00000000e+00],\n",
       "       [  1.53400000e+03,   3.00000000e+00],\n",
       "       [  1.42700000e+03,   3.00000000e+00],\n",
       "       [  1.38000000e+03,   3.00000000e+00],\n",
       "       [  1.49400000e+03,   3.00000000e+00],\n",
       "       [  1.94000000e+03,   4.00000000e+00],\n",
       "       [  2.00000000e+03,   3.00000000e+00],\n",
       "       [  1.89000000e+03,   3.00000000e+00],\n",
       "       [  4.47800000e+03,   5.00000000e+00],\n",
       "       [  1.26800000e+03,   3.00000000e+00],\n",
       "       [  2.30000000e+03,   4.00000000e+00],\n",
       "       [  1.32000000e+03,   2.00000000e+00],\n",
       "       [  1.23600000e+03,   3.00000000e+00],\n",
       "       [  2.60900000e+03,   4.00000000e+00],\n",
       "       [  3.03100000e+03,   4.00000000e+00],\n",
       "       [  1.76700000e+03,   3.00000000e+00],\n",
       "       [  1.88800000e+03,   2.00000000e+00],\n",
       "       [  1.60400000e+03,   3.00000000e+00],\n",
       "       [  1.96200000e+03,   4.00000000e+00],\n",
       "       [  3.89000000e+03,   3.00000000e+00],\n",
       "       [  1.10000000e+03,   3.00000000e+00],\n",
       "       [  1.45800000e+03,   3.00000000e+00],\n",
       "       [  2.52600000e+03,   3.00000000e+00],\n",
       "       [  2.20000000e+03,   3.00000000e+00],\n",
       "       [  2.63700000e+03,   3.00000000e+00],\n",
       "       [  1.83900000e+03,   2.00000000e+00],\n",
       "       [  1.00000000e+03,   1.00000000e+00],\n",
       "       [  2.04000000e+03,   4.00000000e+00],\n",
       "       [  3.13700000e+03,   3.00000000e+00],\n",
       "       [  1.81100000e+03,   4.00000000e+00],\n",
       "       [  1.43700000e+03,   3.00000000e+00],\n",
       "       [  1.23900000e+03,   3.00000000e+00],\n",
       "       [  2.13200000e+03,   4.00000000e+00],\n",
       "       [  4.21500000e+03,   4.00000000e+00],\n",
       "       [  2.16200000e+03,   4.00000000e+00],\n",
       "       [  1.66400000e+03,   2.00000000e+00],\n",
       "       [  2.23800000e+03,   3.00000000e+00],\n",
       "       [  2.56700000e+03,   4.00000000e+00],\n",
       "       [  1.20000000e+03,   3.00000000e+00],\n",
       "       [  8.52000000e+02,   2.00000000e+00],\n",
       "       [  1.85200000e+03,   4.00000000e+00],\n",
       "       [  1.20300000e+03,   3.00000000e+00]])"
      ]
     },
     "execution_count": 421,
     "metadata": {},
     "output_type": "execute_result"
    }
   ],
   "source": [
    "X"
   ]
  },
  {
   "cell_type": "code",
   "execution_count": 422,
   "metadata": {
    "collapsed": false
   },
   "outputs": [
    {
     "data": {
      "text/plain": [
       "(47, 1)"
      ]
     },
     "execution_count": 422,
     "metadata": {},
     "output_type": "execute_result"
    }
   ],
   "source": [
    "y.shape"
   ]
  },
  {
   "cell_type": "code",
   "execution_count": 423,
   "metadata": {
    "collapsed": false
   },
   "outputs": [
    {
     "data": {
      "text/plain": [
       "array([[ 399900.],\n",
       "       [ 329900.],\n",
       "       [ 369000.],\n",
       "       [ 232000.],\n",
       "       [ 539900.],\n",
       "       [ 299900.],\n",
       "       [ 314900.],\n",
       "       [ 198999.],\n",
       "       [ 212000.],\n",
       "       [ 242500.],\n",
       "       [ 239999.],\n",
       "       [ 347000.],\n",
       "       [ 329999.],\n",
       "       [ 699900.],\n",
       "       [ 259900.],\n",
       "       [ 449900.],\n",
       "       [ 299900.],\n",
       "       [ 199900.],\n",
       "       [ 499998.],\n",
       "       [ 599000.],\n",
       "       [ 252900.],\n",
       "       [ 255000.],\n",
       "       [ 242900.],\n",
       "       [ 259900.],\n",
       "       [ 573900.],\n",
       "       [ 249900.],\n",
       "       [ 464500.],\n",
       "       [ 469000.],\n",
       "       [ 475000.],\n",
       "       [ 299900.],\n",
       "       [ 349900.],\n",
       "       [ 169900.],\n",
       "       [ 314900.],\n",
       "       [ 579900.],\n",
       "       [ 285900.],\n",
       "       [ 249900.],\n",
       "       [ 229900.],\n",
       "       [ 345000.],\n",
       "       [ 549000.],\n",
       "       [ 287000.],\n",
       "       [ 368500.],\n",
       "       [ 329900.],\n",
       "       [ 314000.],\n",
       "       [ 299000.],\n",
       "       [ 179900.],\n",
       "       [ 299900.],\n",
       "       [ 239500.]])"
      ]
     },
     "execution_count": 423,
     "metadata": {},
     "output_type": "execute_result"
    }
   ],
   "source": [
    "y"
   ]
  },
  {
   "cell_type": "code",
   "execution_count": 424,
   "metadata": {
    "collapsed": false
   },
   "outputs": [
    {
     "data": {
      "text/plain": [
       "47"
      ]
     },
     "execution_count": 424,
     "metadata": {},
     "output_type": "execute_result"
    }
   ],
   "source": [
    "m = len(y)\n",
    "m"
   ]
  },
  {
   "cell_type": "markdown",
   "metadata": {},
   "source": [
    "## 2.1 Feature Normalization"
   ]
  },
  {
   "cell_type": "code",
   "execution_count": 425,
   "metadata": {
    "collapsed": true
   },
   "outputs": [],
   "source": [
    "def normalize_feature(X):\n",
    "    X_mean = X.mean(axis=0)\n",
    "    X_std = X.std(axis=0, ddof=True)\n",
    "    return X_mean, X_std, (X - X_mean) / X_std"
   ]
  },
  {
   "cell_type": "code",
   "execution_count": 426,
   "metadata": {
    "collapsed": false
   },
   "outputs": [],
   "source": [
    "# first normalized, then add bias unit\n",
    "X_mean, X_std, X = normalize_feature(X)"
   ]
  },
  {
   "cell_type": "markdown",
   "metadata": {},
   "source": [
    "## 2.2 Gradient Descent"
   ]
  },
  {
   "cell_type": "code",
   "execution_count": 427,
   "metadata": {
    "collapsed": false
   },
   "outputs": [],
   "source": [
    "X = np.c_[np.ones((m, 1)), X]"
   ]
  },
  {
   "cell_type": "code",
   "execution_count": 428,
   "metadata": {
    "collapsed": false
   },
   "outputs": [
    {
     "data": {
      "text/plain": [
       "array([[  1.00000000e+00,   1.30009869e-01,  -2.23675187e-01],\n",
       "       [  1.00000000e+00,  -5.04189838e-01,  -2.23675187e-01],\n",
       "       [  1.00000000e+00,   5.02476364e-01,  -2.23675187e-01],\n",
       "       [  1.00000000e+00,  -7.35723065e-01,  -1.53776691e+00],\n",
       "       [  1.00000000e+00,   1.25747602e+00,   1.09041654e+00],\n",
       "       [  1.00000000e+00,  -1.97317285e-02,   1.09041654e+00],\n",
       "       [  1.00000000e+00,  -5.87239800e-01,  -2.23675187e-01],\n",
       "       [  1.00000000e+00,  -7.21881404e-01,  -2.23675187e-01],\n",
       "       [  1.00000000e+00,  -7.81023044e-01,  -2.23675187e-01],\n",
       "       [  1.00000000e+00,  -6.37573110e-01,  -2.23675187e-01],\n",
       "       [  1.00000000e+00,  -7.63567023e-02,   1.09041654e+00],\n",
       "       [  1.00000000e+00,  -8.56737193e-04,  -2.23675187e-01],\n",
       "       [  1.00000000e+00,  -1.39273340e-01,  -2.23675187e-01],\n",
       "       [  1.00000000e+00,   3.11729182e+00,   2.40450826e+00],\n",
       "       [  1.00000000e+00,  -9.21956312e-01,  -2.23675187e-01],\n",
       "       [  1.00000000e+00,   3.76643089e-01,   1.09041654e+00],\n",
       "       [  1.00000000e+00,  -8.56523009e-01,  -1.53776691e+00],\n",
       "       [  1.00000000e+00,  -9.62222960e-01,  -2.23675187e-01],\n",
       "       [  1.00000000e+00,   7.65467909e-01,   1.09041654e+00],\n",
       "       [  1.00000000e+00,   1.29648433e+00,   1.09041654e+00],\n",
       "       [  1.00000000e+00,  -2.94048269e-01,  -2.23675187e-01],\n",
       "       [  1.00000000e+00,  -1.41790005e-01,  -1.53776691e+00],\n",
       "       [  1.00000000e+00,  -4.99156507e-01,  -2.23675187e-01],\n",
       "       [  1.00000000e+00,  -4.86733818e-02,   1.09041654e+00],\n",
       "       [  1.00000000e+00,   2.37739217e+00,  -2.23675187e-01],\n",
       "       [  1.00000000e+00,  -1.13335621e+00,  -2.23675187e-01],\n",
       "       [  1.00000000e+00,  -6.82873089e-01,  -2.23675187e-01],\n",
       "       [  1.00000000e+00,   6.61026291e-01,  -2.23675187e-01],\n",
       "       [  1.00000000e+00,   2.50809813e-01,  -2.23675187e-01],\n",
       "       [  1.00000000e+00,   8.00701226e-01,  -2.23675187e-01],\n",
       "       [  1.00000000e+00,  -2.03448310e-01,  -1.53776691e+00],\n",
       "       [  1.00000000e+00,  -1.25918949e+00,  -2.85185864e+00],\n",
       "       [  1.00000000e+00,   4.94765729e-02,   1.09041654e+00],\n",
       "       [  1.00000000e+00,   1.42986760e+00,  -2.23675187e-01],\n",
       "       [  1.00000000e+00,  -2.38681627e-01,   1.09041654e+00],\n",
       "       [  1.00000000e+00,  -7.09298077e-01,  -2.23675187e-01],\n",
       "       [  1.00000000e+00,  -9.58447962e-01,  -2.23675187e-01],\n",
       "       [  1.00000000e+00,   1.65243186e-01,   1.09041654e+00],\n",
       "       [  1.00000000e+00,   2.78635031e+00,   1.09041654e+00],\n",
       "       [  1.00000000e+00,   2.02993169e-01,   1.09041654e+00],\n",
       "       [  1.00000000e+00,  -4.23656542e-01,  -1.53776691e+00],\n",
       "       [  1.00000000e+00,   2.98626458e-01,  -2.23675187e-01],\n",
       "       [  1.00000000e+00,   7.12617934e-01,   1.09041654e+00],\n",
       "       [  1.00000000e+00,  -1.00752294e+00,  -2.23675187e-01],\n",
       "       [  1.00000000e+00,  -1.44542274e+00,  -1.53776691e+00],\n",
       "       [  1.00000000e+00,  -1.87089985e-01,   1.09041654e+00],\n",
       "       [  1.00000000e+00,  -1.00374794e+00,  -2.23675187e-01]])"
      ]
     },
     "execution_count": 428,
     "metadata": {},
     "output_type": "execute_result"
    }
   ],
   "source": [
    "X"
   ]
  },
  {
   "cell_type": "code",
   "execution_count": 429,
   "metadata": {
    "collapsed": true
   },
   "outputs": [],
   "source": [
    "alpha = 1.2\n",
    "num_iters = 50\n",
    "theta_init = np.zeros((3, 1))"
   ]
  },
  {
   "cell_type": "code",
   "execution_count": 430,
   "metadata": {
    "collapsed": false
   },
   "outputs": [
    {
     "data": {
      "text/plain": [
       "array([[ 340412.65957447],\n",
       "       [ 110631.05027885],\n",
       "       [  -6649.47427082]])"
      ]
     },
     "execution_count": 430,
     "metadata": {},
     "output_type": "execute_result"
    }
   ],
   "source": [
    "theta = gradient_descent(X, y, theta_init, alpha, iterations)\n",
    "theta"
   ]
  },
  {
   "cell_type": "code",
   "execution_count": 431,
   "metadata": {
    "collapsed": true
   },
   "outputs": [],
   "source": [
    "# TODO: Plot cost when iterating gradient descent and tune alpha."
   ]
  },
  {
   "cell_type": "markdown",
   "metadata": {},
   "source": [
    "## 2.3. Prediction"
   ]
  },
  {
   "cell_type": "code",
   "execution_count": 480,
   "metadata": {
    "collapsed": false
   },
   "outputs": [],
   "source": [
    "x_pred = np.array([1650, 3])"
   ]
  },
  {
   "cell_type": "code",
   "execution_count": 476,
   "metadata": {
    "collapsed": false
   },
   "outputs": [],
   "source": [
    "# first normalized, then add bias unit\n",
    "x_pred = (x_pred - X_mean) / X_std\n",
    "x_pred = np.hstack([np.ones(1), x_pred])[:, np.newaxis]"
   ]
  },
  {
   "cell_type": "code",
   "execution_count": 477,
   "metadata": {
    "collapsed": false
   },
   "outputs": [
    {
     "data": {
      "text/plain": [
       "array([[ 1.        ],\n",
       "       [-0.4412732 ],\n",
       "       [-0.22367519]])"
      ]
     },
     "execution_count": 477,
     "metadata": {},
     "output_type": "execute_result"
    }
   ],
   "source": [
    "x_pred"
   ]
  },
  {
   "cell_type": "code",
   "execution_count": 478,
   "metadata": {
    "collapsed": true
   },
   "outputs": [],
   "source": [
    "pred = theta.T @ x_pred"
   ]
  },
  {
   "cell_type": "code",
   "execution_count": 479,
   "metadata": {
    "collapsed": false
   },
   "outputs": [
    {
     "data": {
      "text/plain": [
       "array([[ 293081.4643349]])"
      ]
     },
     "execution_count": 479,
     "metadata": {},
     "output_type": "execute_result"
    }
   ],
   "source": [
    "pred"
   ]
  },
  {
   "cell_type": "markdown",
   "metadata": {},
   "source": [
    "## 3. Normal equations"
   ]
  },
  {
   "cell_type": "code",
   "execution_count": 483,
   "metadata": {
    "collapsed": false
   },
   "outputs": [],
   "source": [
    "data = np.loadtxt(\"datasets/ex1data2.txt\", delimiter=\",\")"
   ]
  },
  {
   "cell_type": "code",
   "execution_count": 484,
   "metadata": {
    "collapsed": true
   },
   "outputs": [],
   "source": [
    "X = data[:, 0:2]\n",
    "y = data[:, 2:]"
   ]
  },
  {
   "cell_type": "code",
   "execution_count": 485,
   "metadata": {
    "collapsed": false
   },
   "outputs": [
    {
     "data": {
      "text/plain": [
       "(47, 2)"
      ]
     },
     "execution_count": 485,
     "metadata": {},
     "output_type": "execute_result"
    }
   ],
   "source": [
    "X.shape"
   ]
  },
  {
   "cell_type": "code",
   "execution_count": 486,
   "metadata": {
    "collapsed": false
   },
   "outputs": [
    {
     "data": {
      "text/plain": [
       "array([[  2.10400000e+03,   3.00000000e+00],\n",
       "       [  1.60000000e+03,   3.00000000e+00],\n",
       "       [  2.40000000e+03,   3.00000000e+00],\n",
       "       [  1.41600000e+03,   2.00000000e+00],\n",
       "       [  3.00000000e+03,   4.00000000e+00],\n",
       "       [  1.98500000e+03,   4.00000000e+00],\n",
       "       [  1.53400000e+03,   3.00000000e+00],\n",
       "       [  1.42700000e+03,   3.00000000e+00],\n",
       "       [  1.38000000e+03,   3.00000000e+00],\n",
       "       [  1.49400000e+03,   3.00000000e+00],\n",
       "       [  1.94000000e+03,   4.00000000e+00],\n",
       "       [  2.00000000e+03,   3.00000000e+00],\n",
       "       [  1.89000000e+03,   3.00000000e+00],\n",
       "       [  4.47800000e+03,   5.00000000e+00],\n",
       "       [  1.26800000e+03,   3.00000000e+00],\n",
       "       [  2.30000000e+03,   4.00000000e+00],\n",
       "       [  1.32000000e+03,   2.00000000e+00],\n",
       "       [  1.23600000e+03,   3.00000000e+00],\n",
       "       [  2.60900000e+03,   4.00000000e+00],\n",
       "       [  3.03100000e+03,   4.00000000e+00],\n",
       "       [  1.76700000e+03,   3.00000000e+00],\n",
       "       [  1.88800000e+03,   2.00000000e+00],\n",
       "       [  1.60400000e+03,   3.00000000e+00],\n",
       "       [  1.96200000e+03,   4.00000000e+00],\n",
       "       [  3.89000000e+03,   3.00000000e+00],\n",
       "       [  1.10000000e+03,   3.00000000e+00],\n",
       "       [  1.45800000e+03,   3.00000000e+00],\n",
       "       [  2.52600000e+03,   3.00000000e+00],\n",
       "       [  2.20000000e+03,   3.00000000e+00],\n",
       "       [  2.63700000e+03,   3.00000000e+00],\n",
       "       [  1.83900000e+03,   2.00000000e+00],\n",
       "       [  1.00000000e+03,   1.00000000e+00],\n",
       "       [  2.04000000e+03,   4.00000000e+00],\n",
       "       [  3.13700000e+03,   3.00000000e+00],\n",
       "       [  1.81100000e+03,   4.00000000e+00],\n",
       "       [  1.43700000e+03,   3.00000000e+00],\n",
       "       [  1.23900000e+03,   3.00000000e+00],\n",
       "       [  2.13200000e+03,   4.00000000e+00],\n",
       "       [  4.21500000e+03,   4.00000000e+00],\n",
       "       [  2.16200000e+03,   4.00000000e+00],\n",
       "       [  1.66400000e+03,   2.00000000e+00],\n",
       "       [  2.23800000e+03,   3.00000000e+00],\n",
       "       [  2.56700000e+03,   4.00000000e+00],\n",
       "       [  1.20000000e+03,   3.00000000e+00],\n",
       "       [  8.52000000e+02,   2.00000000e+00],\n",
       "       [  1.85200000e+03,   4.00000000e+00],\n",
       "       [  1.20300000e+03,   3.00000000e+00]])"
      ]
     },
     "execution_count": 486,
     "metadata": {},
     "output_type": "execute_result"
    }
   ],
   "source": [
    "X"
   ]
  },
  {
   "cell_type": "code",
   "execution_count": 487,
   "metadata": {
    "collapsed": false
   },
   "outputs": [
    {
     "data": {
      "text/plain": [
       "(47, 1)"
      ]
     },
     "execution_count": 487,
     "metadata": {},
     "output_type": "execute_result"
    }
   ],
   "source": [
    "y.shape"
   ]
  },
  {
   "cell_type": "code",
   "execution_count": 488,
   "metadata": {
    "collapsed": false
   },
   "outputs": [
    {
     "data": {
      "text/plain": [
       "array([[ 399900.],\n",
       "       [ 329900.],\n",
       "       [ 369000.],\n",
       "       [ 232000.],\n",
       "       [ 539900.],\n",
       "       [ 299900.],\n",
       "       [ 314900.],\n",
       "       [ 198999.],\n",
       "       [ 212000.],\n",
       "       [ 242500.],\n",
       "       [ 239999.],\n",
       "       [ 347000.],\n",
       "       [ 329999.],\n",
       "       [ 699900.],\n",
       "       [ 259900.],\n",
       "       [ 449900.],\n",
       "       [ 299900.],\n",
       "       [ 199900.],\n",
       "       [ 499998.],\n",
       "       [ 599000.],\n",
       "       [ 252900.],\n",
       "       [ 255000.],\n",
       "       [ 242900.],\n",
       "       [ 259900.],\n",
       "       [ 573900.],\n",
       "       [ 249900.],\n",
       "       [ 464500.],\n",
       "       [ 469000.],\n",
       "       [ 475000.],\n",
       "       [ 299900.],\n",
       "       [ 349900.],\n",
       "       [ 169900.],\n",
       "       [ 314900.],\n",
       "       [ 579900.],\n",
       "       [ 285900.],\n",
       "       [ 249900.],\n",
       "       [ 229900.],\n",
       "       [ 345000.],\n",
       "       [ 549000.],\n",
       "       [ 287000.],\n",
       "       [ 368500.],\n",
       "       [ 329900.],\n",
       "       [ 314000.],\n",
       "       [ 299000.],\n",
       "       [ 179900.],\n",
       "       [ 299900.],\n",
       "       [ 239500.]])"
      ]
     },
     "execution_count": 488,
     "metadata": {},
     "output_type": "execute_result"
    }
   ],
   "source": [
    "y"
   ]
  },
  {
   "cell_type": "code",
   "execution_count": 489,
   "metadata": {
    "collapsed": true
   },
   "outputs": [],
   "source": [
    "m = len(y)"
   ]
  },
  {
   "cell_type": "markdown",
   "metadata": {},
   "source": [
    "## 3.1 Params estimation"
   ]
  },
  {
   "cell_type": "code",
   "execution_count": 491,
   "metadata": {
    "collapsed": false
   },
   "outputs": [],
   "source": [
    "X = np.c_[np.ones((m, 1)), X]"
   ]
  },
  {
   "cell_type": "code",
   "execution_count": 492,
   "metadata": {
    "collapsed": false
   },
   "outputs": [
    {
     "data": {
      "text/plain": [
       "array([[  1.00000000e+00,   2.10400000e+03,   3.00000000e+00],\n",
       "       [  1.00000000e+00,   1.60000000e+03,   3.00000000e+00],\n",
       "       [  1.00000000e+00,   2.40000000e+03,   3.00000000e+00],\n",
       "       [  1.00000000e+00,   1.41600000e+03,   2.00000000e+00],\n",
       "       [  1.00000000e+00,   3.00000000e+03,   4.00000000e+00],\n",
       "       [  1.00000000e+00,   1.98500000e+03,   4.00000000e+00],\n",
       "       [  1.00000000e+00,   1.53400000e+03,   3.00000000e+00],\n",
       "       [  1.00000000e+00,   1.42700000e+03,   3.00000000e+00],\n",
       "       [  1.00000000e+00,   1.38000000e+03,   3.00000000e+00],\n",
       "       [  1.00000000e+00,   1.49400000e+03,   3.00000000e+00],\n",
       "       [  1.00000000e+00,   1.94000000e+03,   4.00000000e+00],\n",
       "       [  1.00000000e+00,   2.00000000e+03,   3.00000000e+00],\n",
       "       [  1.00000000e+00,   1.89000000e+03,   3.00000000e+00],\n",
       "       [  1.00000000e+00,   4.47800000e+03,   5.00000000e+00],\n",
       "       [  1.00000000e+00,   1.26800000e+03,   3.00000000e+00],\n",
       "       [  1.00000000e+00,   2.30000000e+03,   4.00000000e+00],\n",
       "       [  1.00000000e+00,   1.32000000e+03,   2.00000000e+00],\n",
       "       [  1.00000000e+00,   1.23600000e+03,   3.00000000e+00],\n",
       "       [  1.00000000e+00,   2.60900000e+03,   4.00000000e+00],\n",
       "       [  1.00000000e+00,   3.03100000e+03,   4.00000000e+00],\n",
       "       [  1.00000000e+00,   1.76700000e+03,   3.00000000e+00],\n",
       "       [  1.00000000e+00,   1.88800000e+03,   2.00000000e+00],\n",
       "       [  1.00000000e+00,   1.60400000e+03,   3.00000000e+00],\n",
       "       [  1.00000000e+00,   1.96200000e+03,   4.00000000e+00],\n",
       "       [  1.00000000e+00,   3.89000000e+03,   3.00000000e+00],\n",
       "       [  1.00000000e+00,   1.10000000e+03,   3.00000000e+00],\n",
       "       [  1.00000000e+00,   1.45800000e+03,   3.00000000e+00],\n",
       "       [  1.00000000e+00,   2.52600000e+03,   3.00000000e+00],\n",
       "       [  1.00000000e+00,   2.20000000e+03,   3.00000000e+00],\n",
       "       [  1.00000000e+00,   2.63700000e+03,   3.00000000e+00],\n",
       "       [  1.00000000e+00,   1.83900000e+03,   2.00000000e+00],\n",
       "       [  1.00000000e+00,   1.00000000e+03,   1.00000000e+00],\n",
       "       [  1.00000000e+00,   2.04000000e+03,   4.00000000e+00],\n",
       "       [  1.00000000e+00,   3.13700000e+03,   3.00000000e+00],\n",
       "       [  1.00000000e+00,   1.81100000e+03,   4.00000000e+00],\n",
       "       [  1.00000000e+00,   1.43700000e+03,   3.00000000e+00],\n",
       "       [  1.00000000e+00,   1.23900000e+03,   3.00000000e+00],\n",
       "       [  1.00000000e+00,   2.13200000e+03,   4.00000000e+00],\n",
       "       [  1.00000000e+00,   4.21500000e+03,   4.00000000e+00],\n",
       "       [  1.00000000e+00,   2.16200000e+03,   4.00000000e+00],\n",
       "       [  1.00000000e+00,   1.66400000e+03,   2.00000000e+00],\n",
       "       [  1.00000000e+00,   2.23800000e+03,   3.00000000e+00],\n",
       "       [  1.00000000e+00,   2.56700000e+03,   4.00000000e+00],\n",
       "       [  1.00000000e+00,   1.20000000e+03,   3.00000000e+00],\n",
       "       [  1.00000000e+00,   8.52000000e+02,   2.00000000e+00],\n",
       "       [  1.00000000e+00,   1.85200000e+03,   4.00000000e+00],\n",
       "       [  1.00000000e+00,   1.20300000e+03,   3.00000000e+00]])"
      ]
     },
     "execution_count": 492,
     "metadata": {},
     "output_type": "execute_result"
    }
   ],
   "source": [
    "X"
   ]
  },
  {
   "cell_type": "code",
   "execution_count": 544,
   "metadata": {
    "collapsed": false
   },
   "outputs": [],
   "source": [
    "def normal_equation(X, y):\n",
    "    return np.linalg.pinv(X.T @ X) @ (X.T @ y)"
   ]
  },
  {
   "cell_type": "code",
   "execution_count": 545,
   "metadata": {
    "collapsed": false
   },
   "outputs": [],
   "source": [
    "theta = normal_equation(X, y)"
   ]
  },
  {
   "cell_type": "code",
   "execution_count": 547,
   "metadata": {
    "collapsed": false
   },
   "outputs": [
    {
     "data": {
      "text/plain": [
       "array([[ 89597.90954361],\n",
       "       [   139.21067402],\n",
       "       [ -8738.01911255]])"
      ]
     },
     "execution_count": 547,
     "metadata": {},
     "output_type": "execute_result"
    }
   ],
   "source": [
    "# values are different then in gradient descent case because we do not scale the data here!\n",
    "theta"
   ]
  },
  {
   "cell_type": "markdown",
   "metadata": {},
   "source": [
    "## 3.2 Prediction"
   ]
  },
  {
   "cell_type": "code",
   "execution_count": 558,
   "metadata": {
    "collapsed": true
   },
   "outputs": [],
   "source": [
    "x_pred = np.array([1, 1650, 3])[:, np.newaxis]"
   ]
  },
  {
   "cell_type": "code",
   "execution_count": 559,
   "metadata": {
    "collapsed": false
   },
   "outputs": [
    {
     "data": {
      "text/plain": [
       "array([[   1],\n",
       "       [1650],\n",
       "       [   3]])"
      ]
     },
     "execution_count": 559,
     "metadata": {},
     "output_type": "execute_result"
    }
   ],
   "source": [
    "x_pred"
   ]
  },
  {
   "cell_type": "code",
   "execution_count": 560,
   "metadata": {
    "collapsed": true
   },
   "outputs": [],
   "source": [
    "pred = theta.T @ x_pred"
   ]
  },
  {
   "cell_type": "code",
   "execution_count": 561,
   "metadata": {
    "collapsed": false
   },
   "outputs": [
    {
     "data": {
      "text/plain": [
       "array([[ 293081.46433499]])"
      ]
     },
     "execution_count": 561,
     "metadata": {},
     "output_type": "execute_result"
    }
   ],
   "source": [
    "pred"
   ]
  },
  {
   "cell_type": "code",
   "execution_count": null,
   "metadata": {
    "collapsed": true
   },
   "outputs": [],
   "source": []
  },
  {
   "cell_type": "code",
   "execution_count": null,
   "metadata": {
    "collapsed": true
   },
   "outputs": [],
   "source": []
  }
 ],
 "metadata": {
  "kernelspec": {
   "display_name": "Python 3",
   "language": "python",
   "name": "python3"
  },
  "language_info": {
   "codemirror_mode": {
    "name": "ipython",
    "version": 3
   },
   "file_extension": ".py",
   "mimetype": "text/x-python",
   "name": "python",
   "nbconvert_exporter": "python",
   "pygments_lexer": "ipython3",
   "version": "3.6.3"
  }
 },
 "nbformat": 4,
 "nbformat_minor": 2
}
