{
 "cells": [
  {
   "cell_type": "markdown",
   "metadata": {},
   "source": [
    "# Linear regression"
   ]
  },
  {
   "cell_type": "code",
   "execution_count": 546,
   "metadata": {
    "collapsed": true
   },
   "outputs": [],
   "source": [
    "import numpy as np\n",
    "\n",
    "import matplotlib.pyplot as plt\n",
    "%matplotlib inline"
   ]
  },
  {
   "cell_type": "markdown",
   "metadata": {},
   "source": [
    "## 1. Linear regression with one variable\n",
    "\n",
    "We will not implement linear regression with one variable to predict profits from a food truck. We are going to predict profits for new outlets based on already operating food trucks. The data we have are food trucks profits and populations of the cities they operate in. Our goal is to use this data to select which city to expand to next.\n",
    "\n",
    "The `ex1data1.txt` dataset contains two columns. The first one is the population of a city and the second is the profit of the foodtruck located in this city. Based on that we want to build a linear regression model predicting the profit for given population."
   ]
  },
  {
   "cell_type": "markdown",
   "metadata": {},
   "source": [
    "## 1.1 Data wrangling"
   ]
  },
  {
   "cell_type": "markdown",
   "metadata": {},
   "source": [
    "Let's start by loading out dataset."
   ]
  },
  {
   "cell_type": "code",
   "execution_count": 547,
   "metadata": {
    "collapsed": false
   },
   "outputs": [],
   "source": [
    "data = np.loadtxt(\"datasets/ex1data1.txt\", delimiter=\",\")"
   ]
  },
  {
   "cell_type": "markdown",
   "metadata": {},
   "source": [
    "Let's now see the data we have."
   ]
  },
  {
   "cell_type": "code",
   "execution_count": 548,
   "metadata": {
    "collapsed": false
   },
   "outputs": [
    {
     "data": {
      "text/plain": [
       "array([[  6.1101 ,  17.592  ],\n",
       "       [  5.5277 ,   9.1302 ],\n",
       "       [  8.5186 ,  13.662  ],\n",
       "       [  7.0032 ,  11.854  ],\n",
       "       [  5.8598 ,   6.8233 ],\n",
       "       [  8.3829 ,  11.886  ],\n",
       "       [  7.4764 ,   4.3483 ],\n",
       "       [  8.5781 ,  12.     ],\n",
       "       [  6.4862 ,   6.5987 ],\n",
       "       [  5.0546 ,   3.8166 ],\n",
       "       [  5.7107 ,   3.2522 ],\n",
       "       [ 14.164  ,  15.505  ],\n",
       "       [  5.734  ,   3.1551 ],\n",
       "       [  8.4084 ,   7.2258 ],\n",
       "       [  5.6407 ,   0.71618],\n",
       "       [  5.3794 ,   3.5129 ],\n",
       "       [  6.3654 ,   5.3048 ],\n",
       "       [  5.1301 ,   0.56077],\n",
       "       [  6.4296 ,   3.6518 ],\n",
       "       [  7.0708 ,   5.3893 ],\n",
       "       [  6.1891 ,   3.1386 ],\n",
       "       [ 20.27   ,  21.767  ],\n",
       "       [  5.4901 ,   4.263  ],\n",
       "       [  6.3261 ,   5.1875 ],\n",
       "       [  5.5649 ,   3.0825 ],\n",
       "       [ 18.945  ,  22.638  ],\n",
       "       [ 12.828  ,  13.501  ],\n",
       "       [ 10.957  ,   7.0467 ],\n",
       "       [ 13.176  ,  14.692  ],\n",
       "       [ 22.203  ,  24.147  ],\n",
       "       [  5.2524 ,  -1.22   ],\n",
       "       [  6.5894 ,   5.9966 ],\n",
       "       [  9.2482 ,  12.134  ],\n",
       "       [  5.8918 ,   1.8495 ],\n",
       "       [  8.2111 ,   6.5426 ],\n",
       "       [  7.9334 ,   4.5623 ],\n",
       "       [  8.0959 ,   4.1164 ],\n",
       "       [  5.6063 ,   3.3928 ],\n",
       "       [ 12.836  ,  10.117  ],\n",
       "       [  6.3534 ,   5.4974 ],\n",
       "       [  5.4069 ,   0.55657],\n",
       "       [  6.8825 ,   3.9115 ],\n",
       "       [ 11.708  ,   5.3854 ],\n",
       "       [  5.7737 ,   2.4406 ],\n",
       "       [  7.8247 ,   6.7318 ],\n",
       "       [  7.0931 ,   1.0463 ],\n",
       "       [  5.0702 ,   5.1337 ],\n",
       "       [  5.8014 ,   1.844  ],\n",
       "       [ 11.7    ,   8.0043 ],\n",
       "       [  5.5416 ,   1.0179 ],\n",
       "       [  7.5402 ,   6.7504 ],\n",
       "       [  5.3077 ,   1.8396 ],\n",
       "       [  7.4239 ,   4.2885 ],\n",
       "       [  7.6031 ,   4.9981 ],\n",
       "       [  6.3328 ,   1.4233 ],\n",
       "       [  6.3589 ,  -1.4211 ],\n",
       "       [  6.2742 ,   2.4756 ],\n",
       "       [  5.6397 ,   4.6042 ],\n",
       "       [  9.3102 ,   3.9624 ],\n",
       "       [  9.4536 ,   5.4141 ],\n",
       "       [  8.8254 ,   5.1694 ],\n",
       "       [  5.1793 ,  -0.74279],\n",
       "       [ 21.279  ,  17.929  ],\n",
       "       [ 14.908  ,  12.054  ],\n",
       "       [ 18.959  ,  17.054  ],\n",
       "       [  7.2182 ,   4.8852 ],\n",
       "       [  8.2951 ,   5.7442 ],\n",
       "       [ 10.236  ,   7.7754 ],\n",
       "       [  5.4994 ,   1.0173 ],\n",
       "       [ 20.341  ,  20.992  ],\n",
       "       [ 10.136  ,   6.6799 ],\n",
       "       [  7.3345 ,   4.0259 ],\n",
       "       [  6.0062 ,   1.2784 ],\n",
       "       [  7.2259 ,   3.3411 ],\n",
       "       [  5.0269 ,  -2.6807 ],\n",
       "       [  6.5479 ,   0.29678],\n",
       "       [  7.5386 ,   3.8845 ],\n",
       "       [  5.0365 ,   5.7014 ],\n",
       "       [ 10.274  ,   6.7526 ],\n",
       "       [  5.1077 ,   2.0576 ],\n",
       "       [  5.7292 ,   0.47953],\n",
       "       [  5.1884 ,   0.20421],\n",
       "       [  6.3557 ,   0.67861],\n",
       "       [  9.7687 ,   7.5435 ],\n",
       "       [  6.5159 ,   5.3436 ],\n",
       "       [  8.5172 ,   4.2415 ],\n",
       "       [  9.1802 ,   6.7981 ],\n",
       "       [  6.002  ,   0.92695],\n",
       "       [  5.5204 ,   0.152  ],\n",
       "       [  5.0594 ,   2.8214 ],\n",
       "       [  5.7077 ,   1.8451 ],\n",
       "       [  7.6366 ,   4.2959 ],\n",
       "       [  5.8707 ,   7.2029 ],\n",
       "       [  5.3054 ,   1.9869 ],\n",
       "       [  8.2934 ,   0.14454],\n",
       "       [ 13.394  ,   9.0551 ],\n",
       "       [  5.4369 ,   0.61705]])"
      ]
     },
     "execution_count": 548,
     "metadata": {},
     "output_type": "execute_result"
    }
   ],
   "source": [
    "data"
   ]
  },
  {
   "cell_type": "code",
   "execution_count": 549,
   "metadata": {
    "collapsed": true
   },
   "outputs": [],
   "source": [
    "# Add a column of ones to X.\n",
    "X = np.array([np.ones(len(data[:, 0])), data[:, 0]]).T\n",
    "# Prepare target value data.\n",
    "y = data[:, 1]"
   ]
  },
  {
   "cell_type": "markdown",
   "metadata": {},
   "source": [
    "Data type is numerical and we have no missing values on any other data related problems so we are ready to move on to exploration."
   ]
  },
  {
   "cell_type": "markdown",
   "metadata": {},
   "source": [
    "## 1.2 Data exploration"
   ]
  },
  {
   "cell_type": "markdown",
   "metadata": {},
   "source": [
    "Let's create a scatter plot of these two variables."
   ]
  },
  {
   "cell_type": "code",
   "execution_count": 550,
   "metadata": {
    "collapsed": false
   },
   "outputs": [
    {
     "data": {
      "image/png": "[encoded data removed]",
      "text/plain": [
       "<matplotlib.figure.Figure at 0x118fe74a8>"
      ]
     },
     "metadata": {},
     "output_type": "display_data"
    }
   ],
   "source": [
    "fig, axes = plt.subplots(figsize=(12, 8))\n",
    "axes = plt.scatter(data[:,0], data[:, 1])\n",
    "# axes.set_xlabel(\"Population of city in 10,000s\")\n",
    "# axes.set_ylabel(\"Profit in $10,000s\")\n",
    "# axes.set_title(\"Population vs. Profit\")"
   ]
  },
  {
   "cell_type": "markdown",
   "metadata": {},
   "source": [
    "We can see that there is clear linear relationship between city population and food truck profits. Let's measure it using correlation coefficient."
   ]
  },
  {
   "cell_type": "code",
   "execution_count": 551,
   "metadata": {
    "collapsed": false
   },
   "outputs": [
    {
     "data": {
      "text/plain": [
       "array([[ 1.        ,  0.83787323],\n",
       "       [ 0.83787323,  1.        ]])"
      ]
     },
     "execution_count": 551,
     "metadata": {},
     "output_type": "execute_result"
    }
   ],
   "source": [
    "np.corrcoef(data[:, 0], data[:, 1])"
   ]
  },
  {
   "cell_type": "markdown",
   "metadata": {},
   "source": [
    "The correlation is really strong."
   ]
  },
  {
   "cell_type": "markdown",
   "metadata": {},
   "source": [
    "## 1.3 Gradient descent"
   ]
  },
  {
   "cell_type": "code",
   "execution_count": 552,
   "metadata": {
    "collapsed": false
   },
   "outputs": [],
   "source": [
    "# Initial theta params values.\n",
    "theta = np.zeros((2, 1))\n",
    "\n",
    "# Gradient descent setting.\n",
    "iters = 1500\n",
    "alpha = 0.01"
   ]
  },
  {
   "cell_type": "markdown",
   "metadata": {},
   "source": [
    "### Cost function"
   ]
  },
  {
   "cell_type": "code",
   "execution_count": 553,
   "metadata": {
    "collapsed": false
   },
   "outputs": [],
   "source": [
    "def compute_cost(X, y, theta):\n",
    "    m = len(y)\n",
    "    prediction = np.dot(X, theta)\n",
    "    squared_diff = (prediction - y.reshape(m, 1))**2\n",
    "    squared_diff_sum = squared_diff.sum()\n",
    "    J = 1 / (2 * m) * squared_diff_sum\n",
    "    return J "
   ]
  },
  {
   "cell_type": "code",
   "execution_count": 554,
   "metadata": {
    "collapsed": false
   },
   "outputs": [],
   "source": [
    "J = compute_cost(X, y, theta)"
   ]
  },
  {
   "cell_type": "code",
   "execution_count": 555,
   "metadata": {
    "collapsed": false
   },
   "outputs": [],
   "source": [
    "assert round(J, 2) == 32.07, \"Incorrect cost test value result.\""
   ]
  },
  {
   "cell_type": "code",
   "execution_count": 556,
   "metadata": {
    "collapsed": true
   },
   "outputs": [],
   "source": [
    "J = compute_cost(X, y, np.array([[-1], [2]]))"
   ]
  },
  {
   "cell_type": "code",
   "execution_count": 557,
   "metadata": {
    "collapsed": false
   },
   "outputs": [
    {
     "data": {
      "text/plain": [
       "54.242455082012377"
      ]
     },
     "execution_count": 557,
     "metadata": {},
     "output_type": "execute_result"
    }
   ],
   "source": [
    "J"
   ]
  },
  {
   "cell_type": "code",
   "execution_count": 558,
   "metadata": {
    "collapsed": false
   },
   "outputs": [],
   "source": [
    "assert round(J, 2) == 54.24, \"Incorrect test value result.\""
   ]
  },
  {
   "cell_type": "markdown",
   "metadata": {},
   "source": [
    "It seems that our cost function implementation works correctly."
   ]
  },
  {
   "cell_type": "markdown",
   "metadata": {},
   "source": [
    "### Gradient descent"
   ]
  },
  {
   "cell_type": "code",
   "execution_count": 559,
   "metadata": {
    "collapsed": true
   },
   "outputs": [],
   "source": [
    "def gradient_descent(X, y, theta, alpha, iters):\n",
    "    m = len(y)\n",
    "    theta_res = theta.copy()\n",
    "    for _ in range(iters):\n",
    "        prediction = np.dot(X, theta_res)\n",
    "        diff = prediction - y.reshape(m, 1)\n",
    "        x_diff = np.dot(X.T, diff)\n",
    "        theta_diff = alpha * 1 / m * x_diff\n",
    "        theta_res -= theta_diff\n",
    "    return theta_res"
   ]
  },
  {
   "cell_type": "code",
   "execution_count": 560,
   "metadata": {
    "collapsed": false
   },
   "outputs": [
    {
     "data": {
      "text/plain": [
       "array([[ 0.],\n",
       "       [ 0.]])"
      ]
     },
     "execution_count": 560,
     "metadata": {},
     "output_type": "execute_result"
    }
   ],
   "source": [
    "theta"
   ]
  },
  {
   "cell_type": "code",
   "execution_count": 561,
   "metadata": {
    "collapsed": false
   },
   "outputs": [],
   "source": [
    "theta_trained = gradient_descent(X, y, theta, alpha, iters)"
   ]
  },
  {
   "cell_type": "code",
   "execution_count": 562,
   "metadata": {
    "collapsed": false
   },
   "outputs": [
    {
     "data": {
      "text/plain": [
       "array([[-3.63029144],\n",
       "       [ 1.16636235]])"
      ]
     },
     "execution_count": 562,
     "metadata": {},
     "output_type": "execute_result"
    }
   ],
   "source": [
    "theta_trained"
   ]
  },
  {
   "cell_type": "code",
   "execution_count": 563,
   "metadata": {
    "collapsed": false
   },
   "outputs": [],
   "source": [
    "assert round(theta_trained[0, 0], 4) == -3.6303 and round(theta_trained[1, 0], 4) == 1.1664,\"Incorrect test value result.\""
   ]
  },
  {
   "cell_type": "markdown",
   "metadata": {},
   "source": [
    "Again looks like out gradient descent algorithm works correctly.\n"
   ]
  },
  {
   "cell_type": "markdown",
   "metadata": {},
   "source": [
    "Let's plot the linear fit we got."
   ]
  },
  {
   "cell_type": "code",
   "execution_count": 564,
   "metadata": {
    "collapsed": true
   },
   "outputs": [],
   "source": [
    "# TODO: Plot linear model here."
   ]
  },
  {
   "cell_type": "markdown",
   "metadata": {},
   "source": [
    "Let's then use the model we just trained to make predictions on profits in\n",
    "areas of 35,000 and 70,000 people."
   ]
  },
  {
   "cell_type": "code",
   "execution_count": 565,
   "metadata": {
    "collapsed": false
   },
   "outputs": [
    {
     "data": {
      "text/plain": [
       "array([ 4519.7678677])"
      ]
     },
     "execution_count": 565,
     "metadata": {},
     "output_type": "execute_result"
    }
   ],
   "source": [
    "np.dot(theta_trained.T, [1, 3.5]) * 10000"
   ]
  },
  {
   "cell_type": "markdown",
   "metadata": {},
   "source": [
    "For population of 35,000, we predict a profit of 4519.767868."
   ]
  },
  {
   "cell_type": "code",
   "execution_count": 566,
   "metadata": {
    "collapsed": false
   },
   "outputs": [
    {
     "data": {
      "text/plain": [
       "array([ 45342.45012945])"
      ]
     },
     "execution_count": 566,
     "metadata": {},
     "output_type": "execute_result"
    }
   ],
   "source": [
    "np.dot(theta_trained.T, [1, 7]) * 10000"
   ]
  },
  {
   "cell_type": "markdown",
   "metadata": {},
   "source": [
    "For population of 70,000, we predict a profit of 45342.450129."
   ]
  },
  {
   "cell_type": "markdown",
   "metadata": {},
   "source": [
    "## 1.4 Visualising J(theta)\n"
   ]
  },
  {
   "cell_type": "code",
   "execution_count": 567,
   "metadata": {
    "collapsed": true
   },
   "outputs": [],
   "source": [
    "# TODO: Visualize cost function here."
   ]
  },
  {
   "cell_type": "markdown",
   "metadata": {},
   "source": [
    "## 2. Linear regression with multiple variables"
   ]
  },
  {
   "cell_type": "markdown",
   "metadata": {},
   "source": [
    "## 2.1 Data wrangling"
   ]
  },
  {
   "cell_type": "code",
   "execution_count": 568,
   "metadata": {
    "collapsed": true
   },
   "outputs": [],
   "source": [
    "data = np.loadtxt(\"datasets/ex1data2.txt\", delimiter=\",\")"
   ]
  },
  {
   "cell_type": "code",
   "execution_count": 569,
   "metadata": {
    "collapsed": false
   },
   "outputs": [
    {
     "data": {
      "text/plain": [
       "array([[  2.10400000e+03,   3.00000000e+00,   3.99900000e+05],\n",
       "       [  1.60000000e+03,   3.00000000e+00,   3.29900000e+05],\n",
       "       [  2.40000000e+03,   3.00000000e+00,   3.69000000e+05],\n",
       "       [  1.41600000e+03,   2.00000000e+00,   2.32000000e+05],\n",
       "       [  3.00000000e+03,   4.00000000e+00,   5.39900000e+05],\n",
       "       [  1.98500000e+03,   4.00000000e+00,   2.99900000e+05],\n",
       "       [  1.53400000e+03,   3.00000000e+00,   3.14900000e+05],\n",
       "       [  1.42700000e+03,   3.00000000e+00,   1.98999000e+05],\n",
       "       [  1.38000000e+03,   3.00000000e+00,   2.12000000e+05],\n",
       "       [  1.49400000e+03,   3.00000000e+00,   2.42500000e+05],\n",
       "       [  1.94000000e+03,   4.00000000e+00,   2.39999000e+05],\n",
       "       [  2.00000000e+03,   3.00000000e+00,   3.47000000e+05],\n",
       "       [  1.89000000e+03,   3.00000000e+00,   3.29999000e+05],\n",
       "       [  4.47800000e+03,   5.00000000e+00,   6.99900000e+05],\n",
       "       [  1.26800000e+03,   3.00000000e+00,   2.59900000e+05],\n",
       "       [  2.30000000e+03,   4.00000000e+00,   4.49900000e+05],\n",
       "       [  1.32000000e+03,   2.00000000e+00,   2.99900000e+05],\n",
       "       [  1.23600000e+03,   3.00000000e+00,   1.99900000e+05],\n",
       "       [  2.60900000e+03,   4.00000000e+00,   4.99998000e+05],\n",
       "       [  3.03100000e+03,   4.00000000e+00,   5.99000000e+05],\n",
       "       [  1.76700000e+03,   3.00000000e+00,   2.52900000e+05],\n",
       "       [  1.88800000e+03,   2.00000000e+00,   2.55000000e+05],\n",
       "       [  1.60400000e+03,   3.00000000e+00,   2.42900000e+05],\n",
       "       [  1.96200000e+03,   4.00000000e+00,   2.59900000e+05],\n",
       "       [  3.89000000e+03,   3.00000000e+00,   5.73900000e+05],\n",
       "       [  1.10000000e+03,   3.00000000e+00,   2.49900000e+05],\n",
       "       [  1.45800000e+03,   3.00000000e+00,   4.64500000e+05],\n",
       "       [  2.52600000e+03,   3.00000000e+00,   4.69000000e+05],\n",
       "       [  2.20000000e+03,   3.00000000e+00,   4.75000000e+05],\n",
       "       [  2.63700000e+03,   3.00000000e+00,   2.99900000e+05],\n",
       "       [  1.83900000e+03,   2.00000000e+00,   3.49900000e+05],\n",
       "       [  1.00000000e+03,   1.00000000e+00,   1.69900000e+05],\n",
       "       [  2.04000000e+03,   4.00000000e+00,   3.14900000e+05],\n",
       "       [  3.13700000e+03,   3.00000000e+00,   5.79900000e+05],\n",
       "       [  1.81100000e+03,   4.00000000e+00,   2.85900000e+05],\n",
       "       [  1.43700000e+03,   3.00000000e+00,   2.49900000e+05],\n",
       "       [  1.23900000e+03,   3.00000000e+00,   2.29900000e+05],\n",
       "       [  2.13200000e+03,   4.00000000e+00,   3.45000000e+05],\n",
       "       [  4.21500000e+03,   4.00000000e+00,   5.49000000e+05],\n",
       "       [  2.16200000e+03,   4.00000000e+00,   2.87000000e+05],\n",
       "       [  1.66400000e+03,   2.00000000e+00,   3.68500000e+05],\n",
       "       [  2.23800000e+03,   3.00000000e+00,   3.29900000e+05],\n",
       "       [  2.56700000e+03,   4.00000000e+00,   3.14000000e+05],\n",
       "       [  1.20000000e+03,   3.00000000e+00,   2.99000000e+05],\n",
       "       [  8.52000000e+02,   2.00000000e+00,   1.79900000e+05],\n",
       "       [  1.85200000e+03,   4.00000000e+00,   2.99900000e+05],\n",
       "       [  1.20300000e+03,   3.00000000e+00,   2.39500000e+05]])"
      ]
     },
     "execution_count": 569,
     "metadata": {},
     "output_type": "execute_result"
    }
   ],
   "source": [
    "data"
   ]
  },
  {
   "cell_type": "code",
   "execution_count": 570,
   "metadata": {
    "collapsed": true
   },
   "outputs": [],
   "source": [
    "X = data[:, 0:2]\n",
    "y = data[:, 2]\n",
    "m = len(y)"
   ]
  },
  {
   "cell_type": "markdown",
   "metadata": {},
   "source": [
    "## 2.2 Feature normalization"
   ]
  },
  {
   "cell_type": "code",
   "execution_count": 571,
   "metadata": {
    "collapsed": true
   },
   "outputs": [],
   "source": [
    "def feature_normalize(X):\n",
    "    mu = X.mean(axis=0)\n",
    "    std = X.std(axis=0, ddof=True)\n",
    "    return mu, std, (X - mu) / std"
   ]
  },
  {
   "cell_type": "code",
   "execution_count": 572,
   "metadata": {
    "collapsed": false
   },
   "outputs": [],
   "source": [
    "mu, std, X = feature_normalize(X)"
   ]
  },
  {
   "cell_type": "markdown",
   "metadata": {},
   "source": [
    "## 2.3 Gradient descent\n"
   ]
  },
  {
   "cell_type": "code",
   "execution_count": 573,
   "metadata": {
    "collapsed": false
   },
   "outputs": [],
   "source": [
    "X = np.array([np.ones(m), X[:, 0], X[:, 1]]).T\n",
    "y = data[:, 2]\n",
    "\n",
    "theta = np.zeros((3, 1))\n",
    "alpha = 1.2\n",
    "iters = 50"
   ]
  },
  {
   "cell_type": "code",
   "execution_count": 574,
   "metadata": {
    "collapsed": false,
    "scrolled": false
   },
   "outputs": [],
   "source": [
    "theta_trained = gradient_descent(X, y, theta, alpha, iters)"
   ]
  },
  {
   "cell_type": "code",
   "execution_count": 575,
   "metadata": {
    "collapsed": false
   },
   "outputs": [
    {
     "data": {
      "text/plain": [
       "array([[ 340412.65957447],\n",
       "       [ 110625.73495641],\n",
       "       [  -6654.78959326]])"
      ]
     },
     "execution_count": 575,
     "metadata": {},
     "output_type": "execute_result"
    }
   ],
   "source": [
    "theta_trained"
   ]
  },
  {
   "cell_type": "code",
   "execution_count": 576,
   "metadata": {
    "collapsed": true
   },
   "outputs": [],
   "source": [
    "## TODO: Prediction here."
   ]
  },
  {
   "cell_type": "code",
   "execution_count": null,
   "metadata": {
    "collapsed": true
   },
   "outputs": [],
   "source": []
  },
  {
   "cell_type": "code",
   "execution_count": 577,
   "metadata": {
    "collapsed": true
   },
   "outputs": [],
   "source": [
    "## TODO: Alpha selection here."
   ]
  },
  {
   "cell_type": "code",
   "execution_count": null,
   "metadata": {
    "collapsed": true
   },
   "outputs": [],
   "source": []
  },
  {
   "cell_type": "code",
   "execution_count": 578,
   "metadata": {
    "collapsed": true
   },
   "outputs": [],
   "source": [
    "## TODO: Cost plot here."
   ]
  },
  {
   "cell_type": "code",
   "execution_count": null,
   "metadata": {
    "collapsed": true
   },
   "outputs": [],
   "source": []
  },
  {
   "cell_type": "markdown",
   "metadata": {},
   "source": [
    "## 2.4 Normal equations"
   ]
  },
  {
   "cell_type": "code",
   "execution_count": 603,
   "metadata": {
    "collapsed": true
   },
   "outputs": [],
   "source": [
    "def normal_equation(X, y):\n",
    "    return np.dot(np.linalg.inv(np.dot(X.T, X)), np.dot(X.T, y))"
   ]
  },
  {
   "cell_type": "code",
   "execution_count": 604,
   "metadata": {
    "collapsed": false
   },
   "outputs": [],
   "source": [
    "theta_trained = normal_equation(X, y)"
   ]
  },
  {
   "cell_type": "code",
   "execution_count": 605,
   "metadata": {
    "collapsed": false
   },
   "outputs": [
    {
     "data": {
      "text/plain": [
       "array([ 340412.65957447,  110631.05027885,   -6649.47427082])"
      ]
     },
     "execution_count": 605,
     "metadata": {},
     "output_type": "execute_result"
    }
   ],
   "source": [
    "theta_trained"
   ]
  },
  {
   "cell_type": "code",
   "execution_count": null,
   "metadata": {
    "collapsed": true
   },
   "outputs": [],
   "source": []
  },
  {
   "cell_type": "code",
   "execution_count": null,
   "metadata": {
    "collapsed": true
   },
   "outputs": [],
   "source": []
  },
  {
   "cell_type": "code",
   "execution_count": null,
   "metadata": {
    "collapsed": true
   },
   "outputs": [],
   "source": []
  },
  {
   "cell_type": "code",
   "execution_count": null,
   "metadata": {
    "collapsed": true
   },
   "outputs": [],
   "source": []
  }
 ],
 "metadata": {
  "kernelspec": {
   "display_name": "Python 3",
   "language": "python",
   "name": "python3"
  },
  "language_info": {
   "codemirror_mode": {
    "name": "ipython",
    "version": 3
   },
   "file_extension": ".py",
   "mimetype": "text/x-python",
   "name": "python",
   "nbconvert_exporter": "python",
   "pygments_lexer": "ipython3",
   "version": "3.6.3"
  }
 },
 "nbformat": 4,
 "nbformat_minor": 2
}
