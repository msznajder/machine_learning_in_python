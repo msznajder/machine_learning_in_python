{
 "cells": [
  {
   "cell_type": "markdown",
   "metadata": {},
   "source": [
    "## 1. Logistic regression"
   ]
  },
  {
   "cell_type": "code",
   "execution_count": 381,
   "metadata": {
    "collapsed": true
   },
   "outputs": [],
   "source": [
    "import numpy as np\n",
    "import matplotlib.pyplot as plt\n",
    "\n",
    "%matplotlib inline\n"
   ]
  },
  {
   "cell_type": "code",
   "execution_count": 382,
   "metadata": {
    "collapsed": true
   },
   "outputs": [],
   "source": [
    "data = np.loadtxt(\"datasets/ex2data1.txt\", delimiter=\",\")"
   ]
  },
  {
   "cell_type": "code",
   "execution_count": 383,
   "metadata": {
    "collapsed": false
   },
   "outputs": [
    {
     "data": {
      "text/plain": [
       "(100, 3)"
      ]
     },
     "execution_count": 383,
     "metadata": {},
     "output_type": "execute_result"
    }
   ],
   "source": [
    "data.shape"
   ]
  },
  {
   "cell_type": "code",
   "execution_count": 562,
   "metadata": {
    "collapsed": false
   },
   "outputs": [],
   "source": [
    "X = data[:, 0:2]\n",
    "y = data[:, 2:]"
   ]
  },
  {
   "cell_type": "code",
   "execution_count": 480,
   "metadata": {
    "collapsed": false
   },
   "outputs": [
    {
     "data": {
      "text/plain": [
       "(118, 2)"
      ]
     },
     "execution_count": 480,
     "metadata": {},
     "output_type": "execute_result"
    }
   ],
   "source": [
    "X.shape"
   ]
  },
  {
   "cell_type": "code",
   "execution_count": 481,
   "metadata": {
    "collapsed": false
   },
   "outputs": [
    {
     "data": {
      "text/plain": [
       "array([[ 0.051267 ,  0.69956  ],\n",
       "       [-0.092742 ,  0.68494  ],\n",
       "       [-0.21371  ,  0.69225  ],\n",
       "       [-0.375    ,  0.50219  ],\n",
       "       [-0.51325  ,  0.46564  ],\n",
       "       [-0.52477  ,  0.2098   ],\n",
       "       [-0.39804  ,  0.034357 ],\n",
       "       [-0.30588  , -0.19225  ],\n",
       "       [ 0.016705 , -0.40424  ],\n",
       "       [ 0.13191  , -0.51389  ],\n",
       "       [ 0.38537  , -0.56506  ],\n",
       "       [ 0.52938  , -0.5212   ],\n",
       "       [ 0.63882  , -0.24342  ],\n",
       "       [ 0.73675  , -0.18494  ],\n",
       "       [ 0.54666  ,  0.48757  ],\n",
       "       [ 0.322    ,  0.5826   ],\n",
       "       [ 0.16647  ,  0.53874  ],\n",
       "       [-0.046659 ,  0.81652  ],\n",
       "       [-0.17339  ,  0.69956  ],\n",
       "       [-0.47869  ,  0.63377  ],\n",
       "       [-0.60541  ,  0.59722  ],\n",
       "       [-0.62846  ,  0.33406  ],\n",
       "       [-0.59389  ,  0.005117 ],\n",
       "       [-0.42108  , -0.27266  ],\n",
       "       [-0.11578  , -0.39693  ],\n",
       "       [ 0.20104  , -0.60161  ],\n",
       "       [ 0.46601  , -0.53582  ],\n",
       "       [ 0.67339  , -0.53582  ],\n",
       "       [-0.13882  ,  0.54605  ],\n",
       "       [-0.29435  ,  0.77997  ],\n",
       "       [-0.26555  ,  0.96272  ],\n",
       "       [-0.16187  ,  0.8019   ],\n",
       "       [-0.17339  ,  0.64839  ],\n",
       "       [-0.28283  ,  0.47295  ],\n",
       "       [-0.36348  ,  0.31213  ],\n",
       "       [-0.30012  ,  0.027047 ],\n",
       "       [-0.23675  , -0.21418  ],\n",
       "       [-0.06394  , -0.18494  ],\n",
       "       [ 0.062788 , -0.16301  ],\n",
       "       [ 0.22984  , -0.41155  ],\n",
       "       [ 0.2932   , -0.2288   ],\n",
       "       [ 0.48329  , -0.18494  ],\n",
       "       [ 0.64459  , -0.14108  ],\n",
       "       [ 0.46025  ,  0.012427 ],\n",
       "       [ 0.6273   ,  0.15863  ],\n",
       "       [ 0.57546  ,  0.26827  ],\n",
       "       [ 0.72523  ,  0.44371  ],\n",
       "       [ 0.22408  ,  0.52412  ],\n",
       "       [ 0.44297  ,  0.67032  ],\n",
       "       [ 0.322    ,  0.69225  ],\n",
       "       [ 0.13767  ,  0.57529  ],\n",
       "       [-0.0063364,  0.39985  ],\n",
       "       [-0.092742 ,  0.55336  ],\n",
       "       [-0.20795  ,  0.35599  ],\n",
       "       [-0.20795  ,  0.17325  ],\n",
       "       [-0.43836  ,  0.21711  ],\n",
       "       [-0.21947  , -0.016813 ],\n",
       "       [-0.13882  , -0.27266  ],\n",
       "       [ 0.18376  ,  0.93348  ],\n",
       "       [ 0.22408  ,  0.77997  ],\n",
       "       [ 0.29896  ,  0.61915  ],\n",
       "       [ 0.50634  ,  0.75804  ],\n",
       "       [ 0.61578  ,  0.7288   ],\n",
       "       [ 0.60426  ,  0.59722  ],\n",
       "       [ 0.76555  ,  0.50219  ],\n",
       "       [ 0.92684  ,  0.3633   ],\n",
       "       [ 0.82316  ,  0.27558  ],\n",
       "       [ 0.96141  ,  0.085526 ],\n",
       "       [ 0.93836  ,  0.012427 ],\n",
       "       [ 0.86348  , -0.082602 ],\n",
       "       [ 0.89804  , -0.20687  ],\n",
       "       [ 0.85196  , -0.36769  ],\n",
       "       [ 0.82892  , -0.5212   ],\n",
       "       [ 0.79435  , -0.55775  ],\n",
       "       [ 0.59274  , -0.7405   ],\n",
       "       [ 0.51786  , -0.5943   ],\n",
       "       [ 0.46601  , -0.41886  ],\n",
       "       [ 0.35081  , -0.57968  ],\n",
       "       [ 0.28744  , -0.76974  ],\n",
       "       [ 0.085829 , -0.75512  ],\n",
       "       [ 0.14919  , -0.57968  ],\n",
       "       [-0.13306  , -0.4481   ],\n",
       "       [-0.40956  , -0.41155  ],\n",
       "       [-0.39228  , -0.25804  ],\n",
       "       [-0.74366  , -0.25804  ],\n",
       "       [-0.69758  ,  0.041667 ],\n",
       "       [-0.75518  ,  0.2902   ],\n",
       "       [-0.69758  ,  0.68494  ],\n",
       "       [-0.4038   ,  0.70687  ],\n",
       "       [-0.38076  ,  0.91886  ],\n",
       "       [-0.50749  ,  0.90424  ],\n",
       "       [-0.54781  ,  0.70687  ],\n",
       "       [ 0.10311  ,  0.77997  ],\n",
       "       [ 0.057028 ,  0.91886  ],\n",
       "       [-0.10426  ,  0.99196  ],\n",
       "       [-0.081221 ,  1.1089   ],\n",
       "       [ 0.28744  ,  1.087    ],\n",
       "       [ 0.39689  ,  0.82383  ],\n",
       "       [ 0.63882  ,  0.88962  ],\n",
       "       [ 0.82316  ,  0.66301  ],\n",
       "       [ 0.67339  ,  0.64108  ],\n",
       "       [ 1.0709   ,  0.10015  ],\n",
       "       [-0.046659 , -0.57968  ],\n",
       "       [-0.23675  , -0.63816  ],\n",
       "       [-0.15035  , -0.36769  ],\n",
       "       [-0.49021  , -0.3019   ],\n",
       "       [-0.46717  , -0.13377  ],\n",
       "       [-0.28859  , -0.060673 ],\n",
       "       [-0.61118  , -0.067982 ],\n",
       "       [-0.66302  , -0.21418  ],\n",
       "       [-0.59965  , -0.41886  ],\n",
       "       [-0.72638  , -0.082602 ],\n",
       "       [-0.83007  ,  0.31213  ],\n",
       "       [-0.72062  ,  0.53874  ],\n",
       "       [-0.59389  ,  0.49488  ],\n",
       "       [-0.48445  ,  0.99927  ],\n",
       "       [-0.0063364,  0.99927  ],\n",
       "       [ 0.63265  , -0.030612 ]])"
      ]
     },
     "execution_count": 481,
     "metadata": {},
     "output_type": "execute_result"
    }
   ],
   "source": [
    "X"
   ]
  },
  {
   "cell_type": "code",
   "execution_count": 482,
   "metadata": {
    "collapsed": false
   },
   "outputs": [
    {
     "data": {
      "text/plain": [
       "(118, 1)"
      ]
     },
     "execution_count": 482,
     "metadata": {},
     "output_type": "execute_result"
    }
   ],
   "source": [
    "y.shape"
   ]
  },
  {
   "cell_type": "code",
   "execution_count": 483,
   "metadata": {
    "collapsed": false
   },
   "outputs": [
    {
     "data": {
      "text/plain": [
       "array([[ 1.],\n",
       "       [ 1.],\n",
       "       [ 1.],\n",
       "       [ 1.],\n",
       "       [ 1.],\n",
       "       [ 1.],\n",
       "       [ 1.],\n",
       "       [ 1.],\n",
       "       [ 1.],\n",
       "       [ 1.],\n",
       "       [ 1.],\n",
       "       [ 1.],\n",
       "       [ 1.],\n",
       "       [ 1.],\n",
       "       [ 1.],\n",
       "       [ 1.],\n",
       "       [ 1.],\n",
       "       [ 1.],\n",
       "       [ 1.],\n",
       "       [ 1.],\n",
       "       [ 1.],\n",
       "       [ 1.],\n",
       "       [ 1.],\n",
       "       [ 1.],\n",
       "       [ 1.],\n",
       "       [ 1.],\n",
       "       [ 1.],\n",
       "       [ 1.],\n",
       "       [ 1.],\n",
       "       [ 1.],\n",
       "       [ 1.],\n",
       "       [ 1.],\n",
       "       [ 1.],\n",
       "       [ 1.],\n",
       "       [ 1.],\n",
       "       [ 1.],\n",
       "       [ 1.],\n",
       "       [ 1.],\n",
       "       [ 1.],\n",
       "       [ 1.],\n",
       "       [ 1.],\n",
       "       [ 1.],\n",
       "       [ 1.],\n",
       "       [ 1.],\n",
       "       [ 1.],\n",
       "       [ 1.],\n",
       "       [ 1.],\n",
       "       [ 1.],\n",
       "       [ 1.],\n",
       "       [ 1.],\n",
       "       [ 1.],\n",
       "       [ 1.],\n",
       "       [ 1.],\n",
       "       [ 1.],\n",
       "       [ 1.],\n",
       "       [ 1.],\n",
       "       [ 1.],\n",
       "       [ 1.],\n",
       "       [ 0.],\n",
       "       [ 0.],\n",
       "       [ 0.],\n",
       "       [ 0.],\n",
       "       [ 0.],\n",
       "       [ 0.],\n",
       "       [ 0.],\n",
       "       [ 0.],\n",
       "       [ 0.],\n",
       "       [ 0.],\n",
       "       [ 0.],\n",
       "       [ 0.],\n",
       "       [ 0.],\n",
       "       [ 0.],\n",
       "       [ 0.],\n",
       "       [ 0.],\n",
       "       [ 0.],\n",
       "       [ 0.],\n",
       "       [ 0.],\n",
       "       [ 0.],\n",
       "       [ 0.],\n",
       "       [ 0.],\n",
       "       [ 0.],\n",
       "       [ 0.],\n",
       "       [ 0.],\n",
       "       [ 0.],\n",
       "       [ 0.],\n",
       "       [ 0.],\n",
       "       [ 0.],\n",
       "       [ 0.],\n",
       "       [ 0.],\n",
       "       [ 0.],\n",
       "       [ 0.],\n",
       "       [ 0.],\n",
       "       [ 0.],\n",
       "       [ 0.],\n",
       "       [ 0.],\n",
       "       [ 0.],\n",
       "       [ 0.],\n",
       "       [ 0.],\n",
       "       [ 0.],\n",
       "       [ 0.],\n",
       "       [ 0.],\n",
       "       [ 0.],\n",
       "       [ 0.],\n",
       "       [ 0.],\n",
       "       [ 0.],\n",
       "       [ 0.],\n",
       "       [ 0.],\n",
       "       [ 0.],\n",
       "       [ 0.],\n",
       "       [ 0.],\n",
       "       [ 0.],\n",
       "       [ 0.],\n",
       "       [ 0.],\n",
       "       [ 0.],\n",
       "       [ 0.],\n",
       "       [ 0.],\n",
       "       [ 0.],\n",
       "       [ 0.]])"
      ]
     },
     "execution_count": 483,
     "metadata": {},
     "output_type": "execute_result"
    }
   ],
   "source": [
    "y"
   ]
  },
  {
   "cell_type": "code",
   "execution_count": 484,
   "metadata": {
    "collapsed": true
   },
   "outputs": [],
   "source": [
    "m, n = X.shape"
   ]
  },
  {
   "cell_type": "code",
   "execution_count": 485,
   "metadata": {
    "collapsed": false
   },
   "outputs": [
    {
     "data": {
      "text/plain": [
       "118"
      ]
     },
     "execution_count": 485,
     "metadata": {},
     "output_type": "execute_result"
    }
   ],
   "source": [
    "m"
   ]
  },
  {
   "cell_type": "code",
   "execution_count": 486,
   "metadata": {
    "collapsed": false
   },
   "outputs": [
    {
     "data": {
      "text/plain": [
       "2"
      ]
     },
     "execution_count": 486,
     "metadata": {},
     "output_type": "execute_result"
    }
   ],
   "source": [
    "n"
   ]
  },
  {
   "cell_type": "markdown",
   "metadata": {},
   "source": [
    "## 1.1 Plotting"
   ]
  },
  {
   "cell_type": "code",
   "execution_count": 392,
   "metadata": {
    "collapsed": false,
    "scrolled": true
   },
   "outputs": [
    {
     "data": {
      "text/plain": [
       "<matplotlib.text.Text at 0x112307d30>"
      ]
     },
     "execution_count": 392,
     "metadata": {},
     "output_type": "execute_result"
    },
    {
     "data": {
      "image/png": "[encoded data removed]",
      "text/plain": [
       "<matplotlib.figure.Figure at 0x111c51518>"
      ]
     },
     "metadata": {},
     "output_type": "display_data"
    }
   ],
   "source": [
    "fig, axes = plt.subplots(figsize=(12, 8))\n",
    "axes.scatter(X[:, 0], X[:, 1])\n",
    "axes.set_xlabel(\"Exam 1 score\")\n",
    "axes.set_ylabel(\"Exam 2 score\")"
   ]
  },
  {
   "cell_type": "code",
   "execution_count": 393,
   "metadata": {
    "collapsed": true
   },
   "outputs": [],
   "source": [
    "# TODO: Plot classes on the graph."
   ]
  },
  {
   "cell_type": "markdown",
   "metadata": {},
   "source": [
    "## 1.2 Compute Cost and Gradient"
   ]
  },
  {
   "cell_type": "code",
   "execution_count": 394,
   "metadata": {
    "collapsed": true
   },
   "outputs": [],
   "source": [
    "def sigmoid(z):\n",
    "    return 1 / (1 + np.e ** -z)"
   ]
  },
  {
   "cell_type": "code",
   "execution_count": 395,
   "metadata": {
    "collapsed": false
   },
   "outputs": [
    {
     "data": {
      "text/plain": [
       "0.5"
      ]
     },
     "execution_count": 395,
     "metadata": {},
     "output_type": "execute_result"
    }
   ],
   "source": [
    "sigmoid(0)"
   ]
  },
  {
   "cell_type": "code",
   "execution_count": 396,
   "metadata": {
    "collapsed": false
   },
   "outputs": [
    {
     "data": {
      "text/plain": [
       "0.7310585786300049"
      ]
     },
     "execution_count": 396,
     "metadata": {},
     "output_type": "execute_result"
    }
   ],
   "source": [
    "sigmoid(1)"
   ]
  },
  {
   "cell_type": "code",
   "execution_count": 397,
   "metadata": {
    "collapsed": false
   },
   "outputs": [
    {
     "data": {
      "text/plain": [
       "0.2689414213699951"
      ]
     },
     "execution_count": 397,
     "metadata": {},
     "output_type": "execute_result"
    }
   ],
   "source": [
    "sigmoid(-1)"
   ]
  },
  {
   "cell_type": "code",
   "execution_count": 398,
   "metadata": {
    "collapsed": false
   },
   "outputs": [
    {
     "data": {
      "text/plain": [
       "array([[ 0.],\n",
       "       [ 0.],\n",
       "       [ 0.]])"
      ]
     },
     "execution_count": 398,
     "metadata": {},
     "output_type": "execute_result"
    }
   ],
   "source": [
    "initial_theta = np.zeros((n + 1, 1))\n",
    "initial_theta"
   ]
  },
  {
   "cell_type": "code",
   "execution_count": 399,
   "metadata": {
    "collapsed": false
   },
   "outputs": [],
   "source": [
    "X = np.c_[np.ones((m, 1)), X]"
   ]
  },
  {
   "cell_type": "code",
   "execution_count": 400,
   "metadata": {
    "collapsed": false
   },
   "outputs": [
    {
     "data": {
      "text/plain": [
       "array([[  1.        ,  34.62365962,  78.02469282],\n",
       "       [  1.        ,  30.28671077,  43.89499752],\n",
       "       [  1.        ,  35.84740877,  72.90219803],\n",
       "       [  1.        ,  60.18259939,  86.3085521 ],\n",
       "       [  1.        ,  79.03273605,  75.34437644],\n",
       "       [  1.        ,  45.08327748,  56.31637178],\n",
       "       [  1.        ,  61.10666454,  96.51142588],\n",
       "       [  1.        ,  75.02474557,  46.55401354],\n",
       "       [  1.        ,  76.0987867 ,  87.42056972],\n",
       "       [  1.        ,  84.43281996,  43.53339331],\n",
       "       [  1.        ,  95.86155507,  38.22527806],\n",
       "       [  1.        ,  75.01365839,  30.60326323],\n",
       "       [  1.        ,  82.30705337,  76.4819633 ],\n",
       "       [  1.        ,  69.36458876,  97.71869196],\n",
       "       [  1.        ,  39.53833914,  76.03681085],\n",
       "       [  1.        ,  53.97105215,  89.20735014],\n",
       "       [  1.        ,  69.07014406,  52.74046973],\n",
       "       [  1.        ,  67.94685548,  46.67857411],\n",
       "       [  1.        ,  70.66150955,  92.92713789],\n",
       "       [  1.        ,  76.97878373,  47.57596365],\n",
       "       [  1.        ,  67.37202755,  42.83843832],\n",
       "       [  1.        ,  89.67677575,  65.79936593],\n",
       "       [  1.        ,  50.53478829,  48.85581153],\n",
       "       [  1.        ,  34.21206098,  44.2095286 ],\n",
       "       [  1.        ,  77.92409145,  68.97235999],\n",
       "       [  1.        ,  62.27101367,  69.95445795],\n",
       "       [  1.        ,  80.19018075,  44.82162893],\n",
       "       [  1.        ,  93.1143888 ,  38.80067034],\n",
       "       [  1.        ,  61.83020602,  50.25610789],\n",
       "       [  1.        ,  38.7858038 ,  64.99568096],\n",
       "       [  1.        ,  61.37928945,  72.80788731],\n",
       "       [  1.        ,  85.40451939,  57.05198398],\n",
       "       [  1.        ,  52.10797973,  63.12762377],\n",
       "       [  1.        ,  52.04540477,  69.43286012],\n",
       "       [  1.        ,  40.23689374,  71.16774802],\n",
       "       [  1.        ,  54.63510555,  52.21388588],\n",
       "       [  1.        ,  33.91550011,  98.86943574],\n",
       "       [  1.        ,  64.17698887,  80.90806059],\n",
       "       [  1.        ,  74.78925296,  41.57341523],\n",
       "       [  1.        ,  34.18364003,  75.23772034],\n",
       "       [  1.        ,  83.90239366,  56.30804622],\n",
       "       [  1.        ,  51.54772027,  46.85629026],\n",
       "       [  1.        ,  94.44336777,  65.56892161],\n",
       "       [  1.        ,  82.36875376,  40.61825516],\n",
       "       [  1.        ,  51.04775177,  45.82270146],\n",
       "       [  1.        ,  62.22267576,  52.06099195],\n",
       "       [  1.        ,  77.19303493,  70.4582    ],\n",
       "       [  1.        ,  97.77159928,  86.72782233],\n",
       "       [  1.        ,  62.0730638 ,  96.76882412],\n",
       "       [  1.        ,  91.5649745 ,  88.69629255],\n",
       "       [  1.        ,  79.94481794,  74.16311935],\n",
       "       [  1.        ,  99.27252693,  60.999031  ],\n",
       "       [  1.        ,  90.54671411,  43.39060181],\n",
       "       [  1.        ,  34.52451385,  60.39634246],\n",
       "       [  1.        ,  50.28649612,  49.80453881],\n",
       "       [  1.        ,  49.58667722,  59.80895099],\n",
       "       [  1.        ,  97.64563396,  68.86157272],\n",
       "       [  1.        ,  32.57720017,  95.59854761],\n",
       "       [  1.        ,  74.24869137,  69.82457123],\n",
       "       [  1.        ,  71.79646206,  78.45356225],\n",
       "       [  1.        ,  75.39561147,  85.75993667],\n",
       "       [  1.        ,  35.28611282,  47.02051395],\n",
       "       [  1.        ,  56.2538175 ,  39.26147251],\n",
       "       [  1.        ,  30.05882245,  49.59297387],\n",
       "       [  1.        ,  44.66826172,  66.45008615],\n",
       "       [  1.        ,  66.56089447,  41.09209808],\n",
       "       [  1.        ,  40.45755098,  97.53518549],\n",
       "       [  1.        ,  49.07256322,  51.88321182],\n",
       "       [  1.        ,  80.27957401,  92.11606081],\n",
       "       [  1.        ,  66.74671857,  60.99139403],\n",
       "       [  1.        ,  32.72283304,  43.30717306],\n",
       "       [  1.        ,  64.03932042,  78.03168802],\n",
       "       [  1.        ,  72.34649423,  96.22759297],\n",
       "       [  1.        ,  60.45788574,  73.0949981 ],\n",
       "       [  1.        ,  58.84095622,  75.85844831],\n",
       "       [  1.        ,  99.8278578 ,  72.36925193],\n",
       "       [  1.        ,  47.26426911,  88.475865  ],\n",
       "       [  1.        ,  50.4581598 ,  75.80985953],\n",
       "       [  1.        ,  60.45555629,  42.50840944],\n",
       "       [  1.        ,  82.22666158,  42.71987854],\n",
       "       [  1.        ,  88.91389642,  69.8037889 ],\n",
       "       [  1.        ,  94.83450672,  45.6943068 ],\n",
       "       [  1.        ,  67.31925747,  66.58935318],\n",
       "       [  1.        ,  57.23870632,  59.51428198],\n",
       "       [  1.        ,  80.366756  ,  90.9601479 ],\n",
       "       [  1.        ,  68.46852179,  85.5943071 ],\n",
       "       [  1.        ,  42.07545454,  78.844786  ],\n",
       "       [  1.        ,  75.47770201,  90.424539  ],\n",
       "       [  1.        ,  78.63542435,  96.64742717],\n",
       "       [  1.        ,  52.34800399,  60.76950526],\n",
       "       [  1.        ,  94.09433113,  77.15910509],\n",
       "       [  1.        ,  90.44855097,  87.50879176],\n",
       "       [  1.        ,  55.48216114,  35.57070347],\n",
       "       [  1.        ,  74.49269242,  84.84513685],\n",
       "       [  1.        ,  89.84580671,  45.35828361],\n",
       "       [  1.        ,  83.48916274,  48.3802858 ],\n",
       "       [  1.        ,  42.26170081,  87.10385094],\n",
       "       [  1.        ,  99.31500881,  68.77540947],\n",
       "       [  1.        ,  55.34001756,  64.93193801],\n",
       "       [  1.        ,  74.775893  ,  89.5298129 ]])"
      ]
     },
     "execution_count": 400,
     "metadata": {},
     "output_type": "execute_result"
    }
   ],
   "source": [
    "X"
   ]
  },
  {
   "cell_type": "code",
   "execution_count": 401,
   "metadata": {
    "collapsed": true
   },
   "outputs": [],
   "source": [
    "def cost_function(theta, X, y):\n",
    "    h = sigmoid(X @ theta)\n",
    "    cost = (1 / m) * (y.T @ -np.log(h) + (1 - y).T @ -np.log(1 - h))\n",
    "    return cost\n",
    "    "
   ]
  },
  {
   "cell_type": "code",
   "execution_count": 402,
   "metadata": {
    "collapsed": false
   },
   "outputs": [
    {
     "data": {
      "text/plain": [
       "array([[ 0.69314718]])"
      ]
     },
     "execution_count": 402,
     "metadata": {},
     "output_type": "execute_result"
    }
   ],
   "source": [
    "cost = cost_function(initial_theta, X, y)\n",
    "cost"
   ]
  },
  {
   "cell_type": "code",
   "execution_count": 403,
   "metadata": {
    "collapsed": false
   },
   "outputs": [],
   "source": [
    "assert np.round(cost[0][0], 3) == 0.693, \"Error\""
   ]
  },
  {
   "cell_type": "code",
   "execution_count": 404,
   "metadata": {
    "collapsed": true
   },
   "outputs": [],
   "source": [
    "test_theta = np.array([[-24], [0.2], [0.2]])"
   ]
  },
  {
   "cell_type": "code",
   "execution_count": 405,
   "metadata": {
    "collapsed": false
   },
   "outputs": [
    {
     "data": {
      "text/plain": [
       "array([[ 0.21833019]])"
      ]
     },
     "execution_count": 405,
     "metadata": {},
     "output_type": "execute_result"
    }
   ],
   "source": [
    "cost = cost_function(test_theta, X, y)\n",
    "cost"
   ]
  },
  {
   "cell_type": "code",
   "execution_count": 406,
   "metadata": {
    "collapsed": false
   },
   "outputs": [],
   "source": [
    "assert np.round(cost[0][0], 3) == 0.218, \"Error\""
   ]
  },
  {
   "cell_type": "markdown",
   "metadata": {},
   "source": [
    "## 1.3 Optimizing"
   ]
  },
  {
   "cell_type": "code",
   "execution_count": 407,
   "metadata": {
    "collapsed": true
   },
   "outputs": [],
   "source": [
    "iterations = 1500000\n",
    "alpha = 0.0034"
   ]
  },
  {
   "cell_type": "code",
   "execution_count": 409,
   "metadata": {
    "collapsed": false
   },
   "outputs": [
    {
     "data": {
      "text/plain": [
       "(100, 3)"
      ]
     },
     "execution_count": 409,
     "metadata": {},
     "output_type": "execute_result"
    }
   ],
   "source": [
    "X.shape"
   ]
  },
  {
   "cell_type": "code",
   "execution_count": 410,
   "metadata": {
    "collapsed": true
   },
   "outputs": [],
   "source": [
    "def gradient_descent(X, y, theta, alpha, iterations):\n",
    "    for _ in range(iterations):\n",
    "        h = sigmoid(X @ theta)\n",
    "        theta = theta - alpha * (1 / m) * X.T @ (h - y)\n",
    "    return theta"
   ]
  },
  {
   "cell_type": "code",
   "execution_count": 411,
   "metadata": {
    "collapsed": false
   },
   "outputs": [],
   "source": [
    "theta = gradient_descent(X, y, initial_theta, alpha, iterations)"
   ]
  },
  {
   "cell_type": "code",
   "execution_count": 412,
   "metadata": {
    "collapsed": false
   },
   "outputs": [
    {
     "data": {
      "text/plain": [
       "array([[-24.04630574],\n",
       "       [  0.19731444],\n",
       "       [  0.19244822]])"
      ]
     },
     "execution_count": 412,
     "metadata": {},
     "output_type": "execute_result"
    }
   ],
   "source": [
    "theta"
   ]
  },
  {
   "cell_type": "code",
   "execution_count": 164,
   "metadata": {
    "collapsed": true
   },
   "outputs": [],
   "source": [
    "# TODO: Plot decision boundary."
   ]
  },
  {
   "cell_type": "code",
   "execution_count": 165,
   "metadata": {
    "collapsed": false
   },
   "outputs": [
    {
     "data": {
      "text/plain": [
       "array([[ 1],\n",
       "       [45],\n",
       "       [85]])"
      ]
     },
     "execution_count": 165,
     "metadata": {},
     "output_type": "execute_result"
    }
   ],
   "source": [
    "x = np.array([[1], [45], [85]])\n",
    "x"
   ]
  },
  {
   "cell_type": "code",
   "execution_count": 166,
   "metadata": {
    "collapsed": false
   },
   "outputs": [
    {
     "data": {
      "text/plain": [
       "array([[-24.04630574],\n",
       "       [  0.19731444],\n",
       "       [  0.19244822]])"
      ]
     },
     "execution_count": 166,
     "metadata": {},
     "output_type": "execute_result"
    }
   ],
   "source": [
    "theta"
   ]
  },
  {
   "cell_type": "code",
   "execution_count": 168,
   "metadata": {
    "collapsed": false
   },
   "outputs": [
    {
     "data": {
      "text/plain": [
       "array([[ 0.76690959]])"
      ]
     },
     "execution_count": 168,
     "metadata": {},
     "output_type": "execute_result"
    }
   ],
   "source": [
    "prob = sigmoid(theta.T @ x)\n",
    "prob"
   ]
  },
  {
   "cell_type": "code",
   "execution_count": 169,
   "metadata": {
    "collapsed": true
   },
   "outputs": [],
   "source": [
    "def predict(theta, X):\n",
    "    prob = sigmoid(X @ theta)\n",
    "    return np.where(prob >= 0.5, 1, 0)"
   ]
  },
  {
   "cell_type": "code",
   "execution_count": 175,
   "metadata": {
    "collapsed": false
   },
   "outputs": [],
   "source": [
    "pred = predict(theta, X)"
   ]
  },
  {
   "cell_type": "code",
   "execution_count": 176,
   "metadata": {
    "collapsed": false
   },
   "outputs": [
    {
     "data": {
      "text/plain": [
       "89.0"
      ]
     },
     "execution_count": 176,
     "metadata": {},
     "output_type": "execute_result"
    }
   ],
   "source": [
    "accuracy = np.mean(pred == y) * 100\n",
    "accuracy"
   ]
  },
  {
   "cell_type": "code",
   "execution_count": 178,
   "metadata": {
    "collapsed": false
   },
   "outputs": [],
   "source": [
    "assert accuracy == 89.0, \"Error\""
   ]
  },
  {
   "cell_type": "markdown",
   "metadata": {},
   "source": [
    "## 2. Regularized logistic regression"
   ]
  },
  {
   "cell_type": "code",
   "execution_count": 634,
   "metadata": {
    "collapsed": true
   },
   "outputs": [],
   "source": [
    "data = np.loadtxt(\"datasets/ex2data2.txt\", delimiter=\",\")"
   ]
  },
  {
   "cell_type": "code",
   "execution_count": 635,
   "metadata": {
    "collapsed": false
   },
   "outputs": [
    {
     "data": {
      "text/plain": [
       "(118, 3)"
      ]
     },
     "execution_count": 635,
     "metadata": {},
     "output_type": "execute_result"
    }
   ],
   "source": [
    "data.shape"
   ]
  },
  {
   "cell_type": "code",
   "execution_count": 636,
   "metadata": {
    "collapsed": true
   },
   "outputs": [],
   "source": [
    "X = data[:, :2]\n",
    "y = data[:, 2]\n",
    "y = y.reshape((y.shape[0], 1))"
   ]
  },
  {
   "cell_type": "code",
   "execution_count": 637,
   "metadata": {
    "collapsed": false
   },
   "outputs": [
    {
     "data": {
      "text/plain": [
       "(118, 2)"
      ]
     },
     "execution_count": 637,
     "metadata": {},
     "output_type": "execute_result"
    }
   ],
   "source": [
    "X.shape"
   ]
  },
  {
   "cell_type": "code",
   "execution_count": 638,
   "metadata": {
    "collapsed": false
   },
   "outputs": [
    {
     "data": {
      "text/plain": [
       "array([[ 0.051267 ,  0.69956  ],\n",
       "       [-0.092742 ,  0.68494  ],\n",
       "       [-0.21371  ,  0.69225  ],\n",
       "       [-0.375    ,  0.50219  ],\n",
       "       [-0.51325  ,  0.46564  ],\n",
       "       [-0.52477  ,  0.2098   ],\n",
       "       [-0.39804  ,  0.034357 ],\n",
       "       [-0.30588  , -0.19225  ],\n",
       "       [ 0.016705 , -0.40424  ],\n",
       "       [ 0.13191  , -0.51389  ],\n",
       "       [ 0.38537  , -0.56506  ],\n",
       "       [ 0.52938  , -0.5212   ],\n",
       "       [ 0.63882  , -0.24342  ],\n",
       "       [ 0.73675  , -0.18494  ],\n",
       "       [ 0.54666  ,  0.48757  ],\n",
       "       [ 0.322    ,  0.5826   ],\n",
       "       [ 0.16647  ,  0.53874  ],\n",
       "       [-0.046659 ,  0.81652  ],\n",
       "       [-0.17339  ,  0.69956  ],\n",
       "       [-0.47869  ,  0.63377  ],\n",
       "       [-0.60541  ,  0.59722  ],\n",
       "       [-0.62846  ,  0.33406  ],\n",
       "       [-0.59389  ,  0.005117 ],\n",
       "       [-0.42108  , -0.27266  ],\n",
       "       [-0.11578  , -0.39693  ],\n",
       "       [ 0.20104  , -0.60161  ],\n",
       "       [ 0.46601  , -0.53582  ],\n",
       "       [ 0.67339  , -0.53582  ],\n",
       "       [-0.13882  ,  0.54605  ],\n",
       "       [-0.29435  ,  0.77997  ],\n",
       "       [-0.26555  ,  0.96272  ],\n",
       "       [-0.16187  ,  0.8019   ],\n",
       "       [-0.17339  ,  0.64839  ],\n",
       "       [-0.28283  ,  0.47295  ],\n",
       "       [-0.36348  ,  0.31213  ],\n",
       "       [-0.30012  ,  0.027047 ],\n",
       "       [-0.23675  , -0.21418  ],\n",
       "       [-0.06394  , -0.18494  ],\n",
       "       [ 0.062788 , -0.16301  ],\n",
       "       [ 0.22984  , -0.41155  ],\n",
       "       [ 0.2932   , -0.2288   ],\n",
       "       [ 0.48329  , -0.18494  ],\n",
       "       [ 0.64459  , -0.14108  ],\n",
       "       [ 0.46025  ,  0.012427 ],\n",
       "       [ 0.6273   ,  0.15863  ],\n",
       "       [ 0.57546  ,  0.26827  ],\n",
       "       [ 0.72523  ,  0.44371  ],\n",
       "       [ 0.22408  ,  0.52412  ],\n",
       "       [ 0.44297  ,  0.67032  ],\n",
       "       [ 0.322    ,  0.69225  ],\n",
       "       [ 0.13767  ,  0.57529  ],\n",
       "       [-0.0063364,  0.39985  ],\n",
       "       [-0.092742 ,  0.55336  ],\n",
       "       [-0.20795  ,  0.35599  ],\n",
       "       [-0.20795  ,  0.17325  ],\n",
       "       [-0.43836  ,  0.21711  ],\n",
       "       [-0.21947  , -0.016813 ],\n",
       "       [-0.13882  , -0.27266  ],\n",
       "       [ 0.18376  ,  0.93348  ],\n",
       "       [ 0.22408  ,  0.77997  ],\n",
       "       [ 0.29896  ,  0.61915  ],\n",
       "       [ 0.50634  ,  0.75804  ],\n",
       "       [ 0.61578  ,  0.7288   ],\n",
       "       [ 0.60426  ,  0.59722  ],\n",
       "       [ 0.76555  ,  0.50219  ],\n",
       "       [ 0.92684  ,  0.3633   ],\n",
       "       [ 0.82316  ,  0.27558  ],\n",
       "       [ 0.96141  ,  0.085526 ],\n",
       "       [ 0.93836  ,  0.012427 ],\n",
       "       [ 0.86348  , -0.082602 ],\n",
       "       [ 0.89804  , -0.20687  ],\n",
       "       [ 0.85196  , -0.36769  ],\n",
       "       [ 0.82892  , -0.5212   ],\n",
       "       [ 0.79435  , -0.55775  ],\n",
       "       [ 0.59274  , -0.7405   ],\n",
       "       [ 0.51786  , -0.5943   ],\n",
       "       [ 0.46601  , -0.41886  ],\n",
       "       [ 0.35081  , -0.57968  ],\n",
       "       [ 0.28744  , -0.76974  ],\n",
       "       [ 0.085829 , -0.75512  ],\n",
       "       [ 0.14919  , -0.57968  ],\n",
       "       [-0.13306  , -0.4481   ],\n",
       "       [-0.40956  , -0.41155  ],\n",
       "       [-0.39228  , -0.25804  ],\n",
       "       [-0.74366  , -0.25804  ],\n",
       "       [-0.69758  ,  0.041667 ],\n",
       "       [-0.75518  ,  0.2902   ],\n",
       "       [-0.69758  ,  0.68494  ],\n",
       "       [-0.4038   ,  0.70687  ],\n",
       "       [-0.38076  ,  0.91886  ],\n",
       "       [-0.50749  ,  0.90424  ],\n",
       "       [-0.54781  ,  0.70687  ],\n",
       "       [ 0.10311  ,  0.77997  ],\n",
       "       [ 0.057028 ,  0.91886  ],\n",
       "       [-0.10426  ,  0.99196  ],\n",
       "       [-0.081221 ,  1.1089   ],\n",
       "       [ 0.28744  ,  1.087    ],\n",
       "       [ 0.39689  ,  0.82383  ],\n",
       "       [ 0.63882  ,  0.88962  ],\n",
       "       [ 0.82316  ,  0.66301  ],\n",
       "       [ 0.67339  ,  0.64108  ],\n",
       "       [ 1.0709   ,  0.10015  ],\n",
       "       [-0.046659 , -0.57968  ],\n",
       "       [-0.23675  , -0.63816  ],\n",
       "       [-0.15035  , -0.36769  ],\n",
       "       [-0.49021  , -0.3019   ],\n",
       "       [-0.46717  , -0.13377  ],\n",
       "       [-0.28859  , -0.060673 ],\n",
       "       [-0.61118  , -0.067982 ],\n",
       "       [-0.66302  , -0.21418  ],\n",
       "       [-0.59965  , -0.41886  ],\n",
       "       [-0.72638  , -0.082602 ],\n",
       "       [-0.83007  ,  0.31213  ],\n",
       "       [-0.72062  ,  0.53874  ],\n",
       "       [-0.59389  ,  0.49488  ],\n",
       "       [-0.48445  ,  0.99927  ],\n",
       "       [-0.0063364,  0.99927  ],\n",
       "       [ 0.63265  , -0.030612 ]])"
      ]
     },
     "execution_count": 638,
     "metadata": {},
     "output_type": "execute_result"
    }
   ],
   "source": [
    "X"
   ]
  },
  {
   "cell_type": "code",
   "execution_count": 639,
   "metadata": {
    "collapsed": false
   },
   "outputs": [
    {
     "data": {
      "text/plain": [
       "(118, 1)"
      ]
     },
     "execution_count": 639,
     "metadata": {},
     "output_type": "execute_result"
    }
   ],
   "source": [
    "y.shape"
   ]
  },
  {
   "cell_type": "code",
   "execution_count": 640,
   "metadata": {
    "collapsed": false
   },
   "outputs": [
    {
     "data": {
      "text/plain": [
       "array([[ 1.],\n",
       "       [ 1.],\n",
       "       [ 1.],\n",
       "       [ 1.],\n",
       "       [ 1.],\n",
       "       [ 1.],\n",
       "       [ 1.],\n",
       "       [ 1.],\n",
       "       [ 1.],\n",
       "       [ 1.],\n",
       "       [ 1.],\n",
       "       [ 1.],\n",
       "       [ 1.],\n",
       "       [ 1.],\n",
       "       [ 1.],\n",
       "       [ 1.],\n",
       "       [ 1.],\n",
       "       [ 1.],\n",
       "       [ 1.],\n",
       "       [ 1.],\n",
       "       [ 1.],\n",
       "       [ 1.],\n",
       "       [ 1.],\n",
       "       [ 1.],\n",
       "       [ 1.],\n",
       "       [ 1.],\n",
       "       [ 1.],\n",
       "       [ 1.],\n",
       "       [ 1.],\n",
       "       [ 1.],\n",
       "       [ 1.],\n",
       "       [ 1.],\n",
       "       [ 1.],\n",
       "       [ 1.],\n",
       "       [ 1.],\n",
       "       [ 1.],\n",
       "       [ 1.],\n",
       "       [ 1.],\n",
       "       [ 1.],\n",
       "       [ 1.],\n",
       "       [ 1.],\n",
       "       [ 1.],\n",
       "       [ 1.],\n",
       "       [ 1.],\n",
       "       [ 1.],\n",
       "       [ 1.],\n",
       "       [ 1.],\n",
       "       [ 1.],\n",
       "       [ 1.],\n",
       "       [ 1.],\n",
       "       [ 1.],\n",
       "       [ 1.],\n",
       "       [ 1.],\n",
       "       [ 1.],\n",
       "       [ 1.],\n",
       "       [ 1.],\n",
       "       [ 1.],\n",
       "       [ 1.],\n",
       "       [ 0.],\n",
       "       [ 0.],\n",
       "       [ 0.],\n",
       "       [ 0.],\n",
       "       [ 0.],\n",
       "       [ 0.],\n",
       "       [ 0.],\n",
       "       [ 0.],\n",
       "       [ 0.],\n",
       "       [ 0.],\n",
       "       [ 0.],\n",
       "       [ 0.],\n",
       "       [ 0.],\n",
       "       [ 0.],\n",
       "       [ 0.],\n",
       "       [ 0.],\n",
       "       [ 0.],\n",
       "       [ 0.],\n",
       "       [ 0.],\n",
       "       [ 0.],\n",
       "       [ 0.],\n",
       "       [ 0.],\n",
       "       [ 0.],\n",
       "       [ 0.],\n",
       "       [ 0.],\n",
       "       [ 0.],\n",
       "       [ 0.],\n",
       "       [ 0.],\n",
       "       [ 0.],\n",
       "       [ 0.],\n",
       "       [ 0.],\n",
       "       [ 0.],\n",
       "       [ 0.],\n",
       "       [ 0.],\n",
       "       [ 0.],\n",
       "       [ 0.],\n",
       "       [ 0.],\n",
       "       [ 0.],\n",
       "       [ 0.],\n",
       "       [ 0.],\n",
       "       [ 0.],\n",
       "       [ 0.],\n",
       "       [ 0.],\n",
       "       [ 0.],\n",
       "       [ 0.],\n",
       "       [ 0.],\n",
       "       [ 0.],\n",
       "       [ 0.],\n",
       "       [ 0.],\n",
       "       [ 0.],\n",
       "       [ 0.],\n",
       "       [ 0.],\n",
       "       [ 0.],\n",
       "       [ 0.],\n",
       "       [ 0.],\n",
       "       [ 0.],\n",
       "       [ 0.],\n",
       "       [ 0.],\n",
       "       [ 0.],\n",
       "       [ 0.]])"
      ]
     },
     "execution_count": 640,
     "metadata": {},
     "output_type": "execute_result"
    }
   ],
   "source": [
    "y"
   ]
  },
  {
   "cell_type": "code",
   "execution_count": 641,
   "metadata": {
    "collapsed": true
   },
   "outputs": [],
   "source": [
    "m, n = X.shape"
   ]
  },
  {
   "cell_type": "code",
   "execution_count": 642,
   "metadata": {
    "collapsed": false
   },
   "outputs": [
    {
     "data": {
      "text/plain": [
       "118"
      ]
     },
     "execution_count": 642,
     "metadata": {},
     "output_type": "execute_result"
    }
   ],
   "source": [
    "m"
   ]
  },
  {
   "cell_type": "code",
   "execution_count": 643,
   "metadata": {
    "collapsed": false
   },
   "outputs": [
    {
     "data": {
      "text/plain": [
       "2"
      ]
     },
     "execution_count": 643,
     "metadata": {},
     "output_type": "execute_result"
    }
   ],
   "source": [
    "n"
   ]
  },
  {
   "cell_type": "markdown",
   "metadata": {},
   "source": [
    "## 2.1 Plotting"
   ]
  },
  {
   "cell_type": "code",
   "execution_count": 644,
   "metadata": {
    "collapsed": false
   },
   "outputs": [
    {
     "data": {
      "text/plain": [
       "<matplotlib.text.Text at 0x112d68860>"
      ]
     },
     "execution_count": 644,
     "metadata": {},
     "output_type": "execute_result"
    },
    {
     "data": {
      "image/png": "[encoded data removed]",
      "text/plain": [
       "<matplotlib.figure.Figure at 0x112915c50>"
      ]
     },
     "metadata": {},
     "output_type": "display_data"
    }
   ],
   "source": [
    "fig, axes = plt.subplots(figsize=(12, 8))\n",
    "axes.scatter(X[:, 0], X[:, 1])\n",
    "axes.set_xlabel(\"Microchip Test 1\")\n",
    "axes.set_ylabel(\"Microchip Test 2\")"
   ]
  },
  {
   "cell_type": "code",
   "execution_count": 645,
   "metadata": {
    "collapsed": true
   },
   "outputs": [],
   "source": [
    "# TODO: Plot classes on the graph."
   ]
  },
  {
   "cell_type": "markdown",
   "metadata": {},
   "source": [
    "## 2.2 Features mapping"
   ]
  },
  {
   "cell_type": "code",
   "execution_count": 646,
   "metadata": {
    "collapsed": true
   },
   "outputs": [],
   "source": [
    "# TODO: Implement this in Python.\n",
    "from sklearn.preprocessing import PolynomialFeatures\n",
    "\n",
    "def map_features(X):\n",
    "    poly_features = PolynomialFeatures(degree=6, include_bias=True)\n",
    "    X_poly = poly_features.fit_transform(X)\n",
    "    return X_poly"
   ]
  },
  {
   "cell_type": "code",
   "execution_count": 647,
   "metadata": {
    "collapsed": true
   },
   "outputs": [],
   "source": [
    "X = map_features(X)"
   ]
  },
  {
   "cell_type": "code",
   "execution_count": 648,
   "metadata": {
    "collapsed": false
   },
   "outputs": [
    {
     "data": {
      "text/plain": [
       "(118, 28)"
      ]
     },
     "execution_count": 648,
     "metadata": {},
     "output_type": "execute_result"
    }
   ],
   "source": [
    "X.shape"
   ]
  },
  {
   "cell_type": "code",
   "execution_count": 649,
   "metadata": {
    "collapsed": false
   },
   "outputs": [
    {
     "data": {
      "text/plain": [
       "array([[  1.00000000e+00,   5.12670000e-02,   6.99560000e-01, ...,\n",
       "          6.29470940e-04,   8.58939846e-03,   1.17205992e-01],\n",
       "       [  1.00000000e+00,  -9.27420000e-02,   6.84940000e-01, ...,\n",
       "          1.89305413e-03,  -1.39810280e-02,   1.03255971e-01],\n",
       "       [  1.00000000e+00,  -2.13710000e-01,   6.92250000e-01, ...,\n",
       "          1.04882142e-02,  -3.39734512e-02,   1.10046893e-01],\n",
       "       ..., \n",
       "       [  1.00000000e+00,  -4.84450000e-01,   9.99270000e-01, ...,\n",
       "          2.34007252e-01,  -4.82684337e-01,   9.95627986e-01],\n",
       "       [  1.00000000e+00,  -6.33640000e-03,   9.99270000e-01, ...,\n",
       "          4.00328554e-05,  -6.31330588e-03,   9.95627986e-01],\n",
       "       [  1.00000000e+00,   6.32650000e-01,  -3.06120000e-02, ...,\n",
       "          3.51474517e-07,  -1.70067777e-08,   8.22905998e-10]])"
      ]
     },
     "execution_count": 649,
     "metadata": {},
     "output_type": "execute_result"
    }
   ],
   "source": [
    "X"
   ]
  },
  {
   "cell_type": "markdown",
   "metadata": {},
   "source": [
    "## 2.3 Cost function"
   ]
  },
  {
   "cell_type": "code",
   "execution_count": 650,
   "metadata": {
    "collapsed": false
   },
   "outputs": [],
   "source": [
    "lambda_param = 1;\n",
    "initial_theta = np.zeros((X.shape[1], 1))"
   ]
  },
  {
   "cell_type": "code",
   "execution_count": 651,
   "metadata": {
    "collapsed": false
   },
   "outputs": [],
   "source": [
    "def cost_function(theta, X, y, lamda_param):\n",
    "    h = sigmoid(X @ theta)\n",
    "    cost_term = (1 / m) * (y.T @ -np.log(h) + (1 - y).T @ -np.log(1 - h))\n",
    "    lambda_term = (1 / (2 * m)) * lamda_param * np.sum(theta[1:] ** 2, axis=0)\n",
    "    return cost_term + lambda_term  "
   ]
  },
  {
   "cell_type": "code",
   "execution_count": 652,
   "metadata": {
    "collapsed": false
   },
   "outputs": [
    {
     "data": {
      "text/plain": [
       "array([[ 0.69314718]])"
      ]
     },
     "execution_count": 652,
     "metadata": {},
     "output_type": "execute_result"
    }
   ],
   "source": [
    "cost = cost_function(initial_theta, X, y, lambda_param)\n",
    "cost"
   ]
  },
  {
   "cell_type": "code",
   "execution_count": 653,
   "metadata": {
    "collapsed": false
   },
   "outputs": [],
   "source": [
    "assert np.round(cost[0], 3) == 0.693, \"Error\""
   ]
  },
  {
   "cell_type": "code",
   "execution_count": 654,
   "metadata": {
    "collapsed": false
   },
   "outputs": [
    {
     "data": {
      "text/plain": [
       "(28, 1)"
      ]
     },
     "execution_count": 654,
     "metadata": {},
     "output_type": "execute_result"
    }
   ],
   "source": [
    "test_theta = np.ones((X.shape[1], 1))\n",
    "test_theta.shape"
   ]
  },
  {
   "cell_type": "code",
   "execution_count": 655,
   "metadata": {
    "collapsed": false
   },
   "outputs": [],
   "source": [
    "cost = cost_function(test_theta, X, y, 10)"
   ]
  },
  {
   "cell_type": "code",
   "execution_count": 656,
   "metadata": {
    "collapsed": false
   },
   "outputs": [],
   "source": [
    "assert np.round(cost[0], 2) == 3.16, \"Error\""
   ]
  },
  {
   "cell_type": "markdown",
   "metadata": {},
   "source": [
    "## 2.3 Optimizing"
   ]
  },
  {
   "cell_type": "code",
   "execution_count": 661,
   "metadata": {
    "collapsed": true
   },
   "outputs": [],
   "source": [
    "iterations = 1500000\n",
    "alpha = 0.0034\n",
    "initial_theta = np.zeros((X.shape[1], 1))\n",
    "lambda_param = 1"
   ]
  },
  {
   "cell_type": "code",
   "execution_count": 687,
   "metadata": {
    "collapsed": false
   },
   "outputs": [],
   "source": [
    "def gradient_descent(X, y, theta, alpha, iterations, lambda_param):\n",
    "    theta_res = theta.copy()\n",
    "    for _ in range(iterations):\n",
    "        h = sigmoid(X @ theta_res)\n",
    "        cost_term = (1 / m) * X.T @ (h - y)\n",
    "        theta_regular = np.r_[np.array([[0]]), theta_res[1:]]\n",
    "        lambda_term = (1 / m) * lambda_param * theta_regular\n",
    "        theta_res = theta_res - alpha * (cost_term + lambda_term)\n",
    "    return theta_res"
   ]
  },
  {
   "cell_type": "code",
   "execution_count": 679,
   "metadata": {
    "collapsed": false
   },
   "outputs": [],
   "source": [
    "theta = gradient_descent(X, y, initial_theta, alpha, iterations, lambda_param)"
   ]
  },
  {
   "cell_type": "code",
   "execution_count": 680,
   "metadata": {
    "collapsed": false
   },
   "outputs": [
    {
     "data": {
      "text/plain": [
       "array([[ 1.27273951],\n",
       "       [ 0.6252718 ],\n",
       "       [ 1.18108869],\n",
       "       [-2.01996086],\n",
       "       [-0.91742375],\n",
       "       [-1.43166444],\n",
       "       [ 0.12400635],\n",
       "       [-0.36553437],\n",
       "       [-0.35723962],\n",
       "       [-0.17513048],\n",
       "       [-1.45815646],\n",
       "       [-0.05098906],\n",
       "       [-0.61555504],\n",
       "       [-0.27470631],\n",
       "       [-1.19281652],\n",
       "       [-0.24218823],\n",
       "       [-0.20600609],\n",
       "       [-0.04473075],\n",
       "       [-0.2777845 ],\n",
       "       [-0.2953781 ],\n",
       "       [-0.45635749],\n",
       "       [-1.04320249],\n",
       "       [ 0.02777171],\n",
       "       [-0.29243131],\n",
       "       [ 0.01556681],\n",
       "       [-0.32737959],\n",
       "       [-0.14388693],\n",
       "       [-0.92465257]])"
      ]
     },
     "execution_count": 680,
     "metadata": {},
     "output_type": "execute_result"
    }
   ],
   "source": [
    "theta"
   ]
  },
  {
   "cell_type": "code",
   "execution_count": 681,
   "metadata": {
    "collapsed": false
   },
   "outputs": [],
   "source": [
    "# TODO: Plot decision boundary."
   ]
  },
  {
   "cell_type": "code",
   "execution_count": 682,
   "metadata": {
    "collapsed": true
   },
   "outputs": [],
   "source": [
    "pred = predict(theta, X)"
   ]
  },
  {
   "cell_type": "code",
   "execution_count": 685,
   "metadata": {
    "collapsed": false
   },
   "outputs": [
    {
     "data": {
      "text/plain": [
       "83.050847457627114"
      ]
     },
     "execution_count": 685,
     "metadata": {},
     "output_type": "execute_result"
    }
   ],
   "source": [
    "accuracy = np.mean(pred == y) * 100\n",
    "accuracy"
   ]
  },
  {
   "cell_type": "code",
   "execution_count": 686,
   "metadata": {
    "collapsed": true
   },
   "outputs": [],
   "source": [
    "assert np.round(accuracy, 1) == 83.1, \"Error\""
   ]
  },
  {
   "cell_type": "code",
   "execution_count": 688,
   "metadata": {
    "collapsed": true
   },
   "outputs": [],
   "source": [
    "# TODO: Tune and plot different regularization params and see decision boundary."
   ]
  },
  {
   "cell_type": "code",
   "execution_count": null,
   "metadata": {
    "collapsed": true
   },
   "outputs": [],
   "source": []
  }
 ],
 "metadata": {
  "kernelspec": {
   "display_name": "Python 3",
   "language": "python",
   "name": "python3"
  },
  "language_info": {
   "codemirror_mode": {
    "name": "ipython",
    "version": 3
   },
   "file_extension": ".py",
   "mimetype": "text/x-python",
   "name": "python",
   "nbconvert_exporter": "python",
   "pygments_lexer": "ipython3",
   "version": "3.6.3"
  }
 },
 "nbformat": 4,
 "nbformat_minor": 2
}
