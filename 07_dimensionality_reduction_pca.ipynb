{
 "cells": [
  {
   "cell_type": "code",
   "execution_count": 1,
   "metadata": {
    "collapsed": true
   },
   "outputs": [],
   "source": [
    "import numpy as np\n",
    "import matplotlib.pyplot as plt\n",
    "\n",
    "%matplotlib inline"
   ]
  },
  {
   "cell_type": "markdown",
   "metadata": {},
   "source": [
    "## 1. Load example dataset"
   ]
  },
  {
   "cell_type": "code",
   "execution_count": 35,
   "metadata": {
    "collapsed": true
   },
   "outputs": [],
   "source": [
    "X = np.loadtxt(\"datasets/ex7data1_X.txt\", delimiter=\",\")"
   ]
  },
  {
   "cell_type": "code",
   "execution_count": 36,
   "metadata": {
    "collapsed": false
   },
   "outputs": [
    {
     "data": {
      "text/plain": [
       "(50, 2)"
      ]
     },
     "execution_count": 36,
     "metadata": {},
     "output_type": "execute_result"
    }
   ],
   "source": [
    "X.shape"
   ]
  },
  {
   "cell_type": "code",
   "execution_count": 37,
   "metadata": {
    "collapsed": false
   },
   "outputs": [
    {
     "data": {
      "text/plain": [
       "array([[ 3.3816,  3.3891],\n",
       "       [ 4.5279,  5.8542],\n",
       "       [ 2.6557,  4.412 ],\n",
       "       [ 2.7652,  3.7154],\n",
       "       [ 2.8466,  4.1755],\n",
       "       [ 3.8907,  6.4884],\n",
       "       [ 3.4758,  3.6328],\n",
       "       [ 5.9113,  6.6808],\n",
       "       [ 3.9289,  5.0984],\n",
       "       [ 4.5618,  5.6233],\n",
       "       [ 4.5741,  5.3977],\n",
       "       [ 4.3717,  5.4612],\n",
       "       [ 4.1917,  4.9547],\n",
       "       [ 5.2441,  4.6615],\n",
       "       [ 2.8358,  3.768 ],\n",
       "       [ 5.6353,  6.3121],\n",
       "       [ 4.6863,  5.6652],\n",
       "       [ 2.8505,  4.6265],\n",
       "       [ 5.1102,  7.3632],\n",
       "       [ 5.1826,  4.6465],\n",
       "       [ 5.7073,  6.681 ],\n",
       "       [ 3.5797,  4.8028],\n",
       "       [ 5.6394,  6.1204],\n",
       "       [ 4.2635,  4.6894],\n",
       "       [ 2.5365,  3.8845],\n",
       "       [ 3.2238,  4.9426],\n",
       "       [ 4.9295,  5.955 ],\n",
       "       [ 5.793 ,  5.1084],\n",
       "       [ 2.8168,  4.819 ],\n",
       "       [ 3.8888,  5.1004],\n",
       "       [ 3.3432,  5.893 ],\n",
       "       [ 5.8797,  5.5214],\n",
       "       [ 3.1039,  3.8571],\n",
       "       [ 5.3315,  4.6807],\n",
       "       [ 3.3754,  4.5654],\n",
       "       [ 4.7767,  6.2544],\n",
       "       [ 2.6757,  3.731 ],\n",
       "       [ 5.5003,  5.6795],\n",
       "       [ 1.7971,  3.2475],\n",
       "       [ 4.3225,  5.1111],\n",
       "       [ 4.421 ,  6.0256],\n",
       "       [ 3.1793,  4.4369],\n",
       "       [ 3.0335,  3.9788],\n",
       "       [ 4.6093,  5.8798],\n",
       "       [ 2.9638,  3.3002],\n",
       "       [ 3.9718,  5.4077],\n",
       "       [ 1.1802,  2.8787],\n",
       "       [ 1.919 ,  5.0711],\n",
       "       [ 3.9552,  4.5053],\n",
       "       [ 5.118 ,  6.0851]])"
      ]
     },
     "execution_count": 37,
     "metadata": {},
     "output_type": "execute_result"
    }
   ],
   "source": [
    "X"
   ]
  },
  {
   "cell_type": "code",
   "execution_count": 38,
   "metadata": {
    "collapsed": false
   },
   "outputs": [
    {
     "data": {
      "text/plain": [
       "<matplotlib.collections.PathCollection at 0x115f63518>"
      ]
     },
     "execution_count": 38,
     "metadata": {},
     "output_type": "execute_result"
    },
    {
     "data": {
      "image/png": "[encoded data removed]",
      "text/plain": [
       "<matplotlib.figure.Figure at 0x115f634a8>"
      ]
     },
     "metadata": {},
     "output_type": "display_data"
    }
   ],
   "source": [
    "fig, axes = plt.subplots(figsize=(12, 8))\n",
    "axes.scatter(X[:, 0], X[:, 1])"
   ]
  },
  {
   "cell_type": "markdown",
   "metadata": {},
   "source": [
    "## 2. Principal Component Analysis"
   ]
  },
  {
   "cell_type": "code",
   "execution_count": 31,
   "metadata": {
    "collapsed": true
   },
   "outputs": [],
   "source": [
    "def normalize(X):\n",
    "    return (X - X.mean(axis=0)) / X.std(axis=0, ddof=True)"
   ]
  },
  {
   "cell_type": "code",
   "execution_count": 39,
   "metadata": {
    "collapsed": false
   },
   "outputs": [],
   "source": [
    "X_norm = normalize(X)"
   ]
  },
  {
   "cell_type": "code",
   "execution_count": 40,
   "metadata": {
    "collapsed": false
   },
   "outputs": [
    {
     "data": {
      "text/plain": [
       "array([[-0.51801707, -1.57679082],\n",
       "       [ 0.45917257,  0.83191749],\n",
       "       [-1.13682712, -0.57729071],\n",
       "       [-1.04348134, -1.25795527],\n",
       "       [-0.97409005, -0.80838053],\n",
       "       [-0.08402314,  1.45160951],\n",
       "       [-0.43771412, -1.33866571],\n",
       "       [ 1.63848353,  1.63960817],\n",
       "       [-0.05145867,  0.09340719],\n",
       "       [ 0.4880714 ,  0.60629956],\n",
       "       [ 0.49855682,  0.38586039],\n",
       "       [ 0.32601631,  0.44790777],\n",
       "       [ 0.1725712 , -0.04700553],\n",
       "       [ 1.06971363, -0.33349827],\n",
       "       [-0.98329676, -1.20655855],\n",
       "       [ 1.40320102,  1.27934256],\n",
       "       [ 0.59420427,  0.64724106],\n",
       "       [-0.9707654 , -0.36769761],\n",
       "       [ 0.95556752,  2.30639756],\n",
       "       [ 1.01728655, -0.34815513],\n",
       "       [ 1.46457906,  1.63980359],\n",
       "       [-0.34914219, -0.19543066],\n",
       "       [ 1.40669616,  1.09202789],\n",
       "       [ 0.23377875, -0.30623652],\n",
       "       [-1.23844188, -1.0927236 ],\n",
       "       [-0.65253729, -0.05882873],\n",
       "       [ 0.80152567,  0.93041159],\n",
       "       [ 1.53763599,  0.10317843],\n",
       "       [-0.99949374, -0.17960125],\n",
       "       [-0.08564283,  0.09536144],\n",
       "       [-0.55075203,  0.8698299 ],\n",
       "       [ 1.61154538,  0.50673063],\n",
       "       [-0.75474878, -1.1194968 ],\n",
       "       [ 1.14421976, -0.31473749],\n",
       "       [-0.5233024 , -0.42739989],\n",
       "       [ 0.67126782,  1.2229625 ],\n",
       "       [-1.11977766, -1.24271213],\n",
       "       [ 1.28811718,  0.66121393],\n",
       "       [-1.86876032, -1.71515157],\n",
       "       [ 0.28407465,  0.10581666],\n",
       "       [ 0.36804322,  0.99939654],\n",
       "       [-0.69047233, -0.55296032],\n",
       "       [-0.81476287, -1.00058081],\n",
       "       [ 0.52856386,  0.85693186],\n",
       "       [-0.87418023, -1.66365714],\n",
       "       [-0.01488759,  0.39563163],\n",
       "       [-2.39465082, -2.0755149 ],\n",
       "       [-1.76484387,  0.0667317 ],\n",
       "       [-0.02903864, -0.48612504],\n",
       "       [ 0.96221681,  1.05753541]])"
      ]
     },
     "execution_count": 40,
     "metadata": {},
     "output_type": "execute_result"
    }
   ],
   "source": [
    "X_norm"
   ]
  },
  {
   "cell_type": "code",
   "execution_count": 54,
   "metadata": {
    "collapsed": true
   },
   "outputs": [],
   "source": [
    "def pca(X):\n",
    "    m = X.shape[0]\n",
    "    sigma = (1 / m) * np.dot(X.T, X)\n",
    "    U, S, V = np.linalg.svd(sigma)\n",
    "    return U, S, V"
   ]
  },
  {
   "cell_type": "code",
   "execution_count": 55,
   "metadata": {
    "collapsed": false
   },
   "outputs": [
    {
     "name": "stdout",
     "output_type": "stream",
     "text": [
      "[[ 0.98        0.72081558]\n",
      " [ 0.72081558  0.98      ]]\n"
     ]
    }
   ],
   "source": [
    "U, S, V = pca(X_norm)"
   ]
  },
  {
   "cell_type": "code",
   "execution_count": 53,
   "metadata": {
    "collapsed": false
   },
   "outputs": [
    {
     "data": {
      "text/plain": [
       "array([[-0.70710678, -0.70710678],\n",
       "       [-0.70710678,  0.70710678]])"
      ]
     },
     "execution_count": 53,
     "metadata": {},
     "output_type": "execute_result"
    }
   ],
   "source": [
    "U"
   ]
  },
  {
   "cell_type": "code",
   "execution_count": 56,
   "metadata": {
    "collapsed": false
   },
   "outputs": [
    {
     "data": {
      "text/plain": [
       "array([ 1.70081558,  0.25918442])"
      ]
     },
     "execution_count": 56,
     "metadata": {},
     "output_type": "execute_result"
    }
   ],
   "source": [
    "S"
   ]
  },
  {
   "cell_type": "code",
   "execution_count": 57,
   "metadata": {
    "collapsed": true
   },
   "outputs": [],
   "source": [
    "# TODO: Plot vectors here."
   ]
  },
  {
   "cell_type": "code",
   "execution_count": 68,
   "metadata": {
    "collapsed": false
   },
   "outputs": [],
   "source": [
    "assert np.round(U[0, 0], 6) == -0.707107, \"Error\""
   ]
  },
  {
   "cell_type": "code",
   "execution_count": 69,
   "metadata": {
    "collapsed": false
   },
   "outputs": [],
   "source": [
    "assert np.round(U[1, 0], 6) == -0.707107, \"Error\""
   ]
  },
  {
   "cell_type": "markdown",
   "metadata": {},
   "source": [
    "## 3. Dimension Reduction with PCA"
   ]
  },
  {
   "cell_type": "code",
   "execution_count": 85,
   "metadata": {
    "collapsed": true
   },
   "outputs": [],
   "source": [
    "# TODO: Plot the normalized dataset (returned from pca)"
   ]
  },
  {
   "cell_type": "code",
   "execution_count": 95,
   "metadata": {
    "collapsed": true
   },
   "outputs": [],
   "source": [
    "def project_data(X, U, K):\n",
    "    U_reduce = U[:, 0:K]\n",
    "    Z = X @ U_reduce\n",
    "    return Z"
   ]
  },
  {
   "cell_type": "code",
   "execution_count": 96,
   "metadata": {
    "collapsed": false
   },
   "outputs": [],
   "source": [
    "Z = project_data(X_norm, U, 1)"
   ]
  },
  {
   "cell_type": "code",
   "execution_count": 97,
   "metadata": {
    "collapsed": false
   },
   "outputs": [
    {
     "data": {
      "text/plain": [
       "(50, 1)"
      ]
     },
     "execution_count": 97,
     "metadata": {},
     "output_type": "execute_result"
    }
   ],
   "source": [
    "Z.shape"
   ]
  },
  {
   "cell_type": "code",
   "execution_count": 98,
   "metadata": {
    "collapsed": false
   },
   "outputs": [
    {
     "data": {
      "text/plain": [
       "array([[ 1.48125286],\n",
       "       [-0.91293854],\n",
       "       [ 1.21206434],\n",
       "       [ 1.62736143],\n",
       "       [ 1.26039703],\n",
       "       [-0.9670296 ],\n",
       "       [ 1.25609022],\n",
       "       [-2.31796087],\n",
       "       [-0.02966208],\n",
       "       [-0.77383713],\n",
       "       [-0.62537741],\n",
       "       [-0.54724696],\n",
       "       [-0.08878834],\n",
       "       [-0.52058287],\n",
       "       [ 1.54846153],\n",
       "       [-1.89684475],\n",
       "       [-0.87783441],\n",
       "       [ 0.94643628],\n",
       "       [-2.30655763],\n",
       "       [-0.47314736],\n",
       "       [-2.19513003],\n",
       "       [ 0.38507116],\n",
       "       [-1.76686472],\n",
       "       [ 0.05123538],\n",
       "       [ 1.64838292],\n",
       "       [ 0.50301173],\n",
       "       [-1.22466458],\n",
       "       [-1.160231  ],\n",
       "       [ 0.83374606],\n",
       "       [-0.00687209],\n",
       "       [-0.22562213],\n",
       "       [-1.49784733],\n",
       "       [ 1.32529176],\n",
       "       [-0.58653254],\n",
       "       [ 0.67224804],\n",
       "       [-1.33942311],\n",
       "       [ 1.67053255],\n",
       "       [-1.37838525],\n",
       "       [ 2.5342084 ],\n",
       "       [-0.27569479],\n",
       "       [-0.96692593],\n",
       "       [ 0.87923966],\n",
       "       [ 1.28364183],\n",
       "       [-0.97969342],\n",
       "       [ 1.79452201],\n",
       "       [-0.2692267 ],\n",
       "       [ 3.16088449],\n",
       "       [ 1.20074663],\n",
       "       [ 0.36427573],\n",
       "       [-1.42818049]])"
      ]
     },
     "execution_count": 98,
     "metadata": {},
     "output_type": "execute_result"
    }
   ],
   "source": [
    "Z"
   ]
  },
  {
   "cell_type": "code",
   "execution_count": 107,
   "metadata": {
    "collapsed": false
   },
   "outputs": [],
   "source": [
    "assert round(Z[0][0], 3) == 1.481, \"Error\""
   ]
  },
  {
   "cell_type": "code",
   "execution_count": 122,
   "metadata": {
    "collapsed": true
   },
   "outputs": [],
   "source": [
    "def recover_data(Z, U, K):\n",
    "    U_reduce = U[:, 0:K]\n",
    "    X_rec = Z @ U_reduce.T\n",
    "    return X_rec"
   ]
  },
  {
   "cell_type": "code",
   "execution_count": 123,
   "metadata": {
    "collapsed": false
   },
   "outputs": [],
   "source": [
    "X_rec = recover_data(Z, U, 1)"
   ]
  },
  {
   "cell_type": "code",
   "execution_count": 124,
   "metadata": {
    "collapsed": false
   },
   "outputs": [
    {
     "data": {
      "text/plain": [
       "(50, 2)"
      ]
     },
     "execution_count": 124,
     "metadata": {},
     "output_type": "execute_result"
    }
   ],
   "source": [
    "X_rec.shape"
   ]
  },
  {
   "cell_type": "code",
   "execution_count": 125,
   "metadata": {
    "collapsed": false
   },
   "outputs": [
    {
     "data": {
      "text/plain": [
       "array([[-1.04740394, -1.04740394],\n",
       "       [ 0.64554503,  0.64554503],\n",
       "       [-0.85705891, -0.85705891],\n",
       "       [-1.1507183 , -1.1507183 ],\n",
       "       [-0.89123529, -0.89123529],\n",
       "       [ 0.68379319,  0.68379319],\n",
       "       [-0.88818992, -0.88818992],\n",
       "       [ 1.63904585,  1.63904585],\n",
       "       [ 0.02097426,  0.02097426],\n",
       "       [ 0.54718548,  0.54718548],\n",
       "       [ 0.44220861,  0.44220861],\n",
       "       [ 0.38696204,  0.38696204],\n",
       "       [ 0.06278284,  0.06278284],\n",
       "       [ 0.36810768,  0.36810768],\n",
       "       [-1.09492765, -1.09492765],\n",
       "       [ 1.34127179,  1.34127179],\n",
       "       [ 0.62072267,  0.62072267],\n",
       "       [-0.66923151, -0.66923151],\n",
       "       [ 1.63098254,  1.63098254],\n",
       "       [ 0.33456571,  0.33456571],\n",
       "       [ 1.55219133,  1.55219133],\n",
       "       [-0.27228643, -0.27228643],\n",
       "       [ 1.24936202,  1.24936202],\n",
       "       [-0.03622888, -0.03622888],\n",
       "       [-1.16558274, -1.16558274],\n",
       "       [-0.35568301, -0.35568301],\n",
       "       [ 0.86596863,  0.86596863],\n",
       "       [ 0.82040721,  0.82040721],\n",
       "       [-0.58954749, -0.58954749],\n",
       "       [ 0.0048593 ,  0.0048593 ],\n",
       "       [ 0.15953894,  0.15953894],\n",
       "       [ 1.05913801,  1.05913801],\n",
       "       [-0.93712279, -0.93712279],\n",
       "       [ 0.41474113,  0.41474113],\n",
       "       [-0.47535114, -0.47535114],\n",
       "       [ 0.94711516,  0.94711516],\n",
       "       [-1.1812449 , -1.1812449 ],\n",
       "       [ 0.97466556,  0.97466556],\n",
       "       [-1.79195595, -1.79195595],\n",
       "       [ 0.19494565,  0.19494565],\n",
       "       [ 0.68371988,  0.68371988],\n",
       "       [-0.62171632, -0.62171632],\n",
       "       [-0.90767184, -0.90767184],\n",
       "       [ 0.69274786,  0.69274786],\n",
       "       [-1.26891869, -1.26891869],\n",
       "       [ 0.19037202,  0.19037202],\n",
       "       [-2.23508286, -2.23508286],\n",
       "       [-0.84905608, -0.84905608],\n",
       "       [-0.25758184, -0.25758184],\n",
       "       [ 1.00987611,  1.00987611]])"
      ]
     },
     "execution_count": 125,
     "metadata": {},
     "output_type": "execute_result"
    }
   ],
   "source": [
    "X_rec"
   ]
  },
  {
   "cell_type": "code",
   "execution_count": 130,
   "metadata": {
    "collapsed": true
   },
   "outputs": [],
   "source": [
    "assert np.round(X_rec[0, 0], 3) == -1.047, \"Error\""
   ]
  },
  {
   "cell_type": "code",
   "execution_count": 131,
   "metadata": {
    "collapsed": false
   },
   "outputs": [],
   "source": [
    "assert np.round(X_rec[0, 1], 3) == -1.047, \"Error\""
   ]
  },
  {
   "cell_type": "code",
   "execution_count": 126,
   "metadata": {
    "collapsed": true
   },
   "outputs": [],
   "source": [
    "# TODO: Draw lines connecting the projected points to the original points"
   ]
  },
  {
   "cell_type": "markdown",
   "metadata": {},
   "source": [
    "## 4. Loading and Visualizing Face Data"
   ]
  },
  {
   "cell_type": "code",
   "execution_count": 132,
   "metadata": {
    "collapsed": true
   },
   "outputs": [],
   "source": [
    "# TODO: Finish this one with visualization."
   ]
  },
  {
   "cell_type": "code",
   "execution_count": null,
   "metadata": {
    "collapsed": true
   },
   "outputs": [],
   "source": []
  },
  {
   "cell_type": "code",
   "execution_count": null,
   "metadata": {
    "collapsed": true
   },
   "outputs": [],
   "source": []
  },
  {
   "cell_type": "code",
   "execution_count": null,
   "metadata": {
    "collapsed": true
   },
   "outputs": [],
   "source": []
  }
 ],
 "metadata": {
  "kernelspec": {
   "display_name": "Python 3",
   "language": "python",
   "name": "python3"
  },
  "language_info": {
   "codemirror_mode": {
    "name": "ipython",
    "version": 3
   },
   "file_extension": ".py",
   "mimetype": "text/x-python",
   "name": "python",
   "nbconvert_exporter": "python",
   "pygments_lexer": "ipython3",
   "version": "3.6.3"
  }
 },
 "nbformat": 4,
 "nbformat_minor": 2
}
