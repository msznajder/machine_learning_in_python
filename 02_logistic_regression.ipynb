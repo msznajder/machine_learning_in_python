{
 "cells": [
  {
   "cell_type": "markdown",
   "metadata": {},
   "source": [
    "# Logistic regression"
   ]
  },
  {
   "cell_type": "code",
   "execution_count": 1,
   "metadata": {
    "collapsed": true
   },
   "outputs": [],
   "source": [
    "import numpy as np\n",
    "\n",
    "from scipy.optimize import minimize\n",
    "\n",
    "import matplotlib.pyplot as plt\n",
    "%matplotlib inline"
   ]
  },
  {
   "cell_type": "markdown",
   "metadata": {},
   "source": [
    "## 1. Logistic regression"
   ]
  },
  {
   "cell_type": "markdown",
   "metadata": {},
   "source": [
    "## 1.1 Data wrangling"
   ]
  },
  {
   "cell_type": "code",
   "execution_count": 2,
   "metadata": {
    "collapsed": true
   },
   "outputs": [],
   "source": [
    "data = np.loadtxt(\"datasets/ex2data1.txt\", delimiter=\",\")"
   ]
  },
  {
   "cell_type": "code",
   "execution_count": 3,
   "metadata": {
    "collapsed": false,
    "scrolled": false
   },
   "outputs": [
    {
     "data": {
      "text/plain": [
       "array([[ 34.62365962,  78.02469282,   0.        ],\n",
       "       [ 30.28671077,  43.89499752,   0.        ],\n",
       "       [ 35.84740877,  72.90219803,   0.        ],\n",
       "       [ 60.18259939,  86.3085521 ,   1.        ],\n",
       "       [ 79.03273605,  75.34437644,   1.        ],\n",
       "       [ 45.08327748,  56.31637178,   0.        ],\n",
       "       [ 61.10666454,  96.51142588,   1.        ],\n",
       "       [ 75.02474557,  46.55401354,   1.        ],\n",
       "       [ 76.0987867 ,  87.42056972,   1.        ],\n",
       "       [ 84.43281996,  43.53339331,   1.        ],\n",
       "       [ 95.86155507,  38.22527806,   0.        ],\n",
       "       [ 75.01365839,  30.60326323,   0.        ],\n",
       "       [ 82.30705337,  76.4819633 ,   1.        ],\n",
       "       [ 69.36458876,  97.71869196,   1.        ],\n",
       "       [ 39.53833914,  76.03681085,   0.        ],\n",
       "       [ 53.97105215,  89.20735014,   1.        ],\n",
       "       [ 69.07014406,  52.74046973,   1.        ],\n",
       "       [ 67.94685548,  46.67857411,   0.        ],\n",
       "       [ 70.66150955,  92.92713789,   1.        ],\n",
       "       [ 76.97878373,  47.57596365,   1.        ],\n",
       "       [ 67.37202755,  42.83843832,   0.        ],\n",
       "       [ 89.67677575,  65.79936593,   1.        ],\n",
       "       [ 50.53478829,  48.85581153,   0.        ],\n",
       "       [ 34.21206098,  44.2095286 ,   0.        ],\n",
       "       [ 77.92409145,  68.97235999,   1.        ],\n",
       "       [ 62.27101367,  69.95445795,   1.        ],\n",
       "       [ 80.19018075,  44.82162893,   1.        ],\n",
       "       [ 93.1143888 ,  38.80067034,   0.        ],\n",
       "       [ 61.83020602,  50.25610789,   0.        ],\n",
       "       [ 38.7858038 ,  64.99568096,   0.        ],\n",
       "       [ 61.37928945,  72.80788731,   1.        ],\n",
       "       [ 85.40451939,  57.05198398,   1.        ],\n",
       "       [ 52.10797973,  63.12762377,   0.        ],\n",
       "       [ 52.04540477,  69.43286012,   1.        ],\n",
       "       [ 40.23689374,  71.16774802,   0.        ],\n",
       "       [ 54.63510555,  52.21388588,   0.        ],\n",
       "       [ 33.91550011,  98.86943574,   0.        ],\n",
       "       [ 64.17698887,  80.90806059,   1.        ],\n",
       "       [ 74.78925296,  41.57341523,   0.        ],\n",
       "       [ 34.18364003,  75.23772034,   0.        ],\n",
       "       [ 83.90239366,  56.30804622,   1.        ],\n",
       "       [ 51.54772027,  46.85629026,   0.        ],\n",
       "       [ 94.44336777,  65.56892161,   1.        ],\n",
       "       [ 82.36875376,  40.61825516,   0.        ],\n",
       "       [ 51.04775177,  45.82270146,   0.        ],\n",
       "       [ 62.22267576,  52.06099195,   0.        ],\n",
       "       [ 77.19303493,  70.4582    ,   1.        ],\n",
       "       [ 97.77159928,  86.72782233,   1.        ],\n",
       "       [ 62.0730638 ,  96.76882412,   1.        ],\n",
       "       [ 91.5649745 ,  88.69629255,   1.        ],\n",
       "       [ 79.94481794,  74.16311935,   1.        ],\n",
       "       [ 99.27252693,  60.999031  ,   1.        ],\n",
       "       [ 90.54671411,  43.39060181,   1.        ],\n",
       "       [ 34.52451385,  60.39634246,   0.        ],\n",
       "       [ 50.28649612,  49.80453881,   0.        ],\n",
       "       [ 49.58667722,  59.80895099,   0.        ],\n",
       "       [ 97.64563396,  68.86157272,   1.        ],\n",
       "       [ 32.57720017,  95.59854761,   0.        ],\n",
       "       [ 74.24869137,  69.82457123,   1.        ],\n",
       "       [ 71.79646206,  78.45356225,   1.        ],\n",
       "       [ 75.39561147,  85.75993667,   1.        ],\n",
       "       [ 35.28611282,  47.02051395,   0.        ],\n",
       "       [ 56.2538175 ,  39.26147251,   0.        ],\n",
       "       [ 30.05882245,  49.59297387,   0.        ],\n",
       "       [ 44.66826172,  66.45008615,   0.        ],\n",
       "       [ 66.56089447,  41.09209808,   0.        ],\n",
       "       [ 40.45755098,  97.53518549,   1.        ],\n",
       "       [ 49.07256322,  51.88321182,   0.        ],\n",
       "       [ 80.27957401,  92.11606081,   1.        ],\n",
       "       [ 66.74671857,  60.99139403,   1.        ],\n",
       "       [ 32.72283304,  43.30717306,   0.        ],\n",
       "       [ 64.03932042,  78.03168802,   1.        ],\n",
       "       [ 72.34649423,  96.22759297,   1.        ],\n",
       "       [ 60.45788574,  73.0949981 ,   1.        ],\n",
       "       [ 58.84095622,  75.85844831,   1.        ],\n",
       "       [ 99.8278578 ,  72.36925193,   1.        ],\n",
       "       [ 47.26426911,  88.475865  ,   1.        ],\n",
       "       [ 50.4581598 ,  75.80985953,   1.        ],\n",
       "       [ 60.45555629,  42.50840944,   0.        ],\n",
       "       [ 82.22666158,  42.71987854,   0.        ],\n",
       "       [ 88.91389642,  69.8037889 ,   1.        ],\n",
       "       [ 94.83450672,  45.6943068 ,   1.        ],\n",
       "       [ 67.31925747,  66.58935318,   1.        ],\n",
       "       [ 57.23870632,  59.51428198,   1.        ],\n",
       "       [ 80.366756  ,  90.9601479 ,   1.        ],\n",
       "       [ 68.46852179,  85.5943071 ,   1.        ],\n",
       "       [ 42.07545454,  78.844786  ,   0.        ],\n",
       "       [ 75.47770201,  90.424539  ,   1.        ],\n",
       "       [ 78.63542435,  96.64742717,   1.        ],\n",
       "       [ 52.34800399,  60.76950526,   0.        ],\n",
       "       [ 94.09433113,  77.15910509,   1.        ],\n",
       "       [ 90.44855097,  87.50879176,   1.        ],\n",
       "       [ 55.48216114,  35.57070347,   0.        ],\n",
       "       [ 74.49269242,  84.84513685,   1.        ],\n",
       "       [ 89.84580671,  45.35828361,   1.        ],\n",
       "       [ 83.48916274,  48.3802858 ,   1.        ],\n",
       "       [ 42.26170081,  87.10385094,   1.        ],\n",
       "       [ 99.31500881,  68.77540947,   1.        ],\n",
       "       [ 55.34001756,  64.93193801,   1.        ],\n",
       "       [ 74.775893  ,  89.5298129 ,   1.        ]])"
      ]
     },
     "execution_count": 3,
     "metadata": {},
     "output_type": "execute_result"
    }
   ],
   "source": [
    "data"
   ]
  },
  {
   "cell_type": "code",
   "execution_count": 4,
   "metadata": {
    "collapsed": false
   },
   "outputs": [],
   "source": [
    "X = data[:, [0, 1]]\n",
    "y = data[:, [2]]"
   ]
  },
  {
   "cell_type": "markdown",
   "metadata": {},
   "source": [
    "## 1.2 Data exploration"
   ]
  },
  {
   "cell_type": "code",
   "execution_count": 5,
   "metadata": {
    "collapsed": false
   },
   "outputs": [
    {
     "data": {
      "image/png": "[encoded data removed]",
      "text/plain": [
       "<matplotlib.figure.Figure at 0x118c6e4e0>"
      ]
     },
     "metadata": {},
     "output_type": "display_data"
    }
   ],
   "source": [
    "fig, axes = plt.subplots(figsize=(12, 8))\n",
    "axes = plt.scatter(X[:, 0], X[:, 1])"
   ]
  },
  {
   "cell_type": "code",
   "execution_count": 6,
   "metadata": {
    "collapsed": false
   },
   "outputs": [],
   "source": [
    "## TODO: Add plot with marked class."
   ]
  },
  {
   "cell_type": "markdown",
   "metadata": {},
   "source": [
    "## 1.3 Sigmoid function"
   ]
  },
  {
   "cell_type": "code",
   "execution_count": 7,
   "metadata": {
    "collapsed": true
   },
   "outputs": [],
   "source": [
    "def sigmoid(z):\n",
    "    return 1 / (1 + np.e ** -z)"
   ]
  },
  {
   "cell_type": "code",
   "execution_count": 8,
   "metadata": {
    "collapsed": false
   },
   "outputs": [
    {
     "data": {
      "text/plain": [
       "array([  5.00000000e-01,   7.31058579e-01,   8.80797078e-01,\n",
       "         4.53978687e-05,   3.72007598e-44])"
      ]
     },
     "execution_count": 8,
     "metadata": {},
     "output_type": "execute_result"
    }
   ],
   "source": [
    "sigmoid(np.array([0, 1, 2, -10, -100]))"
   ]
  },
  {
   "cell_type": "code",
   "execution_count": 9,
   "metadata": {
    "collapsed": true
   },
   "outputs": [],
   "source": [
    "assert sigmoid(0) == 0.5, \"Incorrect value.\""
   ]
  },
  {
   "cell_type": "code",
   "execution_count": 10,
   "metadata": {
    "collapsed": false
   },
   "outputs": [],
   "source": [
    "assert(round(sigmoid(10), 4) == 1), \"Incorrect value.\""
   ]
  },
  {
   "cell_type": "code",
   "execution_count": 11,
   "metadata": {
    "collapsed": false
   },
   "outputs": [],
   "source": [
    "assert(round(sigmoid(-10), 4) == 0), \"Incorrect value.\""
   ]
  },
  {
   "cell_type": "markdown",
   "metadata": {},
   "source": [
    "## 1.4 Cost function"
   ]
  },
  {
   "cell_type": "code",
   "execution_count": 12,
   "metadata": {
    "collapsed": true
   },
   "outputs": [],
   "source": [
    "# TODO: Add equations and descriptions here from writeup pdf - in tex."
   ]
  },
  {
   "cell_type": "code",
   "execution_count": 13,
   "metadata": {
    "collapsed": false
   },
   "outputs": [],
   "source": [
    "X = np.array([np.ones(X.shape[0]), X[:, 0], X[:, 1]]).T"
   ]
  },
  {
   "cell_type": "code",
   "execution_count": 14,
   "metadata": {
    "collapsed": false
   },
   "outputs": [],
   "source": [
    "m, n = X.shape"
   ]
  },
  {
   "cell_type": "code",
   "execution_count": 15,
   "metadata": {
    "collapsed": false
   },
   "outputs": [],
   "source": [
    "initial_theta = np.zeros((n, 1))"
   ]
  },
  {
   "cell_type": "code",
   "execution_count": 16,
   "metadata": {
    "collapsed": false
   },
   "outputs": [],
   "source": [
    "def cost_function(theta, X, y):\n",
    "    prediction = sigmoid(np.dot(X, theta))\n",
    "    sum_exp = np.sum(-np.dot(y.T, np.log(prediction)) - np.dot((1 - y).T, np.log(1 - prediction)))\n",
    "    J_theta = 1 / m * sum_exp\n",
    "    return J_theta"
   ]
  },
  {
   "cell_type": "code",
   "execution_count": 17,
   "metadata": {
    "collapsed": false,
    "scrolled": true
   },
   "outputs": [],
   "source": [
    "J_theta = cost_function(initial_theta, X, y)"
   ]
  },
  {
   "cell_type": "code",
   "execution_count": 18,
   "metadata": {
    "collapsed": false
   },
   "outputs": [],
   "source": [
    "assert round(J_theta, 3) == 0.693, \"Incorrect value.\""
   ]
  },
  {
   "cell_type": "code",
   "execution_count": 19,
   "metadata": {
    "collapsed": false
   },
   "outputs": [
    {
     "data": {
      "text/plain": [
       "array([[-24. ],\n",
       "       [  0.2],\n",
       "       [  0.2]])"
      ]
     },
     "execution_count": 19,
     "metadata": {},
     "output_type": "execute_result"
    }
   ],
   "source": [
    "test_theta = np.array([-24, 0.2, 0.2]).reshape(3, 1)\n",
    "test_theta"
   ]
  },
  {
   "cell_type": "code",
   "execution_count": 20,
   "metadata": {
    "collapsed": false
   },
   "outputs": [
    {
     "data": {
      "text/plain": [
       "0.21833019382659785"
      ]
     },
     "execution_count": 20,
     "metadata": {},
     "output_type": "execute_result"
    }
   ],
   "source": [
    "J_theta = cost_function(test_theta, X, y)\n",
    "J_theta"
   ]
  },
  {
   "cell_type": "code",
   "execution_count": 21,
   "metadata": {
    "collapsed": false
   },
   "outputs": [],
   "source": [
    "assert round(J_theta, 3) == 0.218, \"Incorrect value.\""
   ]
  },
  {
   "cell_type": "markdown",
   "metadata": {},
   "source": [
    "## 1.5 Gradient descent"
   ]
  },
  {
   "cell_type": "code",
   "execution_count": 22,
   "metadata": {
    "collapsed": true
   },
   "outputs": [],
   "source": [
    "iters = 1500000\n",
    "alpha = 0.0034\n",
    "initial_theta = np.zeros((n, 1))"
   ]
  },
  {
   "cell_type": "code",
   "execution_count": null,
   "metadata": {
    "collapsed": false
   },
   "outputs": [],
   "source": [
    "def gradient_descent(X, y, theta, alpha, iters):\n",
    "    m = len(y)\n",
    "    theta_res = theta.copy()\n",
    "    for _ in range(iters):\n",
    "        prediction = sigmoid(np.dot(X, theta_res))\n",
    "        diff = prediction - y.reshape(m, 1)\n",
    "        J_exp = (1 / m) * np.dot(X.T, diff)\n",
    "        theta_res = theta_res - alpha * J_exp\n",
    "    return theta_res"
   ]
  },
  {
   "cell_type": "code",
   "execution_count": null,
   "metadata": {
    "collapsed": false
   },
   "outputs": [],
   "source": [
    "theta_res = gradient_descent(X, y, initial_theta, alpha, iters)\n",
    "theta_res"
   ]
  },
  {
   "cell_type": "code",
   "execution_count": null,
   "metadata": {
    "collapsed": false
   },
   "outputs": [],
   "source": [
    "J_theta = cost_function(theta_res, X, y)\n",
    "J_theta"
   ]
  },
  {
   "cell_type": "code",
   "execution_count": null,
   "metadata": {
    "collapsed": true
   },
   "outputs": [],
   "source": [
    "# TODO: Visualize the boundary"
   ]
  },
  {
   "cell_type": "markdown",
   "metadata": {},
   "source": [
    "## 1.6 Evaluating logistic regression"
   ]
  },
  {
   "cell_type": "code",
   "execution_count": null,
   "metadata": {
    "collapsed": true
   },
   "outputs": [],
   "source": [
    "# TODO: Predict"
   ]
  },
  {
   "cell_type": "code",
   "execution_count": null,
   "metadata": {
    "collapsed": true
   },
   "outputs": [],
   "source": [
    "def predict_proba(theta, X):\n",
    "    return sigmoid(np.dot(X, theta))"
   ]
  },
  {
   "cell_type": "code",
   "execution_count": null,
   "metadata": {
    "collapsed": false
   },
   "outputs": [],
   "source": [
    "prob = predict_proba(theta_res, np.array([1, 45, 85]))\n",
    "prob"
   ]
  },
  {
   "cell_type": "code",
   "execution_count": null,
   "metadata": {
    "collapsed": true
   },
   "outputs": [],
   "source": [
    "# TODO: Compute accuracy on our training set"
   ]
  },
  {
   "cell_type": "code",
   "execution_count": null,
   "metadata": {
    "collapsed": false
   },
   "outputs": [],
   "source": [
    "def predict(theta, X):\n",
    "    proba = predict_proba(theta, X)\n",
    "    return (proba >= 0.5).astype(int) "
   ]
  },
  {
   "cell_type": "code",
   "execution_count": null,
   "metadata": {
    "collapsed": false
   },
   "outputs": [],
   "source": [
    "prediction = predict(theta_res, X)"
   ]
  },
  {
   "cell_type": "code",
   "execution_count": null,
   "metadata": {
    "collapsed": false
   },
   "outputs": [],
   "source": [
    "(prediction == y).astype(int).mean() # accuracy score"
   ]
  },
  {
   "cell_type": "markdown",
   "metadata": {},
   "source": [
    "## 1.7 Advanced optimization"
   ]
  },
  {
   "cell_type": "code",
   "execution_count": null,
   "metadata": {
    "collapsed": true
   },
   "outputs": [],
   "source": [
    "# TODO: Implement this using optimizers like here:\n",
    "# https://stackoverflow.com/questions/18801002/fminunc-alternate-in-numpy\n",
    "\n",
    "# Add grad and cost functions. "
   ]
  },
  {
   "cell_type": "code",
   "execution_count": null,
   "metadata": {
    "collapsed": true
   },
   "outputs": [],
   "source": [
    "# TODO: Visualize the boundary"
   ]
  },
  {
   "cell_type": "code",
   "execution_count": null,
   "metadata": {
    "collapsed": true
   },
   "outputs": [],
   "source": [
    "# TODO: Predict"
   ]
  },
  {
   "cell_type": "markdown",
   "metadata": {},
   "source": [
    "## 2. Regularized logistic regression"
   ]
  },
  {
   "cell_type": "markdown",
   "metadata": {},
   "source": [
    "## 2.1 Data wrangling"
   ]
  },
  {
   "cell_type": "code",
   "execution_count": 63,
   "metadata": {
    "collapsed": true
   },
   "outputs": [],
   "source": [
    "data = np.loadtxt(\"datasets/ex2data2.txt\", delimiter=\",\")"
   ]
  },
  {
   "cell_type": "code",
   "execution_count": 64,
   "metadata": {
    "collapsed": false
   },
   "outputs": [
    {
     "data": {
      "text/plain": [
       "array([[ 0.051267 ,  0.69956  ,  1.       ],\n",
       "       [-0.092742 ,  0.68494  ,  1.       ],\n",
       "       [-0.21371  ,  0.69225  ,  1.       ],\n",
       "       [-0.375    ,  0.50219  ,  1.       ],\n",
       "       [-0.51325  ,  0.46564  ,  1.       ],\n",
       "       [-0.52477  ,  0.2098   ,  1.       ],\n",
       "       [-0.39804  ,  0.034357 ,  1.       ],\n",
       "       [-0.30588  , -0.19225  ,  1.       ],\n",
       "       [ 0.016705 , -0.40424  ,  1.       ],\n",
       "       [ 0.13191  , -0.51389  ,  1.       ],\n",
       "       [ 0.38537  , -0.56506  ,  1.       ],\n",
       "       [ 0.52938  , -0.5212   ,  1.       ],\n",
       "       [ 0.63882  , -0.24342  ,  1.       ],\n",
       "       [ 0.73675  , -0.18494  ,  1.       ],\n",
       "       [ 0.54666  ,  0.48757  ,  1.       ],\n",
       "       [ 0.322    ,  0.5826   ,  1.       ],\n",
       "       [ 0.16647  ,  0.53874  ,  1.       ],\n",
       "       [-0.046659 ,  0.81652  ,  1.       ],\n",
       "       [-0.17339  ,  0.69956  ,  1.       ],\n",
       "       [-0.47869  ,  0.63377  ,  1.       ],\n",
       "       [-0.60541  ,  0.59722  ,  1.       ],\n",
       "       [-0.62846  ,  0.33406  ,  1.       ],\n",
       "       [-0.59389  ,  0.005117 ,  1.       ],\n",
       "       [-0.42108  , -0.27266  ,  1.       ],\n",
       "       [-0.11578  , -0.39693  ,  1.       ],\n",
       "       [ 0.20104  , -0.60161  ,  1.       ],\n",
       "       [ 0.46601  , -0.53582  ,  1.       ],\n",
       "       [ 0.67339  , -0.53582  ,  1.       ],\n",
       "       [-0.13882  ,  0.54605  ,  1.       ],\n",
       "       [-0.29435  ,  0.77997  ,  1.       ],\n",
       "       [-0.26555  ,  0.96272  ,  1.       ],\n",
       "       [-0.16187  ,  0.8019   ,  1.       ],\n",
       "       [-0.17339  ,  0.64839  ,  1.       ],\n",
       "       [-0.28283  ,  0.47295  ,  1.       ],\n",
       "       [-0.36348  ,  0.31213  ,  1.       ],\n",
       "       [-0.30012  ,  0.027047 ,  1.       ],\n",
       "       [-0.23675  , -0.21418  ,  1.       ],\n",
       "       [-0.06394  , -0.18494  ,  1.       ],\n",
       "       [ 0.062788 , -0.16301  ,  1.       ],\n",
       "       [ 0.22984  , -0.41155  ,  1.       ],\n",
       "       [ 0.2932   , -0.2288   ,  1.       ],\n",
       "       [ 0.48329  , -0.18494  ,  1.       ],\n",
       "       [ 0.64459  , -0.14108  ,  1.       ],\n",
       "       [ 0.46025  ,  0.012427 ,  1.       ],\n",
       "       [ 0.6273   ,  0.15863  ,  1.       ],\n",
       "       [ 0.57546  ,  0.26827  ,  1.       ],\n",
       "       [ 0.72523  ,  0.44371  ,  1.       ],\n",
       "       [ 0.22408  ,  0.52412  ,  1.       ],\n",
       "       [ 0.44297  ,  0.67032  ,  1.       ],\n",
       "       [ 0.322    ,  0.69225  ,  1.       ],\n",
       "       [ 0.13767  ,  0.57529  ,  1.       ],\n",
       "       [-0.0063364,  0.39985  ,  1.       ],\n",
       "       [-0.092742 ,  0.55336  ,  1.       ],\n",
       "       [-0.20795  ,  0.35599  ,  1.       ],\n",
       "       [-0.20795  ,  0.17325  ,  1.       ],\n",
       "       [-0.43836  ,  0.21711  ,  1.       ],\n",
       "       [-0.21947  , -0.016813 ,  1.       ],\n",
       "       [-0.13882  , -0.27266  ,  1.       ],\n",
       "       [ 0.18376  ,  0.93348  ,  0.       ],\n",
       "       [ 0.22408  ,  0.77997  ,  0.       ],\n",
       "       [ 0.29896  ,  0.61915  ,  0.       ],\n",
       "       [ 0.50634  ,  0.75804  ,  0.       ],\n",
       "       [ 0.61578  ,  0.7288   ,  0.       ],\n",
       "       [ 0.60426  ,  0.59722  ,  0.       ],\n",
       "       [ 0.76555  ,  0.50219  ,  0.       ],\n",
       "       [ 0.92684  ,  0.3633   ,  0.       ],\n",
       "       [ 0.82316  ,  0.27558  ,  0.       ],\n",
       "       [ 0.96141  ,  0.085526 ,  0.       ],\n",
       "       [ 0.93836  ,  0.012427 ,  0.       ],\n",
       "       [ 0.86348  , -0.082602 ,  0.       ],\n",
       "       [ 0.89804  , -0.20687  ,  0.       ],\n",
       "       [ 0.85196  , -0.36769  ,  0.       ],\n",
       "       [ 0.82892  , -0.5212   ,  0.       ],\n",
       "       [ 0.79435  , -0.55775  ,  0.       ],\n",
       "       [ 0.59274  , -0.7405   ,  0.       ],\n",
       "       [ 0.51786  , -0.5943   ,  0.       ],\n",
       "       [ 0.46601  , -0.41886  ,  0.       ],\n",
       "       [ 0.35081  , -0.57968  ,  0.       ],\n",
       "       [ 0.28744  , -0.76974  ,  0.       ],\n",
       "       [ 0.085829 , -0.75512  ,  0.       ],\n",
       "       [ 0.14919  , -0.57968  ,  0.       ],\n",
       "       [-0.13306  , -0.4481   ,  0.       ],\n",
       "       [-0.40956  , -0.41155  ,  0.       ],\n",
       "       [-0.39228  , -0.25804  ,  0.       ],\n",
       "       [-0.74366  , -0.25804  ,  0.       ],\n",
       "       [-0.69758  ,  0.041667 ,  0.       ],\n",
       "       [-0.75518  ,  0.2902   ,  0.       ],\n",
       "       [-0.69758  ,  0.68494  ,  0.       ],\n",
       "       [-0.4038   ,  0.70687  ,  0.       ],\n",
       "       [-0.38076  ,  0.91886  ,  0.       ],\n",
       "       [-0.50749  ,  0.90424  ,  0.       ],\n",
       "       [-0.54781  ,  0.70687  ,  0.       ],\n",
       "       [ 0.10311  ,  0.77997  ,  0.       ],\n",
       "       [ 0.057028 ,  0.91886  ,  0.       ],\n",
       "       [-0.10426  ,  0.99196  ,  0.       ],\n",
       "       [-0.081221 ,  1.1089   ,  0.       ],\n",
       "       [ 0.28744  ,  1.087    ,  0.       ],\n",
       "       [ 0.39689  ,  0.82383  ,  0.       ],\n",
       "       [ 0.63882  ,  0.88962  ,  0.       ],\n",
       "       [ 0.82316  ,  0.66301  ,  0.       ],\n",
       "       [ 0.67339  ,  0.64108  ,  0.       ],\n",
       "       [ 1.0709   ,  0.10015  ,  0.       ],\n",
       "       [-0.046659 , -0.57968  ,  0.       ],\n",
       "       [-0.23675  , -0.63816  ,  0.       ],\n",
       "       [-0.15035  , -0.36769  ,  0.       ],\n",
       "       [-0.49021  , -0.3019   ,  0.       ],\n",
       "       [-0.46717  , -0.13377  ,  0.       ],\n",
       "       [-0.28859  , -0.060673 ,  0.       ],\n",
       "       [-0.61118  , -0.067982 ,  0.       ],\n",
       "       [-0.66302  , -0.21418  ,  0.       ],\n",
       "       [-0.59965  , -0.41886  ,  0.       ],\n",
       "       [-0.72638  , -0.082602 ,  0.       ],\n",
       "       [-0.83007  ,  0.31213  ,  0.       ],\n",
       "       [-0.72062  ,  0.53874  ,  0.       ],\n",
       "       [-0.59389  ,  0.49488  ,  0.       ],\n",
       "       [-0.48445  ,  0.99927  ,  0.       ],\n",
       "       [-0.0063364,  0.99927  ,  0.       ],\n",
       "       [ 0.63265  , -0.030612 ,  0.       ]])"
      ]
     },
     "execution_count": 64,
     "metadata": {},
     "output_type": "execute_result"
    }
   ],
   "source": [
    "data"
   ]
  },
  {
   "cell_type": "code",
   "execution_count": 65,
   "metadata": {
    "collapsed": true
   },
   "outputs": [],
   "source": [
    "X = data[:, [0, 1]]\n",
    "y = data[:, [2]]"
   ]
  },
  {
   "cell_type": "markdown",
   "metadata": {},
   "source": [
    "## 2.2 Data exploration"
   ]
  },
  {
   "cell_type": "code",
   "execution_count": 66,
   "metadata": {
    "collapsed": false
   },
   "outputs": [
    {
     "data": {
      "image/png": "[encoded data removed]",
      "text/plain": [
       "<matplotlib.figure.Figure at 0x11c626cc0>"
      ]
     },
     "metadata": {},
     "output_type": "display_data"
    }
   ],
   "source": [
    "fig, axes = plt.subplots(figsize=(12, 8))\n",
    "axes = plt.scatter(X[:, 0], X[:, 1])"
   ]
  },
  {
   "cell_type": "code",
   "execution_count": 67,
   "metadata": {
    "collapsed": true
   },
   "outputs": [],
   "source": [
    "## TODO: Add plot with marked class."
   ]
  },
  {
   "cell_type": "markdown",
   "metadata": {},
   "source": [
    "## 2.3 Feature mapping"
   ]
  },
  {
   "cell_type": "code",
   "execution_count": 68,
   "metadata": {
    "collapsed": true
   },
   "outputs": [],
   "source": [
    "# TODO: Implement this in Python.\n",
    "from sklearn.preprocessing import PolynomialFeatures\n",
    "\n",
    "def map_features(X):\n",
    "    poly_features = PolynomialFeatures(degree=6, include_bias=True)\n",
    "    X_poly = poly_features.fit_transform(X)\n",
    "    return X_poly"
   ]
  },
  {
   "cell_type": "code",
   "execution_count": 69,
   "metadata": {
    "collapsed": false
   },
   "outputs": [],
   "source": [
    "X = map_features(X)"
   ]
  },
  {
   "cell_type": "code",
   "execution_count": 70,
   "metadata": {
    "collapsed": false
   },
   "outputs": [
    {
     "data": {
      "text/plain": [
       "(118, 28)"
      ]
     },
     "execution_count": 70,
     "metadata": {},
     "output_type": "execute_result"
    }
   ],
   "source": [
    "X.shape"
   ]
  },
  {
   "cell_type": "code",
   "execution_count": 71,
   "metadata": {
    "collapsed": false
   },
   "outputs": [
    {
     "data": {
      "text/plain": [
       "array([[  1.00000000e+00,   5.12670000e-02,   6.99560000e-01, ...,\n",
       "          6.29470940e-04,   8.58939846e-03,   1.17205992e-01],\n",
       "       [  1.00000000e+00,  -9.27420000e-02,   6.84940000e-01, ...,\n",
       "          1.89305413e-03,  -1.39810280e-02,   1.03255971e-01],\n",
       "       [  1.00000000e+00,  -2.13710000e-01,   6.92250000e-01, ...,\n",
       "          1.04882142e-02,  -3.39734512e-02,   1.10046893e-01],\n",
       "       ..., \n",
       "       [  1.00000000e+00,  -4.84450000e-01,   9.99270000e-01, ...,\n",
       "          2.34007252e-01,  -4.82684337e-01,   9.95627986e-01],\n",
       "       [  1.00000000e+00,  -6.33640000e-03,   9.99270000e-01, ...,\n",
       "          4.00328554e-05,  -6.31330588e-03,   9.95627986e-01],\n",
       "       [  1.00000000e+00,   6.32650000e-01,  -3.06120000e-02, ...,\n",
       "          3.51474517e-07,  -1.70067777e-08,   8.22905998e-10]])"
      ]
     },
     "execution_count": 71,
     "metadata": {},
     "output_type": "execute_result"
    }
   ],
   "source": [
    "X"
   ]
  },
  {
   "cell_type": "markdown",
   "metadata": {},
   "source": [
    "## 2.4 Cost function"
   ]
  },
  {
   "cell_type": "code",
   "execution_count": 72,
   "metadata": {
    "collapsed": false
   },
   "outputs": [],
   "source": [
    "m, n = X.shape\n",
    "initial_theta = np.zeros((n, 1))\n",
    "lambda_param = 1"
   ]
  },
  {
   "cell_type": "code",
   "execution_count": 73,
   "metadata": {
    "collapsed": false
   },
   "outputs": [
    {
     "data": {
      "text/plain": [
       "(118, 1)"
      ]
     },
     "execution_count": 73,
     "metadata": {},
     "output_type": "execute_result"
    }
   ],
   "source": [
    "y.shape"
   ]
  },
  {
   "cell_type": "code",
   "execution_count": 74,
   "metadata": {
    "collapsed": false
   },
   "outputs": [],
   "source": [
    "def cost_function_regular(theta, X, y, lambda_param):\n",
    "    m = len(y)\n",
    "    prediction = sigmoid(np.dot(X, theta))\n",
    "    cost_expr = (1 / m) * np.sum(-np.dot(y.T, np.log(prediction)) - np.dot((1 - y).T, np.log(1 - prediction)))\n",
    "    lambda_expr = (lambda_param / (2 * m)) * np.sum(theta[1:]**2)\n",
    "    J_theta = cost_expr + lambda_expr\n",
    "    return J_theta"
   ]
  },
  {
   "cell_type": "code",
   "execution_count": 75,
   "metadata": {
    "collapsed": false
   },
   "outputs": [
    {
     "data": {
      "text/plain": [
       "0.69314718055994529"
      ]
     },
     "execution_count": 75,
     "metadata": {},
     "output_type": "execute_result"
    }
   ],
   "source": [
    "J_theta = cost_function_regular(initial_theta, X, y, lambda_param)\n",
    "J_theta"
   ]
  },
  {
   "cell_type": "code",
   "execution_count": 76,
   "metadata": {
    "collapsed": false
   },
   "outputs": [],
   "source": [
    "assert round(J_theta, 3) == 0.693, \"Incorrect value.\""
   ]
  },
  {
   "cell_type": "code",
   "execution_count": 77,
   "metadata": {
    "collapsed": true
   },
   "outputs": [],
   "source": [
    "initial_theta = np.ones((n, 1))\n",
    "lambda_param = 10"
   ]
  },
  {
   "cell_type": "code",
   "execution_count": 78,
   "metadata": {
    "collapsed": false
   },
   "outputs": [
    {
     "data": {
      "text/plain": [
       "3.1645093316150099"
      ]
     },
     "execution_count": 78,
     "metadata": {},
     "output_type": "execute_result"
    }
   ],
   "source": [
    "J_theta = cost_function_regular(initial_theta, X, y, lambda_param)\n",
    "J_theta"
   ]
  },
  {
   "cell_type": "code",
   "execution_count": 79,
   "metadata": {
    "collapsed": false
   },
   "outputs": [],
   "source": [
    "assert round(J_theta, 2) == 3.16, \"Incorrect value.\""
   ]
  },
  {
   "cell_type": "markdown",
   "metadata": {},
   "source": [
    "## 2.5 Gradient descent"
   ]
  },
  {
   "cell_type": "code",
   "execution_count": 80,
   "metadata": {
    "collapsed": true
   },
   "outputs": [],
   "source": [
    "iters = 1500000\n",
    "alpha = 0.0034\n",
    "initial_theta = np.zeros((n, 1))\n",
    "lambda_param = 1"
   ]
  },
  {
   "cell_type": "code",
   "execution_count": 101,
   "metadata": {
    "collapsed": false
   },
   "outputs": [
    {
     "data": {
      "text/plain": [
       "(28, 1)"
      ]
     },
     "execution_count": 101,
     "metadata": {},
     "output_type": "execute_result"
    }
   ],
   "source": [
    "initial_theta.shape"
   ]
  },
  {
   "cell_type": "code",
   "execution_count": 104,
   "metadata": {
    "collapsed": false
   },
   "outputs": [],
   "source": [
    "def gradient_descent(X, y, theta, alpha, iters, lambda_param):\n",
    "    m, n = X.shape\n",
    "    print(m)\n",
    "    theta_res = theta.copy()\n",
    "    for _ in range(1):\n",
    "        prediction = sigmoid(np.dot(X, theta_res))\n",
    "        print(prediction.shape)\n",
    "        cost_expr = (1 / m) * np.dot(X.T, prediction - y)\n",
    "        print(cost_expr.shape)\n",
    "        theta_regular = np.insert(theta_res[1:], 0, 0).reshape((n, 1))\n",
    "        print(theta_regular.shape)\n",
    "        lambda_expr = (lambda_param / m) * theta_regular\n",
    "        print(lambda_expr.shape)\n",
    "        theta_res = theta_res - alpha * (cost_expr + lambda_expr)\n",
    "        print(theta_res.shape)\n",
    "    return theta_res"
   ]
  },
  {
   "cell_type": "code",
   "execution_count": 105,
   "metadata": {
    "collapsed": false
   },
   "outputs": [
    {
     "name": "stdout",
     "output_type": "stream",
     "text": [
      "118\n",
      "(118, 1)\n",
      "(28, 1)\n",
      "(28, 1)\n",
      "(28, 1)\n",
      "(28, 1)\n"
     ]
    }
   ],
   "source": [
    "theta_res = gradient_descent(X, y, initial_theta, alpha, iters, lambda_param)"
   ]
  },
  {
   "cell_type": "code",
   "execution_count": 88,
   "metadata": {
    "collapsed": false
   },
   "outputs": [
    {
     "data": {
      "text/plain": [
       "(28, 1)"
      ]
     },
     "execution_count": 88,
     "metadata": {},
     "output_type": "execute_result"
    }
   ],
   "source": [
    "theta_res.shape"
   ]
  },
  {
   "cell_type": "code",
   "execution_count": 89,
   "metadata": {
    "collapsed": false
   },
   "outputs": [
    {
     "data": {
      "text/plain": [
       "array([[ 1.27273951],\n",
       "       [ 0.6252718 ],\n",
       "       [ 1.18108869],\n",
       "       [-2.01996086],\n",
       "       [-0.91742375],\n",
       "       [-1.43166444],\n",
       "       [ 0.12400635],\n",
       "       [-0.36553437],\n",
       "       [-0.35723962],\n",
       "       [-0.17513048],\n",
       "       [-1.45815646],\n",
       "       [-0.05098906],\n",
       "       [-0.61555504],\n",
       "       [-0.27470631],\n",
       "       [-1.19281652],\n",
       "       [-0.24218823],\n",
       "       [-0.20600609],\n",
       "       [-0.04473075],\n",
       "       [-0.2777845 ],\n",
       "       [-0.2953781 ],\n",
       "       [-0.45635749],\n",
       "       [-1.04320249],\n",
       "       [ 0.02777171],\n",
       "       [-0.29243131],\n",
       "       [ 0.01556681],\n",
       "       [-0.32737959],\n",
       "       [-0.14388693],\n",
       "       [-0.92465257]])"
      ]
     },
     "execution_count": 89,
     "metadata": {},
     "output_type": "execute_result"
    }
   ],
   "source": [
    "theta_res"
   ]
  },
  {
   "cell_type": "code",
   "execution_count": 86,
   "metadata": {
    "collapsed": false
   },
   "outputs": [
    {
     "data": {
      "text/plain": [
       "0.4624593959217056"
      ]
     },
     "execution_count": 86,
     "metadata": {},
     "output_type": "execute_result"
    }
   ],
   "source": [
    "# We are using unregularized cost to get the \n",
    "J_theta = cost_function(theta_res, X, y)\n",
    "J_theta"
   ]
  },
  {
   "cell_type": "code",
   "execution_count": null,
   "metadata": {
    "collapsed": true
   },
   "outputs": [],
   "source": [
    "# TODO: Visualize the boundary"
   ]
  },
  {
   "cell_type": "code",
   "execution_count": null,
   "metadata": {
    "collapsed": true
   },
   "outputs": [],
   "source": [
    "prediction = predict(theta_res, X)"
   ]
  },
  {
   "cell_type": "code",
   "execution_count": null,
   "metadata": {
    "collapsed": false
   },
   "outputs": [],
   "source": [
    "(prediction == y).astype(int).mean() # accuracy score"
   ]
  },
  {
   "cell_type": "code",
   "execution_count": null,
   "metadata": {
    "collapsed": true
   },
   "outputs": [],
   "source": [
    "# TODO: Try the following values of lambda (0, 1, 10, 100).\n",
    "# How does the decision boundary change when you vary lambda? How does the training set accuracy vary?"
   ]
  },
  {
   "cell_type": "code",
   "execution_count": null,
   "metadata": {
    "collapsed": true
   },
   "outputs": [],
   "source": [
    "# TODO: Implement this using optimizers like here:\n",
    "# https://stackoverflow.com/questions/18801002/fminunc-alternate-in-numpy\n",
    "\n",
    "# Add grad and cost functions. "
   ]
  },
  {
   "cell_type": "code",
   "execution_count": null,
   "metadata": {
    "collapsed": true
   },
   "outputs": [],
   "source": []
  }
 ],
 "metadata": {
  "kernelspec": {
   "display_name": "Python 3",
   "language": "python",
   "name": "python3"
  },
  "language_info": {
   "codemirror_mode": {
    "name": "ipython",
    "version": 3
   },
   "file_extension": ".py",
   "mimetype": "text/x-python",
   "name": "python",
   "nbconvert_exporter": "python",
   "pygments_lexer": "ipython3",
   "version": "3.6.3"
  }
 },
 "nbformat": 4,
 "nbformat_minor": 2
}
