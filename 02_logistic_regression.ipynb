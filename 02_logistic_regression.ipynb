{
 "cells": [
  {
   "cell_type": "markdown",
   "metadata": {},
   "source": [
    "# Logistic regression"
   ]
  },
  {
   "cell_type": "code",
   "execution_count": 367,
   "metadata": {
    "collapsed": true
   },
   "outputs": [],
   "source": [
    "import numpy as np\n",
    "\n",
    "import matplotlib.pyplot as plt\n",
    "%matplotlib inline"
   ]
  },
  {
   "cell_type": "markdown",
   "metadata": {},
   "source": [
    "## 1. Data wrangling"
   ]
  },
  {
   "cell_type": "code",
   "execution_count": 368,
   "metadata": {
    "collapsed": true
   },
   "outputs": [],
   "source": [
    "data = np.loadtxt(\"datasets/ex2data1.txt\", delimiter=\",\")"
   ]
  },
  {
   "cell_type": "code",
   "execution_count": 369,
   "metadata": {
    "collapsed": false
   },
   "outputs": [
    {
     "data": {
      "text/plain": [
       "array([[ 34.62365962,  78.02469282,   0.        ],\n",
       "       [ 30.28671077,  43.89499752,   0.        ],\n",
       "       [ 35.84740877,  72.90219803,   0.        ],\n",
       "       [ 60.18259939,  86.3085521 ,   1.        ],\n",
       "       [ 79.03273605,  75.34437644,   1.        ],\n",
       "       [ 45.08327748,  56.31637178,   0.        ],\n",
       "       [ 61.10666454,  96.51142588,   1.        ],\n",
       "       [ 75.02474557,  46.55401354,   1.        ],\n",
       "       [ 76.0987867 ,  87.42056972,   1.        ],\n",
       "       [ 84.43281996,  43.53339331,   1.        ],\n",
       "       [ 95.86155507,  38.22527806,   0.        ],\n",
       "       [ 75.01365839,  30.60326323,   0.        ],\n",
       "       [ 82.30705337,  76.4819633 ,   1.        ],\n",
       "       [ 69.36458876,  97.71869196,   1.        ],\n",
       "       [ 39.53833914,  76.03681085,   0.        ],\n",
       "       [ 53.97105215,  89.20735014,   1.        ],\n",
       "       [ 69.07014406,  52.74046973,   1.        ],\n",
       "       [ 67.94685548,  46.67857411,   0.        ],\n",
       "       [ 70.66150955,  92.92713789,   1.        ],\n",
       "       [ 76.97878373,  47.57596365,   1.        ],\n",
       "       [ 67.37202755,  42.83843832,   0.        ],\n",
       "       [ 89.67677575,  65.79936593,   1.        ],\n",
       "       [ 50.53478829,  48.85581153,   0.        ],\n",
       "       [ 34.21206098,  44.2095286 ,   0.        ],\n",
       "       [ 77.92409145,  68.97235999,   1.        ],\n",
       "       [ 62.27101367,  69.95445795,   1.        ],\n",
       "       [ 80.19018075,  44.82162893,   1.        ],\n",
       "       [ 93.1143888 ,  38.80067034,   0.        ],\n",
       "       [ 61.83020602,  50.25610789,   0.        ],\n",
       "       [ 38.7858038 ,  64.99568096,   0.        ],\n",
       "       [ 61.37928945,  72.80788731,   1.        ],\n",
       "       [ 85.40451939,  57.05198398,   1.        ],\n",
       "       [ 52.10797973,  63.12762377,   0.        ],\n",
       "       [ 52.04540477,  69.43286012,   1.        ],\n",
       "       [ 40.23689374,  71.16774802,   0.        ],\n",
       "       [ 54.63510555,  52.21388588,   0.        ],\n",
       "       [ 33.91550011,  98.86943574,   0.        ],\n",
       "       [ 64.17698887,  80.90806059,   1.        ],\n",
       "       [ 74.78925296,  41.57341523,   0.        ],\n",
       "       [ 34.18364003,  75.23772034,   0.        ],\n",
       "       [ 83.90239366,  56.30804622,   1.        ],\n",
       "       [ 51.54772027,  46.85629026,   0.        ],\n",
       "       [ 94.44336777,  65.56892161,   1.        ],\n",
       "       [ 82.36875376,  40.61825516,   0.        ],\n",
       "       [ 51.04775177,  45.82270146,   0.        ],\n",
       "       [ 62.22267576,  52.06099195,   0.        ],\n",
       "       [ 77.19303493,  70.4582    ,   1.        ],\n",
       "       [ 97.77159928,  86.72782233,   1.        ],\n",
       "       [ 62.0730638 ,  96.76882412,   1.        ],\n",
       "       [ 91.5649745 ,  88.69629255,   1.        ],\n",
       "       [ 79.94481794,  74.16311935,   1.        ],\n",
       "       [ 99.27252693,  60.999031  ,   1.        ],\n",
       "       [ 90.54671411,  43.39060181,   1.        ],\n",
       "       [ 34.52451385,  60.39634246,   0.        ],\n",
       "       [ 50.28649612,  49.80453881,   0.        ],\n",
       "       [ 49.58667722,  59.80895099,   0.        ],\n",
       "       [ 97.64563396,  68.86157272,   1.        ],\n",
       "       [ 32.57720017,  95.59854761,   0.        ],\n",
       "       [ 74.24869137,  69.82457123,   1.        ],\n",
       "       [ 71.79646206,  78.45356225,   1.        ],\n",
       "       [ 75.39561147,  85.75993667,   1.        ],\n",
       "       [ 35.28611282,  47.02051395,   0.        ],\n",
       "       [ 56.2538175 ,  39.26147251,   0.        ],\n",
       "       [ 30.05882245,  49.59297387,   0.        ],\n",
       "       [ 44.66826172,  66.45008615,   0.        ],\n",
       "       [ 66.56089447,  41.09209808,   0.        ],\n",
       "       [ 40.45755098,  97.53518549,   1.        ],\n",
       "       [ 49.07256322,  51.88321182,   0.        ],\n",
       "       [ 80.27957401,  92.11606081,   1.        ],\n",
       "       [ 66.74671857,  60.99139403,   1.        ],\n",
       "       [ 32.72283304,  43.30717306,   0.        ],\n",
       "       [ 64.03932042,  78.03168802,   1.        ],\n",
       "       [ 72.34649423,  96.22759297,   1.        ],\n",
       "       [ 60.45788574,  73.0949981 ,   1.        ],\n",
       "       [ 58.84095622,  75.85844831,   1.        ],\n",
       "       [ 99.8278578 ,  72.36925193,   1.        ],\n",
       "       [ 47.26426911,  88.475865  ,   1.        ],\n",
       "       [ 50.4581598 ,  75.80985953,   1.        ],\n",
       "       [ 60.45555629,  42.50840944,   0.        ],\n",
       "       [ 82.22666158,  42.71987854,   0.        ],\n",
       "       [ 88.91389642,  69.8037889 ,   1.        ],\n",
       "       [ 94.83450672,  45.6943068 ,   1.        ],\n",
       "       [ 67.31925747,  66.58935318,   1.        ],\n",
       "       [ 57.23870632,  59.51428198,   1.        ],\n",
       "       [ 80.366756  ,  90.9601479 ,   1.        ],\n",
       "       [ 68.46852179,  85.5943071 ,   1.        ],\n",
       "       [ 42.07545454,  78.844786  ,   0.        ],\n",
       "       [ 75.47770201,  90.424539  ,   1.        ],\n",
       "       [ 78.63542435,  96.64742717,   1.        ],\n",
       "       [ 52.34800399,  60.76950526,   0.        ],\n",
       "       [ 94.09433113,  77.15910509,   1.        ],\n",
       "       [ 90.44855097,  87.50879176,   1.        ],\n",
       "       [ 55.48216114,  35.57070347,   0.        ],\n",
       "       [ 74.49269242,  84.84513685,   1.        ],\n",
       "       [ 89.84580671,  45.35828361,   1.        ],\n",
       "       [ 83.48916274,  48.3802858 ,   1.        ],\n",
       "       [ 42.26170081,  87.10385094,   1.        ],\n",
       "       [ 99.31500881,  68.77540947,   1.        ],\n",
       "       [ 55.34001756,  64.93193801,   1.        ],\n",
       "       [ 74.775893  ,  89.5298129 ,   1.        ]])"
      ]
     },
     "execution_count": 369,
     "metadata": {},
     "output_type": "execute_result"
    }
   ],
   "source": [
    "data"
   ]
  },
  {
   "cell_type": "code",
   "execution_count": 370,
   "metadata": {
    "collapsed": false
   },
   "outputs": [],
   "source": [
    "X = data[:, [0, 1]]\n",
    "y = data[:, [2]]"
   ]
  },
  {
   "cell_type": "markdown",
   "metadata": {},
   "source": [
    "## 2. Data exploration"
   ]
  },
  {
   "cell_type": "code",
   "execution_count": 371,
   "metadata": {
    "collapsed": false
   },
   "outputs": [
    {
     "data": {
      "image/png": "[encoded data removed]",
      "text/plain": [
       "<matplotlib.figure.Figure at 0x11abbb2e8>"
      ]
     },
     "metadata": {},
     "output_type": "display_data"
    }
   ],
   "source": [
    "fig, axes = plt.subplots(figsize=(12, 8))\n",
    "axes = plt.scatter(X[:, 0], X[:, 1])"
   ]
  },
  {
   "cell_type": "code",
   "execution_count": 372,
   "metadata": {
    "collapsed": false
   },
   "outputs": [],
   "source": [
    "## TODO: Add plot with marked class."
   ]
  },
  {
   "cell_type": "markdown",
   "metadata": {},
   "source": [
    "## 3. Logistic regression"
   ]
  },
  {
   "cell_type": "markdown",
   "metadata": {},
   "source": [
    "## 3.1 Sigmoid function"
   ]
  },
  {
   "cell_type": "code",
   "execution_count": 373,
   "metadata": {
    "collapsed": true
   },
   "outputs": [],
   "source": [
    "def sigmoid(z):\n",
    "    return 1 / (1 + np.e ** -z)"
   ]
  },
  {
   "cell_type": "code",
   "execution_count": 374,
   "metadata": {
    "collapsed": false
   },
   "outputs": [
    {
     "data": {
      "text/plain": [
       "array([  5.00000000e-01,   7.31058579e-01,   8.80797078e-01,\n",
       "         4.53978687e-05,   3.72007598e-44])"
      ]
     },
     "execution_count": 374,
     "metadata": {},
     "output_type": "execute_result"
    }
   ],
   "source": [
    "sigmoid(np.array([0, 1, 2, -10, -100]))"
   ]
  },
  {
   "cell_type": "code",
   "execution_count": 375,
   "metadata": {
    "collapsed": true
   },
   "outputs": [],
   "source": [
    "assert sigmoid(0) == 0.5, \"Incorrect value.\""
   ]
  },
  {
   "cell_type": "code",
   "execution_count": 376,
   "metadata": {
    "collapsed": false
   },
   "outputs": [],
   "source": [
    "assert(round(sigmoid(10), 4) == 1), \"Incorrect value.\""
   ]
  },
  {
   "cell_type": "code",
   "execution_count": 377,
   "metadata": {
    "collapsed": false
   },
   "outputs": [],
   "source": [
    "assert(round(sigmoid(-10), 4) == 0), \"Incorrect value.\""
   ]
  },
  {
   "cell_type": "markdown",
   "metadata": {},
   "source": [
    "## 3.2 Cost function"
   ]
  },
  {
   "cell_type": "code",
   "execution_count": 378,
   "metadata": {
    "collapsed": true
   },
   "outputs": [],
   "source": [
    "# TODO: Add equations and descriptions here from writeup pdf."
   ]
  },
  {
   "cell_type": "code",
   "execution_count": 379,
   "metadata": {
    "collapsed": false
   },
   "outputs": [],
   "source": [
    "m, n = X.shape"
   ]
  },
  {
   "cell_type": "code",
   "execution_count": 380,
   "metadata": {
    "collapsed": false
   },
   "outputs": [],
   "source": [
    "X = np.array([np.ones(m), X[:, 0], X[:, 1]]).T"
   ]
  },
  {
   "cell_type": "code",
   "execution_count": 381,
   "metadata": {
    "collapsed": false
   },
   "outputs": [],
   "source": [
    "initial_theta = np.zeros((n + 1, 1))"
   ]
  },
  {
   "cell_type": "code",
   "execution_count": 382,
   "metadata": {
    "collapsed": false
   },
   "outputs": [],
   "source": [
    "def cost_function(theta, X, y):\n",
    "    prediction = sigmoid(np.dot(X, theta))\n",
    "    sum_exp = np.sum(-np.dot(y.T, np.log(prediction)) - np.dot((1 - y).T, np.log(1 - prediction)))\n",
    "    J_theta = 1 / m * sum_exp\n",
    "    return J_theta"
   ]
  },
  {
   "cell_type": "code",
   "execution_count": 383,
   "metadata": {
    "collapsed": false,
    "scrolled": true
   },
   "outputs": [],
   "source": [
    "J_theta = cost_function(initial_theta, X, y)"
   ]
  },
  {
   "cell_type": "code",
   "execution_count": 384,
   "metadata": {
    "collapsed": false
   },
   "outputs": [],
   "source": [
    "assert round(J_theta, 3) == 0.693, \"Incorrect value.\""
   ]
  },
  {
   "cell_type": "code",
   "execution_count": 385,
   "metadata": {
    "collapsed": false
   },
   "outputs": [
    {
     "data": {
      "text/plain": [
       "array([[-24. ],\n",
       "       [  0.2],\n",
       "       [  0.2]])"
      ]
     },
     "execution_count": 385,
     "metadata": {},
     "output_type": "execute_result"
    }
   ],
   "source": [
    "test_theta = np.array([-24, 0.2, 0.2]).reshape(3, 1)\n",
    "test_theta"
   ]
  },
  {
   "cell_type": "code",
   "execution_count": 386,
   "metadata": {
    "collapsed": false
   },
   "outputs": [],
   "source": [
    "J_theta = cost_function(test_theta, X, y)"
   ]
  },
  {
   "cell_type": "code",
   "execution_count": 387,
   "metadata": {
    "collapsed": false
   },
   "outputs": [],
   "source": [
    "assert round(J_theta, 3) == 0.218, \"Incorrect value.\""
   ]
  },
  {
   "cell_type": "markdown",
   "metadata": {},
   "source": [
    "## 3.3 Gradient descent"
   ]
  },
  {
   "cell_type": "code",
   "execution_count": 388,
   "metadata": {
    "collapsed": true
   },
   "outputs": [],
   "source": [
    "iters = 1500\n",
    "alpha = 0.01\n",
    "initial_theta = np.zeros((n + 1, 1))"
   ]
  },
  {
   "cell_type": "code",
   "execution_count": 389,
   "metadata": {
    "collapsed": false
   },
   "outputs": [
    {
     "data": {
      "text/plain": [
       "array([[ 0.],\n",
       "       [ 0.],\n",
       "       [ 0.]])"
      ]
     },
     "execution_count": 389,
     "metadata": {},
     "output_type": "execute_result"
    }
   ],
   "source": [
    "initial_theta"
   ]
  },
  {
   "cell_type": "code",
   "execution_count": 390,
   "metadata": {
    "collapsed": false
   },
   "outputs": [],
   "source": [
    "def gradient_descent(X, y, theta, alpha, iters):\n",
    "    m = len(y)\n",
    "    theta_res = theta.copy()\n",
    "    for _ in range(iters):\n",
    "        prediction = sigmoid(np.dot(X, theta_res))\n",
    "        diff = prediction - y.reshape(m, 1)\n",
    "        J_exp = (1 / m) * np.dot(X.T, diff)\n",
    "        theta_res = theta_res - alpha * J_exp\n",
    "    return theta_res"
   ]
  },
  {
   "cell_type": "code",
   "execution_count": 391,
   "metadata": {
    "collapsed": false
   },
   "outputs": [],
   "source": [
    "theta_res = gradient_descent(X, y, initial_theta, alpha, iters)"
   ]
  },
  {
   "cell_type": "code",
   "execution_count": 392,
   "metadata": {
    "collapsed": false
   },
   "outputs": [
    {
     "data": {
      "text/plain": [
       "array([[-1.14871686],\n",
       "       [ 0.56980921],\n",
       "       [ 0.11139426]])"
      ]
     },
     "execution_count": 392,
     "metadata": {},
     "output_type": "execute_result"
    }
   ],
   "source": [
    "theta_res"
   ]
  },
  {
   "cell_type": "code",
   "execution_count": 393,
   "metadata": {
    "collapsed": true
   },
   "outputs": [],
   "source": [
    "# TODO: Implement this using optimizers like here:\n",
    "# https://stackoverflow.com/questions/18801002/fminunc-alternate-in-numpy"
   ]
  },
  {
   "cell_type": "code",
   "execution_count": 345,
   "metadata": {
    "collapsed": true
   },
   "outputs": [],
   "source": [
    "# TODO: Visualize the boundary"
   ]
  },
  {
   "cell_type": "code",
   "execution_count": 346,
   "metadata": {
    "collapsed": true
   },
   "outputs": [],
   "source": [
    "# TODO: Predict"
   ]
  },
  {
   "cell_type": "code",
   "execution_count": null,
   "metadata": {
    "collapsed": true
   },
   "outputs": [],
   "source": []
  }
 ],
 "metadata": {
  "kernelspec": {
   "display_name": "Python 3",
   "language": "python",
   "name": "python3"
  },
  "language_info": {
   "codemirror_mode": {
    "name": "ipython",
    "version": 3
   },
   "file_extension": ".py",
   "mimetype": "text/x-python",
   "name": "python",
   "nbconvert_exporter": "python",
   "pygments_lexer": "ipython3",
   "version": "3.6.3"
  }
 },
 "nbformat": 4,
 "nbformat_minor": 2
}
