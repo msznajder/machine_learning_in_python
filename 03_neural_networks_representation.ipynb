{
 "cells": [
  {
   "cell_type": "code",
   "execution_count": 1,
   "metadata": {
    "collapsed": true
   },
   "outputs": [],
   "source": [
    "import numpy as np"
   ]
  },
  {
   "cell_type": "code",
   "execution_count": 2,
   "metadata": {
    "collapsed": false
   },
   "outputs": [
    {
     "name": "stdout",
     "output_type": "stream",
     "text": [
      "ex1data1.txt   ex2data1.txt   ex3data1.mat\r\n",
      "ex1data2.txt   ex2data2.txt   ex3weights.mat\r\n"
     ]
    }
   ],
   "source": [
    "!ls datasets/"
   ]
  },
  {
   "cell_type": "code",
   "execution_count": 13,
   "metadata": {
    "collapsed": false
   },
   "outputs": [],
   "source": [
    "X = np.loadtxt(\"datasets/ex3data1_X.txt\", delimiter=\",\")\n",
    "y = np.loadtxt(\"datasets/ex3data1_y.txt\", delimiter=\",\")"
   ]
  },
  {
   "cell_type": "code",
   "execution_count": 2,
   "metadata": {
    "collapsed": false
   },
   "outputs": [
    {
     "ename": "NameError",
     "evalue": "name 'X' is not defined",
     "output_type": "error",
     "traceback": [
      "\u001b[0;31m---------------------------------------------------------------------------\u001b[0m",
      "\u001b[0;31mNameError\u001b[0m                                 Traceback (most recent call last)",
      "\u001b[0;32m<ipython-input-2-253bcac7dd80>\u001b[0m in \u001b[0;36m<module>\u001b[0;34m()\u001b[0m\n\u001b[0;32m----> 1\u001b[0;31m \u001b[0mX\u001b[0m\u001b[0;34m\u001b[0m\u001b[0m\n\u001b[0m",
      "\u001b[0;31mNameError\u001b[0m: name 'X' is not defined"
     ]
    }
   ],
   "source": [
    "X"
   ]
  },
  {
   "cell_type": "code",
   "execution_count": 1,
   "metadata": {
    "collapsed": false
   },
   "outputs": [
    {
     "ename": "NameError",
     "evalue": "name 'X' is not defined",
     "output_type": "error",
     "traceback": [
      "\u001b[0;31m---------------------------------------------------------------------------\u001b[0m",
      "\u001b[0;31mNameError\u001b[0m                                 Traceback (most recent call last)",
      "\u001b[0;32m<ipython-input-1-253bcac7dd80>\u001b[0m in \u001b[0;36m<module>\u001b[0;34m()\u001b[0m\n\u001b[0;32m----> 1\u001b[0;31m \u001b[0mX\u001b[0m\u001b[0;34m\u001b[0m\u001b[0m\n\u001b[0m",
      "\u001b[0;31mNameError\u001b[0m: name 'X' is not defined"
     ]
    }
   ],
   "source": [
    "X.shape"
   ]
  },
  {
   "cell_type": "code",
   "execution_count": 16,
   "metadata": {
    "collapsed": false
   },
   "outputs": [
    {
     "data": {
      "text/plain": [
       "array([ 10.,  10.,  10., ...,   9.,   9.,   9.])"
      ]
     },
     "execution_count": 16,
     "metadata": {},
     "output_type": "execute_result"
    }
   ],
   "source": [
    "y"
   ]
  },
  {
   "cell_type": "code",
   "execution_count": 17,
   "metadata": {
    "collapsed": false
   },
   "outputs": [
    {
     "data": {
      "text/plain": [
       "(5000,)"
      ]
     },
     "execution_count": 17,
     "metadata": {},
     "output_type": "execute_result"
    }
   ],
   "source": [
    "y.shape"
   ]
  },
  {
   "cell_type": "code",
   "execution_count": null,
   "metadata": {
    "collapsed": true
   },
   "outputs": [],
   "source": [
    "## TODO: Visualize the data."
   ]
  },
  {
   "cell_type": "code",
   "execution_count": 25,
   "metadata": {
    "collapsed": false
   },
   "outputs": [],
   "source": [
    "theta_1 = np.loadtxt(\"datasets/ex3theta1.txt\", delimiter=\",\")\n",
    "theta_2 = np.loadtxt(\"datasets/ex3theta2.txt\", delimiter=\",\")"
   ]
  },
  {
   "cell_type": "code",
   "execution_count": 26,
   "metadata": {
    "collapsed": false
   },
   "outputs": [
    {
     "data": {
      "text/plain": [
       "array([[ -2.25620000e-02,  -1.05620000e-08,   2.19410000e-09, ...,\n",
       "         -1.30530000e-05,  -5.04180000e-06,   2.80460000e-09],\n",
       "       [ -9.83810000e-02,   7.66170000e-09,  -9.75870000e-09, ...,\n",
       "         -5.60130000e-05,   2.00940000e-07,   3.54420000e-09],\n",
       "       [  1.16160000e-01,  -8.77650000e-09,   8.16040000e-09, ...,\n",
       "         -1.20950000e-04,  -2.33670000e-06,  -7.50670000e-09],\n",
       "       ..., \n",
       "       [ -1.83220000e-01,  -8.89270000e-09,  -9.81970000e-09, ...,\n",
       "          2.35310000e-05,  -3.25480000e-06,   9.02500000e-09],\n",
       "       [ -7.02100000e-01,   3.05180000e-10,   2.56060000e-09, ...,\n",
       "         -8.61760000e-04,   9.43450000e-05,   3.83760000e-09],\n",
       "       [ -3.50930000e-01,   8.85880000e-09,  -6.57520000e-10, ...,\n",
       "         -1.80370000e-06,  -8.14460000e-06,   8.79450000e-09]])"
      ]
     },
     "execution_count": 26,
     "metadata": {},
     "output_type": "execute_result"
    }
   ],
   "source": [
    "theta_1"
   ]
  },
  {
   "cell_type": "code",
   "execution_count": 27,
   "metadata": {
    "collapsed": false
   },
   "outputs": [
    {
     "data": {
      "text/plain": [
       "(25, 401)"
      ]
     },
     "execution_count": 27,
     "metadata": {},
     "output_type": "execute_result"
    }
   ],
   "source": [
    "theta_1.shape"
   ]
  },
  {
   "cell_type": "code",
   "execution_count": 28,
   "metadata": {
    "collapsed": false
   },
   "outputs": [
    {
     "data": {
      "text/plain": [
       "array([[-0.761   , -1.2124  , -0.10187 , -2.3685  , -1.0578  , -2.2082  ,\n",
       "         0.56384 ,  1.2111  ,  2.2103  ,  0.44456 , -1.1824  ,  1.0429  ,\n",
       "        -1.6056  ,  1.3042  ,  1.3718  ,  1.7483  , -0.23366 , -1.5201  ,\n",
       "         1.1532  ,  0.10368 , -0.37208 , -0.6153  , -0.12568 , -2.2719  ,\n",
       "        -0.71836 , -1.2969  ],\n",
       "       [-0.61785 ,  0.61559 , -1.2655  ,  1.8575  , -0.91853 , -0.055026,\n",
       "        -0.3859  ,  1.2952  , -1.5684  , -0.97026 , -2.1833  , -2.8503  ,\n",
       "        -2.0773  ,  1.6316  ,  0.34902 ,  1.8279  , -2.4417  , -0.8563  ,\n",
       "        -0.29826 , -2.0795  , -1.2933  ,  0.89982 ,  0.28307 ,  2.3118  ,\n",
       "        -2.4644  ,  1.4566  ],\n",
       "       [-0.68934 , -1.9454  ,  2.0136  , -3.1232  , -0.23618 ,  1.3868  ,\n",
       "         0.90982 , -1.5477  , -0.79831 , -0.656   ,  0.73538 , -2.5859  ,\n",
       "         0.47211 ,  0.55349 ,  2.5126  , -2.4167  , -1.639   ,  1.2027  ,\n",
       "        -1.2025  , -1.8345  , -1.8801  , -0.34056 ,  0.23692 , -1.0614  ,\n",
       "         1.0276  , -0.47691 ],\n",
       "       [-0.67832 ,  0.46299 ,  0.58492 , -0.16502 ,  1.9326  , -0.22966 ,\n",
       "        -1.8473  ,  0.49012 ,  1.0715  , -3.3191  ,  1.5411  ,  0.37372 ,\n",
       "        -0.86485 , -2.5827  ,  0.97062 , -0.51022 , -0.68428 , -1.6471  ,\n",
       "         0.21153 , -0.27422 ,  1.726   ,  1.3242  , -2.6398  , -0.080559,\n",
       "        -2.0351  , -1.4612  ],\n",
       "       [-0.59664 , -2.0448  ,  2.057   ,  1.951   ,  0.17638 , -2.1614  ,\n",
       "        -0.40395 ,  1.8016  , -1.5628  , -0.25253 ,  0.23586 ,  0.71657 ,\n",
       "         1.0769  , -0.35457 , -1.6774  , -0.12939 , -0.67489 ,  1.1407  ,\n",
       "         1.3243  ,  3.2116  , -2.1589  , -2.6016  , -3.2226  , -1.8961  ,\n",
       "        -0.87488 ,  2.5104  ],\n",
       "       [-0.87795 ,  0.43441 , -0.93161 ,  0.18391 , -0.36078 ,  0.61958 ,\n",
       "         0.38625 , -2.6515  ,  2.2971  , -2.0882  , -1.8638  ,  1.0606  ,\n",
       "         0.77562 ,  2.1347  , -1.1497  , -0.52081 ,  0.99743 , -1.4831  ,\n",
       "        -2.3139  ,  0.29517 , -0.38705 , -2.2061  ,  0.30702 , -1.1765  ,\n",
       "        -1.6346  , -0.82468 ],\n",
       "       [-0.52747 ,  1.2156  , -1.501   , -2.032   , -1.5237  , -2.4373  ,\n",
       "        -2.3757  , -1.3999  , -0.88735 , -0.63279 ,  1.5045  , -1.5808  ,\n",
       "         0.58599 , -0.7754  ,  0.94257 ,  2.1092  ,  0.54479 ,  0.43774 ,\n",
       "        -1.2802  , -0.04361 ,  1.4775  , -1.1328  , -0.72847 ,  0.047347,\n",
       "         1.6575  ,  1.6854  ],\n",
       "       [-0.74902 , -0.72249 , -3.1523  ,  0.36578 ,  0.19811 , -0.7306  ,\n",
       "         1.6526  , -2.3004  , -1.8747  ,  0.98095 , -1.5883  ,  1.3543  ,\n",
       "         2.179   , -1.9924  , -2.0037  , -0.38861 , -2.3399  , -2.9172  ,\n",
       "         0.99399 , -2.7048  , -1.2714  ,  1.8609  , -1.2052  , -0.38014 ,\n",
       "         0.70872 , -2.1101  ],\n",
       "       [-0.66655 ,  0.53602 ,  1.3031  , -1.0337  , -4.0308  ,  0.58173 ,\n",
       "        -2.6572  ,  0.8038  , -1.0924  ,  2.4991  ,  0.36201 ,  0.66195 ,\n",
       "        -0.92161 , -0.83124 , -2.002   , -2.949   ,  0.64564 , -1.1011  ,\n",
       "         0.7451  ,  0.58507 , -1.9955  ,  0.62591 ,  1.806   , -0.22309 ,\n",
       "        -1.4044  , -2.1319  ],\n",
       "       [-0.46089 , -1.4394  , -1.2181  ,  0.71093 ,  0.45217 , -0.35953 ,\n",
       "         0.62285 , -0.67005 , -0.70691 ,  0.063114, -1.232   , -1.7465  ,\n",
       "        -2.7196  , -2.2144  , -1.6931  , -0.90927 ,  0.87852 ,  1.1866  ,\n",
       "        -1.8704  ,  0.39796 ,  1.7211  , -1.3693  ,  0.85807 , -0.2478  ,\n",
       "         1.2801  , -1.3275  ]])"
      ]
     },
     "execution_count": 28,
     "metadata": {},
     "output_type": "execute_result"
    }
   ],
   "source": [
    "theta_2"
   ]
  },
  {
   "cell_type": "code",
   "execution_count": 29,
   "metadata": {
    "collapsed": false
   },
   "outputs": [
    {
     "data": {
      "text/plain": [
       "(10, 26)"
      ]
     },
     "execution_count": 29,
     "metadata": {},
     "output_type": "execute_result"
    }
   ],
   "source": [
    "theta_2.shape"
   ]
  },
  {
   "cell_type": "code",
   "execution_count": 47,
   "metadata": {
    "collapsed": false
   },
   "outputs": [],
   "source": [
    "# Insert bias unit to the data.\n",
    "X_bias = np.insert(X, 0, np.ones(5000), 1)"
   ]
  },
  {
   "cell_type": "code",
   "execution_count": 54,
   "metadata": {
    "collapsed": false
   },
   "outputs": [
    {
     "data": {
      "text/plain": [
       "(5000, 401)"
      ]
     },
     "execution_count": 54,
     "metadata": {},
     "output_type": "execute_result"
    }
   ],
   "source": [
    "X_bias.shape"
   ]
  },
  {
   "cell_type": "code",
   "execution_count": 56,
   "metadata": {
    "collapsed": true
   },
   "outputs": [],
   "source": [
    "def sigmoid(z):\n",
    "    return 1 / (1 + np.e ** -z)"
   ]
  },
  {
   "cell_type": "code",
   "execution_count": 209,
   "metadata": {
    "collapsed": false
   },
   "outputs": [],
   "source": [
    "def predict(theta_1, theta_2, X):\n",
    "    z_2 = np.dot(theta_1, X.T)\n",
    "    a_2 = sigmoid(z_2)\n",
    "    a_2_bias = np.insert(a_2, 0, np.ones(5000), 0)\n",
    "    \n",
    "    z_3 = np.dot(theta_2, a_2_bias)\n",
    "    a_2 = sigmoid(z_3)\n",
    "    h = a_2 >= 0.5\n",
    "    h = h.astype(int)\n",
    "    prediction = np.argmax(h, axis=0) + 1\n",
    "    \n",
    "    return h, prediction"
   ]
  },
  {
   "cell_type": "code",
   "execution_count": 210,
   "metadata": {
    "collapsed": false
   },
   "outputs": [],
   "source": [
    "h, prediction = predict(theta_1, theta_2, X_bias)"
   ]
  },
  {
   "cell_type": "code",
   "execution_count": 211,
   "metadata": {
    "collapsed": false
   },
   "outputs": [
    {
     "data": {
      "text/plain": [
       "array([[0, 0, 0, 0, 0, 0, 0, 0, 0, 0],\n",
       "       [0, 0, 0, 0, 0, 0, 0, 0, 0, 0],\n",
       "       [0, 0, 0, 0, 0, 0, 0, 0, 0, 0],\n",
       "       [0, 0, 0, 0, 0, 0, 0, 0, 0, 0],\n",
       "       [0, 0, 0, 0, 0, 0, 0, 0, 0, 0],\n",
       "       [0, 0, 0, 0, 0, 0, 0, 0, 0, 0],\n",
       "       [0, 0, 0, 0, 0, 0, 0, 0, 0, 0],\n",
       "       [0, 0, 0, 0, 0, 0, 0, 0, 0, 0],\n",
       "       [0, 0, 0, 0, 0, 0, 0, 0, 0, 0],\n",
       "       [1, 1, 1, 1, 1, 1, 1, 1, 1, 1]])"
      ]
     },
     "execution_count": 211,
     "metadata": {},
     "output_type": "execute_result"
    }
   ],
   "source": [
    "h[:, 0:10]"
   ]
  },
  {
   "cell_type": "code",
   "execution_count": 200,
   "metadata": {
    "collapsed": false
   },
   "outputs": [
    {
     "data": {
      "text/plain": [
       "array([10, 10, 10, 10, 10, 10, 10, 10, 10, 10])"
      ]
     },
     "execution_count": 200,
     "metadata": {},
     "output_type": "execute_result"
    }
   ],
   "source": [
    "prediction[0:10]"
   ]
  },
  {
   "cell_type": "code",
   "execution_count": 201,
   "metadata": {
    "collapsed": false
   },
   "outputs": [
    {
     "data": {
      "text/plain": [
       "array([ 10.,  10.,  10.,  10.,  10.,  10.,  10.,  10.,  10.,  10.])"
      ]
     },
     "execution_count": 201,
     "metadata": {},
     "output_type": "execute_result"
    }
   ],
   "source": [
    "y[:10]"
   ]
  },
  {
   "cell_type": "code",
   "execution_count": 202,
   "metadata": {
    "collapsed": false
   },
   "outputs": [
    {
     "data": {
      "text/plain": [
       "array([[0, 0, 0, 0, 0, 0, 0, 0, 0, 0],\n",
       "       [0, 0, 0, 0, 0, 0, 0, 0, 0, 0],\n",
       "       [0, 0, 0, 0, 0, 0, 0, 0, 0, 0],\n",
       "       [1, 1, 1, 1, 1, 1, 1, 1, 1, 1],\n",
       "       [0, 0, 0, 0, 0, 0, 0, 0, 0, 0],\n",
       "       [0, 0, 0, 0, 0, 0, 0, 0, 0, 0],\n",
       "       [0, 0, 0, 0, 0, 0, 0, 0, 0, 0],\n",
       "       [0, 0, 0, 0, 0, 0, 0, 0, 0, 0],\n",
       "       [0, 0, 0, 0, 0, 0, 0, 0, 0, 0],\n",
       "       [0, 0, 0, 0, 0, 0, 0, 0, 0, 0]])"
      ]
     },
     "execution_count": 202,
     "metadata": {},
     "output_type": "execute_result"
    }
   ],
   "source": [
    "h[:, 2000:2010]"
   ]
  },
  {
   "cell_type": "code",
   "execution_count": 203,
   "metadata": {
    "collapsed": false
   },
   "outputs": [
    {
     "data": {
      "text/plain": [
       "array([4, 4, 4, 4, 4, 4, 4, 4, 4, 4])"
      ]
     },
     "execution_count": 203,
     "metadata": {},
     "output_type": "execute_result"
    }
   ],
   "source": [
    "prediction[2000:2010]"
   ]
  },
  {
   "cell_type": "code",
   "execution_count": 204,
   "metadata": {
    "collapsed": false
   },
   "outputs": [
    {
     "data": {
      "text/plain": [
       "array([ 4.,  4.,  4.,  4.,  4.,  4.,  4.,  4.,  4.,  4.])"
      ]
     },
     "execution_count": 204,
     "metadata": {},
     "output_type": "execute_result"
    }
   ],
   "source": [
    "y[2000:2010]"
   ]
  },
  {
   "cell_type": "code",
   "execution_count": 206,
   "metadata": {
    "collapsed": true
   },
   "outputs": [],
   "source": [
    "def get_pred_accuracy(prediction, y):\n",
    "    return np.mean(prediction == y)"
   ]
  },
  {
   "cell_type": "code",
   "execution_count": 207,
   "metadata": {
    "collapsed": false
   },
   "outputs": [
    {
     "data": {
      "text/plain": [
       "0.94620000000000004"
      ]
     },
     "execution_count": 207,
     "metadata": {},
     "output_type": "execute_result"
    }
   ],
   "source": [
    "get_pred_accuracy(prediction, y)"
   ]
  },
  {
   "cell_type": "code",
   "execution_count": 208,
   "metadata": {
    "collapsed": true
   },
   "outputs": [],
   "source": [
    "## TODO: Randomly permute examples and predict results for individual digits with visualizations."
   ]
  },
  {
   "cell_type": "markdown",
   "metadata": {
    "collapsed": true
   },
   "source": []
  },
  {
   "cell_type": "code",
   "execution_count": null,
   "metadata": {
    "collapsed": true
   },
   "outputs": [],
   "source": []
  },
  {
   "cell_type": "code",
   "execution_count": null,
   "metadata": {
    "collapsed": true
   },
   "outputs": [],
   "source": []
  },
  {
   "cell_type": "code",
   "execution_count": null,
   "metadata": {
    "collapsed": true
   },
   "outputs": [],
   "source": []
  }
 ],
 "metadata": {
  "kernelspec": {
   "display_name": "Python 3",
   "language": "python",
   "name": "python3"
  },
  "language_info": {
   "codemirror_mode": {
    "name": "ipython",
    "version": 3
   },
   "file_extension": ".py",
   "mimetype": "text/x-python",
   "name": "python",
   "nbconvert_exporter": "python",
   "pygments_lexer": "ipython3",
   "version": "3.6.3"
  }
 },
 "nbformat": 4,
 "nbformat_minor": 2
}
